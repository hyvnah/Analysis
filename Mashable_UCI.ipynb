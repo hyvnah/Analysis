{
  "nbformat": 4,
  "nbformat_minor": 0,
  "metadata": {
    "colab": {
      "name": "Mashable - UCI",
      "provenance": [],
      "collapsed_sections": [
        "ga8vje1Vo0dJ",
        "EYEXzIIXo6_E",
        "NZ3k7HFHpSKv",
        "cvCWSQXbQ5Tg"
      ]
    },
    "kernelspec": {
      "name": "python3",
      "display_name": "Python 3"
    }
  },
  "cells": [
    {
      "cell_type": "markdown",
      "metadata": {
        "id": "rTYksSn2P7uK",
        "colab_type": "text"
      },
      "source": [
        "# **데이터 분석 보고서**\n",
        "\n",
        "‘Mashable’은 2005년 7월에 설립된 디지털 미디어 전문지이다.\n",
        "\n",
        "한 때는 웹과 관련된 소식들을 깊이 있게 전달하며 IT 미디어의 대표이자 온라인 미디어 선두주자로 불렸다.\n",
        "\n",
        "하지만 지난 2016년 직원 30%를 감원하고 고위 임원들을 대거 정리하는 등 대대적인 구조조정을 강행했음에도 불구하고\n",
        "기존에 평가받던 가치의 1/5 정도에 해당하는 값으로 2017년 매각되었다.\n",
        "\n",
        "이때 ‘Mashable’ 기사의 데이터를 이용하여 당시에 ‘Mashable’이 보완했어야 할 부분을 파악하고 개선책을 제시할 것이다."
      ]
    },
    {
      "cell_type": "markdown",
      "metadata": {
        "id": "ga8vje1Vo0dJ",
        "colab_type": "text"
      },
      "source": [
        "# **데이터 출처 및 변수 설명**"
      ]
    },
    {
      "cell_type": "markdown",
      "metadata": {
        "id": "ptEST0AKguEK",
        "colab_type": "text"
      },
      "source": [
        "https://archive.ics.uci.edu/ml/datasets/Online+News+Popularity\n",
        "\n",
        "'Mashable’에서 2년 동안 게시한 기사에 대한 요약 데이터\n",
        "\n",
        "0. url: URL of the article (non-predictive)\n",
        "1. timedelta: Days between the article publication and the dataset acquisition (non-predictive)\n",
        "2. n_tokens_title: Number of words in the title\n",
        "3. n_tokens_content: Number of words in the content\n",
        "4. n_unique_tokens: Rate of unique words in the content\n",
        "5. n_non_stop_words: Rate of non-stop words in the content\n",
        "6. n_non_stop_unique_tokens: Rate of unique non-stop words in the content\n",
        "7. num_hrefs: Number of links\n",
        "8. num_self_hrefs: Number of links to other articles published by Mashable\n",
        "9. num_imgs: Number of images\n",
        "10. num_videos: Number of videos\n",
        "11. average_token_length: Average length of the words in the content\n",
        "12. num_keywords: Number of keywords in the metadata\n",
        "13. data_channel_is_lifestyle: Is data channel 'Lifestyle'?\n",
        "14. data_channel_is_entertainment: Is data channel 'Entertainment'?\n",
        "15. data_channel_is_bus: Is data channel 'Business'?\n",
        "16. data_channel_is_socmed: Is data channel 'Social Media'?\n",
        "17. data_channel_is_tech: Is data channel 'Tech'?\n",
        "18. data_channel_is_world: Is data channel 'World'?\n",
        "19. kw_min_min: Worst keyword (min. shares)\n",
        "20. kw_max_min: Worst keyword (max. shares)\n",
        "21. kw_avg_min: Worst keyword (avg. shares)\n",
        "22. kw_min_max: Best keyword (min. shares)\n",
        "23. kw_max_max: Best keyword (max. shares)\n",
        "24. kw_avg_max: Best keyword (avg. shares)\n",
        "25. kw_min_avg: Avg. keyword (min. shares)\n",
        "26. kw_max_avg: Avg. keyword (max. shares)\n",
        "27. kw_avg_avg: Avg. keyword (avg. shares)\n",
        "28. self_reference_min_shares: Min. shares of referenced articles in Mashable\n",
        "29. self_reference_max_shares: Max. shares of referenced articles in Mashable\n",
        "30. self_reference_avg_sharess: Avg. shares of referenced articles in Mashable\n",
        "31. weekday_is_monday: Was the article published on a Monday?\n",
        "32. weekday_is_tuesday: Was the article published on a Tuesday?\n",
        "33. weekday_is_wednesday: Was the article published on a Wednesday?\n",
        "34. weekday_is_thursday: Was the article published on a Thursday?\n",
        "35. weekday_is_friday: Was the article published on a Friday?\n",
        "36. weekday_is_saturday: Was the article published on a Saturday?\n",
        "37. weekday_is_sunday: Was the article published on a Sunday?\n",
        "38. is_weekend: Was the article published on the weekend?\n",
        "39. LDA_00: Closeness to LDA topic 0\n",
        "40. LDA_01: Closeness to LDA topic 1\n",
        "41. LDA_02: Closeness to LDA topic 2\n",
        "42. LDA_03: Closeness to LDA topic 3\n",
        "43. LDA_04: Closeness to LDA topic 4\n",
        "44. global_subjectivity: Text subjectivity\n",
        "45. global_sentiment_polarity: Text sentiment polarity\n",
        "46. global_rate_positive_words: Rate of positive words in the content\n",
        "47. global_rate_negative_words: Rate of negative words in the content\n",
        "48. rate_positive_words: Rate of positive words among non-neutral tokens\n",
        "49. rate_negative_words: Rate of negative words among non-neutral tokens\n",
        "50. avg_positive_polarity: Avg. polarity of positive words\n",
        "51. min_positive_polarity: Min. polarity of positive words\n",
        "52. max_positive_polarity: Max. polarity of positive words\n",
        "53. avg_negative_polarity: Avg. polarity of negative words\n",
        "54. min_negative_polarity: Min. polarity of negative words\n",
        "55. max_negative_polarity: Max. polarity of negative words\n",
        "56. title_subjectivity: Title subjectivity\n",
        "57. title_sentiment_polarity: Title polarity\n",
        "58. abs_title_subjectivity: Absolute subjectivity level\n",
        "59. abs_title_sentiment_polarity: Absolute polarity level\n",
        "60. shares: Number of shares (target)"
      ]
    },
    {
      "cell_type": "markdown",
      "metadata": {
        "id": "EYEXzIIXo6_E",
        "colab_type": "text"
      },
      "source": [
        "# **데이터 처리**"
      ]
    },
    {
      "cell_type": "code",
      "metadata": {
        "id": "8FVpOmQjgA_m",
        "colab_type": "code",
        "colab": {
          "base_uri": "https://localhost:8080/",
          "height": 34
        },
        "outputId": "3df2bf8c-d7ad-4714-a755-19453057c8af"
      },
      "source": [
        "from google.colab import drive\n",
        "drive.mount('/content/drive')"
      ],
      "execution_count": null,
      "outputs": [
        {
          "output_type": "stream",
          "text": [
            "Mounted at /content/drive\n"
          ],
          "name": "stdout"
        }
      ]
    },
    {
      "cell_type": "code",
      "metadata": {
        "id": "JbUtVCYFg4MQ",
        "colab_type": "code",
        "colab": {}
      },
      "source": [
        "import pandas as pd"
      ],
      "execution_count": null,
      "outputs": []
    },
    {
      "cell_type": "code",
      "metadata": {
        "id": "YDeyns13gQJC",
        "colab_type": "code",
        "colab": {
          "base_uri": "https://localhost:8080/",
          "height": 609
        },
        "outputId": "9e29e8f3-1ca1-43da-92d7-fe06aeffbeed"
      },
      "source": [
        "#데이터 불러오기\n",
        "news=pd.read_csv('/content/drive/My Drive/Colab Notebooks/data/OnlineNewsPopularity.csv')\n",
        "news"
      ],
      "execution_count": null,
      "outputs": [
        {
          "output_type": "execute_result",
          "data": {
            "text/html": [
              "<div>\n",
              "<style scoped>\n",
              "    .dataframe tbody tr th:only-of-type {\n",
              "        vertical-align: middle;\n",
              "    }\n",
              "\n",
              "    .dataframe tbody tr th {\n",
              "        vertical-align: top;\n",
              "    }\n",
              "\n",
              "    .dataframe thead th {\n",
              "        text-align: right;\n",
              "    }\n",
              "</style>\n",
              "<table border=\"1\" class=\"dataframe\">\n",
              "  <thead>\n",
              "    <tr style=\"text-align: right;\">\n",
              "      <th></th>\n",
              "      <th>url</th>\n",
              "      <th>timedelta</th>\n",
              "      <th>n_tokens_title</th>\n",
              "      <th>n_tokens_content</th>\n",
              "      <th>n_unique_tokens</th>\n",
              "      <th>n_non_stop_words</th>\n",
              "      <th>n_non_stop_unique_tokens</th>\n",
              "      <th>num_hrefs</th>\n",
              "      <th>num_self_hrefs</th>\n",
              "      <th>num_imgs</th>\n",
              "      <th>num_videos</th>\n",
              "      <th>average_token_length</th>\n",
              "      <th>num_keywords</th>\n",
              "      <th>data_channel_is_lifestyle</th>\n",
              "      <th>data_channel_is_entertainment</th>\n",
              "      <th>data_channel_is_bus</th>\n",
              "      <th>data_channel_is_socmed</th>\n",
              "      <th>data_channel_is_tech</th>\n",
              "      <th>data_channel_is_world</th>\n",
              "      <th>kw_min_min</th>\n",
              "      <th>kw_max_min</th>\n",
              "      <th>kw_avg_min</th>\n",
              "      <th>kw_min_max</th>\n",
              "      <th>kw_max_max</th>\n",
              "      <th>kw_avg_max</th>\n",
              "      <th>kw_min_avg</th>\n",
              "      <th>kw_max_avg</th>\n",
              "      <th>kw_avg_avg</th>\n",
              "      <th>self_reference_min_shares</th>\n",
              "      <th>self_reference_max_shares</th>\n",
              "      <th>self_reference_avg_sharess</th>\n",
              "      <th>weekday_is_monday</th>\n",
              "      <th>weekday_is_tuesday</th>\n",
              "      <th>weekday_is_wednesday</th>\n",
              "      <th>weekday_is_thursday</th>\n",
              "      <th>weekday_is_friday</th>\n",
              "      <th>weekday_is_saturday</th>\n",
              "      <th>weekday_is_sunday</th>\n",
              "      <th>is_weekend</th>\n",
              "      <th>LDA_00</th>\n",
              "      <th>LDA_01</th>\n",
              "      <th>LDA_02</th>\n",
              "      <th>LDA_03</th>\n",
              "      <th>LDA_04</th>\n",
              "      <th>global_subjectivity</th>\n",
              "      <th>global_sentiment_polarity</th>\n",
              "      <th>global_rate_positive_words</th>\n",
              "      <th>global_rate_negative_words</th>\n",
              "      <th>rate_positive_words</th>\n",
              "      <th>rate_negative_words</th>\n",
              "      <th>avg_positive_polarity</th>\n",
              "      <th>min_positive_polarity</th>\n",
              "      <th>max_positive_polarity</th>\n",
              "      <th>avg_negative_polarity</th>\n",
              "      <th>min_negative_polarity</th>\n",
              "      <th>max_negative_polarity</th>\n",
              "      <th>title_subjectivity</th>\n",
              "      <th>title_sentiment_polarity</th>\n",
              "      <th>abs_title_subjectivity</th>\n",
              "      <th>abs_title_sentiment_polarity</th>\n",
              "      <th>shares</th>\n",
              "    </tr>\n",
              "  </thead>\n",
              "  <tbody>\n",
              "    <tr>\n",
              "      <th>0</th>\n",
              "      <td>http://mashable.com/2013/01/07/amazon-instant-...</td>\n",
              "      <td>731.0</td>\n",
              "      <td>12.0</td>\n",
              "      <td>219.0</td>\n",
              "      <td>0.663594</td>\n",
              "      <td>1.0</td>\n",
              "      <td>0.815385</td>\n",
              "      <td>4.0</td>\n",
              "      <td>2.0</td>\n",
              "      <td>1.0</td>\n",
              "      <td>0.0</td>\n",
              "      <td>4.680365</td>\n",
              "      <td>5.0</td>\n",
              "      <td>0.0</td>\n",
              "      <td>1.0</td>\n",
              "      <td>0.0</td>\n",
              "      <td>0.0</td>\n",
              "      <td>0.0</td>\n",
              "      <td>0.0</td>\n",
              "      <td>0.0</td>\n",
              "      <td>0.0</td>\n",
              "      <td>0.000</td>\n",
              "      <td>0.0</td>\n",
              "      <td>0.0</td>\n",
              "      <td>0.000000</td>\n",
              "      <td>0.000000</td>\n",
              "      <td>0.000000</td>\n",
              "      <td>0.000000</td>\n",
              "      <td>496.0</td>\n",
              "      <td>496.0</td>\n",
              "      <td>496.000000</td>\n",
              "      <td>1.0</td>\n",
              "      <td>0.0</td>\n",
              "      <td>0.0</td>\n",
              "      <td>0.0</td>\n",
              "      <td>0.0</td>\n",
              "      <td>0.0</td>\n",
              "      <td>0.0</td>\n",
              "      <td>0.0</td>\n",
              "      <td>0.500331</td>\n",
              "      <td>0.378279</td>\n",
              "      <td>0.040005</td>\n",
              "      <td>0.041263</td>\n",
              "      <td>0.040123</td>\n",
              "      <td>0.521617</td>\n",
              "      <td>0.092562</td>\n",
              "      <td>0.045662</td>\n",
              "      <td>0.013699</td>\n",
              "      <td>0.769231</td>\n",
              "      <td>0.230769</td>\n",
              "      <td>0.378636</td>\n",
              "      <td>0.100000</td>\n",
              "      <td>0.70</td>\n",
              "      <td>-0.350000</td>\n",
              "      <td>-0.600</td>\n",
              "      <td>-0.200000</td>\n",
              "      <td>0.500000</td>\n",
              "      <td>-0.187500</td>\n",
              "      <td>0.000000</td>\n",
              "      <td>0.187500</td>\n",
              "      <td>593</td>\n",
              "    </tr>\n",
              "    <tr>\n",
              "      <th>1</th>\n",
              "      <td>http://mashable.com/2013/01/07/ap-samsung-spon...</td>\n",
              "      <td>731.0</td>\n",
              "      <td>9.0</td>\n",
              "      <td>255.0</td>\n",
              "      <td>0.604743</td>\n",
              "      <td>1.0</td>\n",
              "      <td>0.791946</td>\n",
              "      <td>3.0</td>\n",
              "      <td>1.0</td>\n",
              "      <td>1.0</td>\n",
              "      <td>0.0</td>\n",
              "      <td>4.913725</td>\n",
              "      <td>4.0</td>\n",
              "      <td>0.0</td>\n",
              "      <td>0.0</td>\n",
              "      <td>1.0</td>\n",
              "      <td>0.0</td>\n",
              "      <td>0.0</td>\n",
              "      <td>0.0</td>\n",
              "      <td>0.0</td>\n",
              "      <td>0.0</td>\n",
              "      <td>0.000</td>\n",
              "      <td>0.0</td>\n",
              "      <td>0.0</td>\n",
              "      <td>0.000000</td>\n",
              "      <td>0.000000</td>\n",
              "      <td>0.000000</td>\n",
              "      <td>0.000000</td>\n",
              "      <td>0.0</td>\n",
              "      <td>0.0</td>\n",
              "      <td>0.000000</td>\n",
              "      <td>1.0</td>\n",
              "      <td>0.0</td>\n",
              "      <td>0.0</td>\n",
              "      <td>0.0</td>\n",
              "      <td>0.0</td>\n",
              "      <td>0.0</td>\n",
              "      <td>0.0</td>\n",
              "      <td>0.0</td>\n",
              "      <td>0.799756</td>\n",
              "      <td>0.050047</td>\n",
              "      <td>0.050096</td>\n",
              "      <td>0.050101</td>\n",
              "      <td>0.050001</td>\n",
              "      <td>0.341246</td>\n",
              "      <td>0.148948</td>\n",
              "      <td>0.043137</td>\n",
              "      <td>0.015686</td>\n",
              "      <td>0.733333</td>\n",
              "      <td>0.266667</td>\n",
              "      <td>0.286915</td>\n",
              "      <td>0.033333</td>\n",
              "      <td>0.70</td>\n",
              "      <td>-0.118750</td>\n",
              "      <td>-0.125</td>\n",
              "      <td>-0.100000</td>\n",
              "      <td>0.000000</td>\n",
              "      <td>0.000000</td>\n",
              "      <td>0.500000</td>\n",
              "      <td>0.000000</td>\n",
              "      <td>711</td>\n",
              "    </tr>\n",
              "    <tr>\n",
              "      <th>2</th>\n",
              "      <td>http://mashable.com/2013/01/07/apple-40-billio...</td>\n",
              "      <td>731.0</td>\n",
              "      <td>9.0</td>\n",
              "      <td>211.0</td>\n",
              "      <td>0.575130</td>\n",
              "      <td>1.0</td>\n",
              "      <td>0.663866</td>\n",
              "      <td>3.0</td>\n",
              "      <td>1.0</td>\n",
              "      <td>1.0</td>\n",
              "      <td>0.0</td>\n",
              "      <td>4.393365</td>\n",
              "      <td>6.0</td>\n",
              "      <td>0.0</td>\n",
              "      <td>0.0</td>\n",
              "      <td>1.0</td>\n",
              "      <td>0.0</td>\n",
              "      <td>0.0</td>\n",
              "      <td>0.0</td>\n",
              "      <td>0.0</td>\n",
              "      <td>0.0</td>\n",
              "      <td>0.000</td>\n",
              "      <td>0.0</td>\n",
              "      <td>0.0</td>\n",
              "      <td>0.000000</td>\n",
              "      <td>0.000000</td>\n",
              "      <td>0.000000</td>\n",
              "      <td>0.000000</td>\n",
              "      <td>918.0</td>\n",
              "      <td>918.0</td>\n",
              "      <td>918.000000</td>\n",
              "      <td>1.0</td>\n",
              "      <td>0.0</td>\n",
              "      <td>0.0</td>\n",
              "      <td>0.0</td>\n",
              "      <td>0.0</td>\n",
              "      <td>0.0</td>\n",
              "      <td>0.0</td>\n",
              "      <td>0.0</td>\n",
              "      <td>0.217792</td>\n",
              "      <td>0.033334</td>\n",
              "      <td>0.033351</td>\n",
              "      <td>0.033334</td>\n",
              "      <td>0.682188</td>\n",
              "      <td>0.702222</td>\n",
              "      <td>0.323333</td>\n",
              "      <td>0.056872</td>\n",
              "      <td>0.009479</td>\n",
              "      <td>0.857143</td>\n",
              "      <td>0.142857</td>\n",
              "      <td>0.495833</td>\n",
              "      <td>0.100000</td>\n",
              "      <td>1.00</td>\n",
              "      <td>-0.466667</td>\n",
              "      <td>-0.800</td>\n",
              "      <td>-0.133333</td>\n",
              "      <td>0.000000</td>\n",
              "      <td>0.000000</td>\n",
              "      <td>0.500000</td>\n",
              "      <td>0.000000</td>\n",
              "      <td>1500</td>\n",
              "    </tr>\n",
              "    <tr>\n",
              "      <th>3</th>\n",
              "      <td>http://mashable.com/2013/01/07/astronaut-notre...</td>\n",
              "      <td>731.0</td>\n",
              "      <td>9.0</td>\n",
              "      <td>531.0</td>\n",
              "      <td>0.503788</td>\n",
              "      <td>1.0</td>\n",
              "      <td>0.665635</td>\n",
              "      <td>9.0</td>\n",
              "      <td>0.0</td>\n",
              "      <td>1.0</td>\n",
              "      <td>0.0</td>\n",
              "      <td>4.404896</td>\n",
              "      <td>7.0</td>\n",
              "      <td>0.0</td>\n",
              "      <td>1.0</td>\n",
              "      <td>0.0</td>\n",
              "      <td>0.0</td>\n",
              "      <td>0.0</td>\n",
              "      <td>0.0</td>\n",
              "      <td>0.0</td>\n",
              "      <td>0.0</td>\n",
              "      <td>0.000</td>\n",
              "      <td>0.0</td>\n",
              "      <td>0.0</td>\n",
              "      <td>0.000000</td>\n",
              "      <td>0.000000</td>\n",
              "      <td>0.000000</td>\n",
              "      <td>0.000000</td>\n",
              "      <td>0.0</td>\n",
              "      <td>0.0</td>\n",
              "      <td>0.000000</td>\n",
              "      <td>1.0</td>\n",
              "      <td>0.0</td>\n",
              "      <td>0.0</td>\n",
              "      <td>0.0</td>\n",
              "      <td>0.0</td>\n",
              "      <td>0.0</td>\n",
              "      <td>0.0</td>\n",
              "      <td>0.0</td>\n",
              "      <td>0.028573</td>\n",
              "      <td>0.419300</td>\n",
              "      <td>0.494651</td>\n",
              "      <td>0.028905</td>\n",
              "      <td>0.028572</td>\n",
              "      <td>0.429850</td>\n",
              "      <td>0.100705</td>\n",
              "      <td>0.041431</td>\n",
              "      <td>0.020716</td>\n",
              "      <td>0.666667</td>\n",
              "      <td>0.333333</td>\n",
              "      <td>0.385965</td>\n",
              "      <td>0.136364</td>\n",
              "      <td>0.80</td>\n",
              "      <td>-0.369697</td>\n",
              "      <td>-0.600</td>\n",
              "      <td>-0.166667</td>\n",
              "      <td>0.000000</td>\n",
              "      <td>0.000000</td>\n",
              "      <td>0.500000</td>\n",
              "      <td>0.000000</td>\n",
              "      <td>1200</td>\n",
              "    </tr>\n",
              "    <tr>\n",
              "      <th>4</th>\n",
              "      <td>http://mashable.com/2013/01/07/att-u-verse-apps/</td>\n",
              "      <td>731.0</td>\n",
              "      <td>13.0</td>\n",
              "      <td>1072.0</td>\n",
              "      <td>0.415646</td>\n",
              "      <td>1.0</td>\n",
              "      <td>0.540890</td>\n",
              "      <td>19.0</td>\n",
              "      <td>19.0</td>\n",
              "      <td>20.0</td>\n",
              "      <td>0.0</td>\n",
              "      <td>4.682836</td>\n",
              "      <td>7.0</td>\n",
              "      <td>0.0</td>\n",
              "      <td>0.0</td>\n",
              "      <td>0.0</td>\n",
              "      <td>0.0</td>\n",
              "      <td>1.0</td>\n",
              "      <td>0.0</td>\n",
              "      <td>0.0</td>\n",
              "      <td>0.0</td>\n",
              "      <td>0.000</td>\n",
              "      <td>0.0</td>\n",
              "      <td>0.0</td>\n",
              "      <td>0.000000</td>\n",
              "      <td>0.000000</td>\n",
              "      <td>0.000000</td>\n",
              "      <td>0.000000</td>\n",
              "      <td>545.0</td>\n",
              "      <td>16000.0</td>\n",
              "      <td>3151.157895</td>\n",
              "      <td>1.0</td>\n",
              "      <td>0.0</td>\n",
              "      <td>0.0</td>\n",
              "      <td>0.0</td>\n",
              "      <td>0.0</td>\n",
              "      <td>0.0</td>\n",
              "      <td>0.0</td>\n",
              "      <td>0.0</td>\n",
              "      <td>0.028633</td>\n",
              "      <td>0.028794</td>\n",
              "      <td>0.028575</td>\n",
              "      <td>0.028572</td>\n",
              "      <td>0.885427</td>\n",
              "      <td>0.513502</td>\n",
              "      <td>0.281003</td>\n",
              "      <td>0.074627</td>\n",
              "      <td>0.012127</td>\n",
              "      <td>0.860215</td>\n",
              "      <td>0.139785</td>\n",
              "      <td>0.411127</td>\n",
              "      <td>0.033333</td>\n",
              "      <td>1.00</td>\n",
              "      <td>-0.220192</td>\n",
              "      <td>-0.500</td>\n",
              "      <td>-0.050000</td>\n",
              "      <td>0.454545</td>\n",
              "      <td>0.136364</td>\n",
              "      <td>0.045455</td>\n",
              "      <td>0.136364</td>\n",
              "      <td>505</td>\n",
              "    </tr>\n",
              "    <tr>\n",
              "      <th>...</th>\n",
              "      <td>...</td>\n",
              "      <td>...</td>\n",
              "      <td>...</td>\n",
              "      <td>...</td>\n",
              "      <td>...</td>\n",
              "      <td>...</td>\n",
              "      <td>...</td>\n",
              "      <td>...</td>\n",
              "      <td>...</td>\n",
              "      <td>...</td>\n",
              "      <td>...</td>\n",
              "      <td>...</td>\n",
              "      <td>...</td>\n",
              "      <td>...</td>\n",
              "      <td>...</td>\n",
              "      <td>...</td>\n",
              "      <td>...</td>\n",
              "      <td>...</td>\n",
              "      <td>...</td>\n",
              "      <td>...</td>\n",
              "      <td>...</td>\n",
              "      <td>...</td>\n",
              "      <td>...</td>\n",
              "      <td>...</td>\n",
              "      <td>...</td>\n",
              "      <td>...</td>\n",
              "      <td>...</td>\n",
              "      <td>...</td>\n",
              "      <td>...</td>\n",
              "      <td>...</td>\n",
              "      <td>...</td>\n",
              "      <td>...</td>\n",
              "      <td>...</td>\n",
              "      <td>...</td>\n",
              "      <td>...</td>\n",
              "      <td>...</td>\n",
              "      <td>...</td>\n",
              "      <td>...</td>\n",
              "      <td>...</td>\n",
              "      <td>...</td>\n",
              "      <td>...</td>\n",
              "      <td>...</td>\n",
              "      <td>...</td>\n",
              "      <td>...</td>\n",
              "      <td>...</td>\n",
              "      <td>...</td>\n",
              "      <td>...</td>\n",
              "      <td>...</td>\n",
              "      <td>...</td>\n",
              "      <td>...</td>\n",
              "      <td>...</td>\n",
              "      <td>...</td>\n",
              "      <td>...</td>\n",
              "      <td>...</td>\n",
              "      <td>...</td>\n",
              "      <td>...</td>\n",
              "      <td>...</td>\n",
              "      <td>...</td>\n",
              "      <td>...</td>\n",
              "      <td>...</td>\n",
              "      <td>...</td>\n",
              "    </tr>\n",
              "    <tr>\n",
              "      <th>39639</th>\n",
              "      <td>http://mashable.com/2014/12/27/samsung-app-aut...</td>\n",
              "      <td>8.0</td>\n",
              "      <td>11.0</td>\n",
              "      <td>346.0</td>\n",
              "      <td>0.529052</td>\n",
              "      <td>1.0</td>\n",
              "      <td>0.684783</td>\n",
              "      <td>9.0</td>\n",
              "      <td>7.0</td>\n",
              "      <td>1.0</td>\n",
              "      <td>1.0</td>\n",
              "      <td>4.523121</td>\n",
              "      <td>8.0</td>\n",
              "      <td>0.0</td>\n",
              "      <td>0.0</td>\n",
              "      <td>0.0</td>\n",
              "      <td>0.0</td>\n",
              "      <td>1.0</td>\n",
              "      <td>0.0</td>\n",
              "      <td>-1.0</td>\n",
              "      <td>671.0</td>\n",
              "      <td>173.125</td>\n",
              "      <td>26900.0</td>\n",
              "      <td>843300.0</td>\n",
              "      <td>374962.500000</td>\n",
              "      <td>2514.742857</td>\n",
              "      <td>4004.342857</td>\n",
              "      <td>3031.115764</td>\n",
              "      <td>11400.0</td>\n",
              "      <td>48000.0</td>\n",
              "      <td>37033.333333</td>\n",
              "      <td>0.0</td>\n",
              "      <td>0.0</td>\n",
              "      <td>1.0</td>\n",
              "      <td>0.0</td>\n",
              "      <td>0.0</td>\n",
              "      <td>0.0</td>\n",
              "      <td>0.0</td>\n",
              "      <td>0.0</td>\n",
              "      <td>0.025038</td>\n",
              "      <td>0.025001</td>\n",
              "      <td>0.151701</td>\n",
              "      <td>0.025000</td>\n",
              "      <td>0.773260</td>\n",
              "      <td>0.482679</td>\n",
              "      <td>0.141964</td>\n",
              "      <td>0.037572</td>\n",
              "      <td>0.014451</td>\n",
              "      <td>0.722222</td>\n",
              "      <td>0.277778</td>\n",
              "      <td>0.333791</td>\n",
              "      <td>0.100000</td>\n",
              "      <td>0.75</td>\n",
              "      <td>-0.260000</td>\n",
              "      <td>-0.500</td>\n",
              "      <td>-0.125000</td>\n",
              "      <td>0.100000</td>\n",
              "      <td>0.000000</td>\n",
              "      <td>0.400000</td>\n",
              "      <td>0.000000</td>\n",
              "      <td>1800</td>\n",
              "    </tr>\n",
              "    <tr>\n",
              "      <th>39640</th>\n",
              "      <td>http://mashable.com/2014/12/27/seth-rogen-jame...</td>\n",
              "      <td>8.0</td>\n",
              "      <td>12.0</td>\n",
              "      <td>328.0</td>\n",
              "      <td>0.696296</td>\n",
              "      <td>1.0</td>\n",
              "      <td>0.885057</td>\n",
              "      <td>9.0</td>\n",
              "      <td>7.0</td>\n",
              "      <td>3.0</td>\n",
              "      <td>48.0</td>\n",
              "      <td>4.405488</td>\n",
              "      <td>7.0</td>\n",
              "      <td>0.0</td>\n",
              "      <td>0.0</td>\n",
              "      <td>0.0</td>\n",
              "      <td>1.0</td>\n",
              "      <td>0.0</td>\n",
              "      <td>0.0</td>\n",
              "      <td>-1.0</td>\n",
              "      <td>616.0</td>\n",
              "      <td>184.000</td>\n",
              "      <td>6500.0</td>\n",
              "      <td>843300.0</td>\n",
              "      <td>192985.714286</td>\n",
              "      <td>1664.267857</td>\n",
              "      <td>5470.168651</td>\n",
              "      <td>3411.660830</td>\n",
              "      <td>2100.0</td>\n",
              "      <td>2100.0</td>\n",
              "      <td>2100.000000</td>\n",
              "      <td>0.0</td>\n",
              "      <td>0.0</td>\n",
              "      <td>1.0</td>\n",
              "      <td>0.0</td>\n",
              "      <td>0.0</td>\n",
              "      <td>0.0</td>\n",
              "      <td>0.0</td>\n",
              "      <td>0.0</td>\n",
              "      <td>0.029349</td>\n",
              "      <td>0.028575</td>\n",
              "      <td>0.231866</td>\n",
              "      <td>0.681635</td>\n",
              "      <td>0.028575</td>\n",
              "      <td>0.564374</td>\n",
              "      <td>0.194249</td>\n",
              "      <td>0.039634</td>\n",
              "      <td>0.009146</td>\n",
              "      <td>0.812500</td>\n",
              "      <td>0.187500</td>\n",
              "      <td>0.374825</td>\n",
              "      <td>0.136364</td>\n",
              "      <td>0.70</td>\n",
              "      <td>-0.211111</td>\n",
              "      <td>-0.400</td>\n",
              "      <td>-0.100000</td>\n",
              "      <td>0.300000</td>\n",
              "      <td>1.000000</td>\n",
              "      <td>0.200000</td>\n",
              "      <td>1.000000</td>\n",
              "      <td>1900</td>\n",
              "    </tr>\n",
              "    <tr>\n",
              "      <th>39641</th>\n",
              "      <td>http://mashable.com/2014/12/27/son-pays-off-mo...</td>\n",
              "      <td>8.0</td>\n",
              "      <td>10.0</td>\n",
              "      <td>442.0</td>\n",
              "      <td>0.516355</td>\n",
              "      <td>1.0</td>\n",
              "      <td>0.644128</td>\n",
              "      <td>24.0</td>\n",
              "      <td>1.0</td>\n",
              "      <td>12.0</td>\n",
              "      <td>1.0</td>\n",
              "      <td>5.076923</td>\n",
              "      <td>8.0</td>\n",
              "      <td>0.0</td>\n",
              "      <td>0.0</td>\n",
              "      <td>0.0</td>\n",
              "      <td>0.0</td>\n",
              "      <td>0.0</td>\n",
              "      <td>0.0</td>\n",
              "      <td>-1.0</td>\n",
              "      <td>691.0</td>\n",
              "      <td>168.250</td>\n",
              "      <td>6200.0</td>\n",
              "      <td>843300.0</td>\n",
              "      <td>295850.000000</td>\n",
              "      <td>1753.882353</td>\n",
              "      <td>6880.687034</td>\n",
              "      <td>4206.439195</td>\n",
              "      <td>1400.0</td>\n",
              "      <td>1400.0</td>\n",
              "      <td>1400.000000</td>\n",
              "      <td>0.0</td>\n",
              "      <td>0.0</td>\n",
              "      <td>1.0</td>\n",
              "      <td>0.0</td>\n",
              "      <td>0.0</td>\n",
              "      <td>0.0</td>\n",
              "      <td>0.0</td>\n",
              "      <td>0.0</td>\n",
              "      <td>0.159004</td>\n",
              "      <td>0.025025</td>\n",
              "      <td>0.025207</td>\n",
              "      <td>0.643794</td>\n",
              "      <td>0.146970</td>\n",
              "      <td>0.510296</td>\n",
              "      <td>0.024609</td>\n",
              "      <td>0.033937</td>\n",
              "      <td>0.024887</td>\n",
              "      <td>0.576923</td>\n",
              "      <td>0.423077</td>\n",
              "      <td>0.307273</td>\n",
              "      <td>0.136364</td>\n",
              "      <td>0.50</td>\n",
              "      <td>-0.356439</td>\n",
              "      <td>-0.800</td>\n",
              "      <td>-0.166667</td>\n",
              "      <td>0.454545</td>\n",
              "      <td>0.136364</td>\n",
              "      <td>0.045455</td>\n",
              "      <td>0.136364</td>\n",
              "      <td>1900</td>\n",
              "    </tr>\n",
              "    <tr>\n",
              "      <th>39642</th>\n",
              "      <td>http://mashable.com/2014/12/27/ukraine-blasts/</td>\n",
              "      <td>8.0</td>\n",
              "      <td>6.0</td>\n",
              "      <td>682.0</td>\n",
              "      <td>0.539493</td>\n",
              "      <td>1.0</td>\n",
              "      <td>0.692661</td>\n",
              "      <td>10.0</td>\n",
              "      <td>1.0</td>\n",
              "      <td>1.0</td>\n",
              "      <td>0.0</td>\n",
              "      <td>4.975073</td>\n",
              "      <td>5.0</td>\n",
              "      <td>0.0</td>\n",
              "      <td>0.0</td>\n",
              "      <td>0.0</td>\n",
              "      <td>0.0</td>\n",
              "      <td>0.0</td>\n",
              "      <td>1.0</td>\n",
              "      <td>-1.0</td>\n",
              "      <td>0.0</td>\n",
              "      <td>-1.000</td>\n",
              "      <td>0.0</td>\n",
              "      <td>843300.0</td>\n",
              "      <td>254600.000000</td>\n",
              "      <td>0.000000</td>\n",
              "      <td>3384.316871</td>\n",
              "      <td>1777.895883</td>\n",
              "      <td>452.0</td>\n",
              "      <td>452.0</td>\n",
              "      <td>452.000000</td>\n",
              "      <td>0.0</td>\n",
              "      <td>0.0</td>\n",
              "      <td>1.0</td>\n",
              "      <td>0.0</td>\n",
              "      <td>0.0</td>\n",
              "      <td>0.0</td>\n",
              "      <td>0.0</td>\n",
              "      <td>0.0</td>\n",
              "      <td>0.040004</td>\n",
              "      <td>0.040003</td>\n",
              "      <td>0.839987</td>\n",
              "      <td>0.040002</td>\n",
              "      <td>0.040004</td>\n",
              "      <td>0.358578</td>\n",
              "      <td>-0.008066</td>\n",
              "      <td>0.020528</td>\n",
              "      <td>0.023460</td>\n",
              "      <td>0.466667</td>\n",
              "      <td>0.533333</td>\n",
              "      <td>0.236851</td>\n",
              "      <td>0.062500</td>\n",
              "      <td>0.50</td>\n",
              "      <td>-0.205246</td>\n",
              "      <td>-0.500</td>\n",
              "      <td>-0.012500</td>\n",
              "      <td>0.000000</td>\n",
              "      <td>0.000000</td>\n",
              "      <td>0.500000</td>\n",
              "      <td>0.000000</td>\n",
              "      <td>1100</td>\n",
              "    </tr>\n",
              "    <tr>\n",
              "      <th>39643</th>\n",
              "      <td>http://mashable.com/2014/12/27/youtube-channel...</td>\n",
              "      <td>8.0</td>\n",
              "      <td>10.0</td>\n",
              "      <td>157.0</td>\n",
              "      <td>0.701987</td>\n",
              "      <td>1.0</td>\n",
              "      <td>0.846154</td>\n",
              "      <td>1.0</td>\n",
              "      <td>1.0</td>\n",
              "      <td>0.0</td>\n",
              "      <td>2.0</td>\n",
              "      <td>4.471338</td>\n",
              "      <td>4.0</td>\n",
              "      <td>0.0</td>\n",
              "      <td>1.0</td>\n",
              "      <td>0.0</td>\n",
              "      <td>0.0</td>\n",
              "      <td>0.0</td>\n",
              "      <td>0.0</td>\n",
              "      <td>-1.0</td>\n",
              "      <td>97.0</td>\n",
              "      <td>23.500</td>\n",
              "      <td>205600.0</td>\n",
              "      <td>843300.0</td>\n",
              "      <td>366200.000000</td>\n",
              "      <td>3035.080555</td>\n",
              "      <td>3613.512953</td>\n",
              "      <td>3296.909481</td>\n",
              "      <td>2100.0</td>\n",
              "      <td>2100.0</td>\n",
              "      <td>2100.000000</td>\n",
              "      <td>0.0</td>\n",
              "      <td>0.0</td>\n",
              "      <td>1.0</td>\n",
              "      <td>0.0</td>\n",
              "      <td>0.0</td>\n",
              "      <td>0.0</td>\n",
              "      <td>0.0</td>\n",
              "      <td>0.0</td>\n",
              "      <td>0.050001</td>\n",
              "      <td>0.799339</td>\n",
              "      <td>0.050000</td>\n",
              "      <td>0.050659</td>\n",
              "      <td>0.050001</td>\n",
              "      <td>0.517893</td>\n",
              "      <td>0.104892</td>\n",
              "      <td>0.063694</td>\n",
              "      <td>0.012739</td>\n",
              "      <td>0.833333</td>\n",
              "      <td>0.166667</td>\n",
              "      <td>0.247338</td>\n",
              "      <td>0.100000</td>\n",
              "      <td>0.50</td>\n",
              "      <td>-0.200000</td>\n",
              "      <td>-0.200</td>\n",
              "      <td>-0.200000</td>\n",
              "      <td>0.333333</td>\n",
              "      <td>0.250000</td>\n",
              "      <td>0.166667</td>\n",
              "      <td>0.250000</td>\n",
              "      <td>1300</td>\n",
              "    </tr>\n",
              "  </tbody>\n",
              "</table>\n",
              "<p>39644 rows × 61 columns</p>\n",
              "</div>"
            ],
            "text/plain": [
              "                                                     url  ...   shares\n",
              "0      http://mashable.com/2013/01/07/amazon-instant-...  ...      593\n",
              "1      http://mashable.com/2013/01/07/ap-samsung-spon...  ...      711\n",
              "2      http://mashable.com/2013/01/07/apple-40-billio...  ...     1500\n",
              "3      http://mashable.com/2013/01/07/astronaut-notre...  ...     1200\n",
              "4       http://mashable.com/2013/01/07/att-u-verse-apps/  ...      505\n",
              "...                                                  ...  ...      ...\n",
              "39639  http://mashable.com/2014/12/27/samsung-app-aut...  ...     1800\n",
              "39640  http://mashable.com/2014/12/27/seth-rogen-jame...  ...     1900\n",
              "39641  http://mashable.com/2014/12/27/son-pays-off-mo...  ...     1900\n",
              "39642     http://mashable.com/2014/12/27/ukraine-blasts/  ...     1100\n",
              "39643  http://mashable.com/2014/12/27/youtube-channel...  ...     1300\n",
              "\n",
              "[39644 rows x 61 columns]"
            ]
          },
          "metadata": {
            "tags": []
          },
          "execution_count": 3
        }
      ]
    },
    {
      "cell_type": "code",
      "metadata": {
        "id": "HTDdGhr-h5n2",
        "colab_type": "code",
        "colab": {
          "base_uri": "https://localhost:8080/",
          "height": 34
        },
        "outputId": "78d51106-bfca-4c9b-f0bd-d6b251694ebc"
      },
      "source": [
        "#데이터 타입 확인\n",
        "type(news)"
      ],
      "execution_count": null,
      "outputs": [
        {
          "output_type": "execute_result",
          "data": {
            "text/plain": [
              "pandas.core.frame.DataFrame"
            ]
          },
          "metadata": {
            "tags": []
          },
          "execution_count": 4
        }
      ]
    },
    {
      "cell_type": "code",
      "metadata": {
        "id": "-Yz6fnM1g1eV",
        "colab_type": "code",
        "colab": {
          "base_uri": "https://localhost:8080/",
          "height": 408
        },
        "outputId": "9effe16c-4288-42a2-e450-0573574a0b9b"
      },
      "source": [
        "#데이터 열 확인\n",
        "news.columns"
      ],
      "execution_count": null,
      "outputs": [
        {
          "output_type": "execute_result",
          "data": {
            "text/plain": [
              "Index(['url', ' timedelta', ' n_tokens_title', ' n_tokens_content',\n",
              "       ' n_unique_tokens', ' n_non_stop_words', ' n_non_stop_unique_tokens',\n",
              "       ' num_hrefs', ' num_self_hrefs', ' num_imgs', ' num_videos',\n",
              "       ' average_token_length', ' num_keywords', ' data_channel_is_lifestyle',\n",
              "       ' data_channel_is_entertainment', ' data_channel_is_bus',\n",
              "       ' data_channel_is_socmed', ' data_channel_is_tech',\n",
              "       ' data_channel_is_world', ' kw_min_min', ' kw_max_min', ' kw_avg_min',\n",
              "       ' kw_min_max', ' kw_max_max', ' kw_avg_max', ' kw_min_avg',\n",
              "       ' kw_max_avg', ' kw_avg_avg', ' self_reference_min_shares',\n",
              "       ' self_reference_max_shares', ' self_reference_avg_sharess',\n",
              "       ' weekday_is_monday', ' weekday_is_tuesday', ' weekday_is_wednesday',\n",
              "       ' weekday_is_thursday', ' weekday_is_friday', ' weekday_is_saturday',\n",
              "       ' weekday_is_sunday', ' is_weekend', ' LDA_00', ' LDA_01', ' LDA_02',\n",
              "       ' LDA_03', ' LDA_04', ' global_subjectivity',\n",
              "       ' global_sentiment_polarity', ' global_rate_positive_words',\n",
              "       ' global_rate_negative_words', ' rate_positive_words',\n",
              "       ' rate_negative_words', ' avg_positive_polarity',\n",
              "       ' min_positive_polarity', ' max_positive_polarity',\n",
              "       ' avg_negative_polarity', ' min_negative_polarity',\n",
              "       ' max_negative_polarity', ' title_subjectivity',\n",
              "       ' title_sentiment_polarity', ' abs_title_subjectivity',\n",
              "       ' abs_title_sentiment_polarity', ' shares'],\n",
              "      dtype='object')"
            ]
          },
          "metadata": {
            "tags": []
          },
          "execution_count": 5
        }
      ]
    },
    {
      "cell_type": "code",
      "metadata": {
        "id": "CLiJqZgUjHh6",
        "colab_type": "code",
        "colab": {
          "base_uri": "https://localhost:8080/",
          "height": 609
        },
        "outputId": "9f82c2e0-aa33-4c41-d876-b25b08a9e8fe"
      },
      "source": [
        "#헤더 내 띄어쓰기 제거\n",
        "header=['url', 'timedelta', 'n_tokens_title', 'n_tokens_content',\n",
        "       'n_unique_tokens', 'n_non_stop_words', 'n_non_stop_unique_tokens',\n",
        "       'num_hrefs', 'num_self_hrefs', 'num_imgs', 'num_videos',\n",
        "       'average_token_length', 'num_keywords', 'data_channel_is_lifestyle',\n",
        "       'data_channel_is_entertainment', 'data_channel_is_bus',\n",
        "       'data_channel_is_socmed', 'data_channel_is_tech',\n",
        "       'data_channel_is_world', 'kw_min_min', 'kw_max_min', 'kw_avg_min',\n",
        "       'kw_min_max', 'kw_max_max', 'kw_avg_max', 'kw_min_avg',\n",
        "       'kw_max_avg', 'kw_avg_avg', 'self_reference_min_shares',\n",
        "       'self_reference_max_shares', 'self_reference_avg_sharess',\n",
        "       'weekday_is_monday', 'weekday_is_tuesday', 'weekday_is_wednesday',\n",
        "       'weekday_is_thursday', 'weekday_is_friday', 'weekday_is_saturday',\n",
        "       'weekday_is_sunday', 'is_weekend', 'LDA_00', 'LDA_01', 'LDA_02',\n",
        "       'LDA_03', 'LDA_04', 'global_subjectivity',\n",
        "       'global_sentiment_polarity', 'global_rate_positive_words',\n",
        "       'global_rate_negative_words', 'rate_positive_words',\n",
        "       'rate_negative_words', 'avg_positive_polarity',\n",
        "       'min_positive_polarity', 'max_positive_polarity',\n",
        "       'avg_negative_polarity', 'min_negative_polarity',\n",
        "       'max_negative_polarity', 'title_subjectivity',\n",
        "       'title_sentiment_polarity', 'abs_title_subjectivity',\n",
        "       'abs_title_sentiment_polarity', 'shares']\n",
        "news.columns=header\n",
        "news"
      ],
      "execution_count": null,
      "outputs": [
        {
          "output_type": "execute_result",
          "data": {
            "text/html": [
              "<div>\n",
              "<style scoped>\n",
              "    .dataframe tbody tr th:only-of-type {\n",
              "        vertical-align: middle;\n",
              "    }\n",
              "\n",
              "    .dataframe tbody tr th {\n",
              "        vertical-align: top;\n",
              "    }\n",
              "\n",
              "    .dataframe thead th {\n",
              "        text-align: right;\n",
              "    }\n",
              "</style>\n",
              "<table border=\"1\" class=\"dataframe\">\n",
              "  <thead>\n",
              "    <tr style=\"text-align: right;\">\n",
              "      <th></th>\n",
              "      <th>url</th>\n",
              "      <th>timedelta</th>\n",
              "      <th>n_tokens_title</th>\n",
              "      <th>n_tokens_content</th>\n",
              "      <th>n_unique_tokens</th>\n",
              "      <th>n_non_stop_words</th>\n",
              "      <th>n_non_stop_unique_tokens</th>\n",
              "      <th>num_hrefs</th>\n",
              "      <th>num_self_hrefs</th>\n",
              "      <th>num_imgs</th>\n",
              "      <th>num_videos</th>\n",
              "      <th>average_token_length</th>\n",
              "      <th>num_keywords</th>\n",
              "      <th>data_channel_is_lifestyle</th>\n",
              "      <th>data_channel_is_entertainment</th>\n",
              "      <th>data_channel_is_bus</th>\n",
              "      <th>data_channel_is_socmed</th>\n",
              "      <th>data_channel_is_tech</th>\n",
              "      <th>data_channel_is_world</th>\n",
              "      <th>kw_min_min</th>\n",
              "      <th>kw_max_min</th>\n",
              "      <th>kw_avg_min</th>\n",
              "      <th>kw_min_max</th>\n",
              "      <th>kw_max_max</th>\n",
              "      <th>kw_avg_max</th>\n",
              "      <th>kw_min_avg</th>\n",
              "      <th>kw_max_avg</th>\n",
              "      <th>kw_avg_avg</th>\n",
              "      <th>self_reference_min_shares</th>\n",
              "      <th>self_reference_max_shares</th>\n",
              "      <th>self_reference_avg_sharess</th>\n",
              "      <th>weekday_is_monday</th>\n",
              "      <th>weekday_is_tuesday</th>\n",
              "      <th>weekday_is_wednesday</th>\n",
              "      <th>weekday_is_thursday</th>\n",
              "      <th>weekday_is_friday</th>\n",
              "      <th>weekday_is_saturday</th>\n",
              "      <th>weekday_is_sunday</th>\n",
              "      <th>is_weekend</th>\n",
              "      <th>LDA_00</th>\n",
              "      <th>LDA_01</th>\n",
              "      <th>LDA_02</th>\n",
              "      <th>LDA_03</th>\n",
              "      <th>LDA_04</th>\n",
              "      <th>global_subjectivity</th>\n",
              "      <th>global_sentiment_polarity</th>\n",
              "      <th>global_rate_positive_words</th>\n",
              "      <th>global_rate_negative_words</th>\n",
              "      <th>rate_positive_words</th>\n",
              "      <th>rate_negative_words</th>\n",
              "      <th>avg_positive_polarity</th>\n",
              "      <th>min_positive_polarity</th>\n",
              "      <th>max_positive_polarity</th>\n",
              "      <th>avg_negative_polarity</th>\n",
              "      <th>min_negative_polarity</th>\n",
              "      <th>max_negative_polarity</th>\n",
              "      <th>title_subjectivity</th>\n",
              "      <th>title_sentiment_polarity</th>\n",
              "      <th>abs_title_subjectivity</th>\n",
              "      <th>abs_title_sentiment_polarity</th>\n",
              "      <th>shares</th>\n",
              "    </tr>\n",
              "  </thead>\n",
              "  <tbody>\n",
              "    <tr>\n",
              "      <th>0</th>\n",
              "      <td>http://mashable.com/2013/01/07/amazon-instant-...</td>\n",
              "      <td>731.0</td>\n",
              "      <td>12.0</td>\n",
              "      <td>219.0</td>\n",
              "      <td>0.663594</td>\n",
              "      <td>1.0</td>\n",
              "      <td>0.815385</td>\n",
              "      <td>4.0</td>\n",
              "      <td>2.0</td>\n",
              "      <td>1.0</td>\n",
              "      <td>0.0</td>\n",
              "      <td>4.680365</td>\n",
              "      <td>5.0</td>\n",
              "      <td>0.0</td>\n",
              "      <td>1.0</td>\n",
              "      <td>0.0</td>\n",
              "      <td>0.0</td>\n",
              "      <td>0.0</td>\n",
              "      <td>0.0</td>\n",
              "      <td>0.0</td>\n",
              "      <td>0.0</td>\n",
              "      <td>0.000</td>\n",
              "      <td>0.0</td>\n",
              "      <td>0.0</td>\n",
              "      <td>0.000000</td>\n",
              "      <td>0.000000</td>\n",
              "      <td>0.000000</td>\n",
              "      <td>0.000000</td>\n",
              "      <td>496.0</td>\n",
              "      <td>496.0</td>\n",
              "      <td>496.000000</td>\n",
              "      <td>1.0</td>\n",
              "      <td>0.0</td>\n",
              "      <td>0.0</td>\n",
              "      <td>0.0</td>\n",
              "      <td>0.0</td>\n",
              "      <td>0.0</td>\n",
              "      <td>0.0</td>\n",
              "      <td>0.0</td>\n",
              "      <td>0.500331</td>\n",
              "      <td>0.378279</td>\n",
              "      <td>0.040005</td>\n",
              "      <td>0.041263</td>\n",
              "      <td>0.040123</td>\n",
              "      <td>0.521617</td>\n",
              "      <td>0.092562</td>\n",
              "      <td>0.045662</td>\n",
              "      <td>0.013699</td>\n",
              "      <td>0.769231</td>\n",
              "      <td>0.230769</td>\n",
              "      <td>0.378636</td>\n",
              "      <td>0.100000</td>\n",
              "      <td>0.70</td>\n",
              "      <td>-0.350000</td>\n",
              "      <td>-0.600</td>\n",
              "      <td>-0.200000</td>\n",
              "      <td>0.500000</td>\n",
              "      <td>-0.187500</td>\n",
              "      <td>0.000000</td>\n",
              "      <td>0.187500</td>\n",
              "      <td>593</td>\n",
              "    </tr>\n",
              "    <tr>\n",
              "      <th>1</th>\n",
              "      <td>http://mashable.com/2013/01/07/ap-samsung-spon...</td>\n",
              "      <td>731.0</td>\n",
              "      <td>9.0</td>\n",
              "      <td>255.0</td>\n",
              "      <td>0.604743</td>\n",
              "      <td>1.0</td>\n",
              "      <td>0.791946</td>\n",
              "      <td>3.0</td>\n",
              "      <td>1.0</td>\n",
              "      <td>1.0</td>\n",
              "      <td>0.0</td>\n",
              "      <td>4.913725</td>\n",
              "      <td>4.0</td>\n",
              "      <td>0.0</td>\n",
              "      <td>0.0</td>\n",
              "      <td>1.0</td>\n",
              "      <td>0.0</td>\n",
              "      <td>0.0</td>\n",
              "      <td>0.0</td>\n",
              "      <td>0.0</td>\n",
              "      <td>0.0</td>\n",
              "      <td>0.000</td>\n",
              "      <td>0.0</td>\n",
              "      <td>0.0</td>\n",
              "      <td>0.000000</td>\n",
              "      <td>0.000000</td>\n",
              "      <td>0.000000</td>\n",
              "      <td>0.000000</td>\n",
              "      <td>0.0</td>\n",
              "      <td>0.0</td>\n",
              "      <td>0.000000</td>\n",
              "      <td>1.0</td>\n",
              "      <td>0.0</td>\n",
              "      <td>0.0</td>\n",
              "      <td>0.0</td>\n",
              "      <td>0.0</td>\n",
              "      <td>0.0</td>\n",
              "      <td>0.0</td>\n",
              "      <td>0.0</td>\n",
              "      <td>0.799756</td>\n",
              "      <td>0.050047</td>\n",
              "      <td>0.050096</td>\n",
              "      <td>0.050101</td>\n",
              "      <td>0.050001</td>\n",
              "      <td>0.341246</td>\n",
              "      <td>0.148948</td>\n",
              "      <td>0.043137</td>\n",
              "      <td>0.015686</td>\n",
              "      <td>0.733333</td>\n",
              "      <td>0.266667</td>\n",
              "      <td>0.286915</td>\n",
              "      <td>0.033333</td>\n",
              "      <td>0.70</td>\n",
              "      <td>-0.118750</td>\n",
              "      <td>-0.125</td>\n",
              "      <td>-0.100000</td>\n",
              "      <td>0.000000</td>\n",
              "      <td>0.000000</td>\n",
              "      <td>0.500000</td>\n",
              "      <td>0.000000</td>\n",
              "      <td>711</td>\n",
              "    </tr>\n",
              "    <tr>\n",
              "      <th>2</th>\n",
              "      <td>http://mashable.com/2013/01/07/apple-40-billio...</td>\n",
              "      <td>731.0</td>\n",
              "      <td>9.0</td>\n",
              "      <td>211.0</td>\n",
              "      <td>0.575130</td>\n",
              "      <td>1.0</td>\n",
              "      <td>0.663866</td>\n",
              "      <td>3.0</td>\n",
              "      <td>1.0</td>\n",
              "      <td>1.0</td>\n",
              "      <td>0.0</td>\n",
              "      <td>4.393365</td>\n",
              "      <td>6.0</td>\n",
              "      <td>0.0</td>\n",
              "      <td>0.0</td>\n",
              "      <td>1.0</td>\n",
              "      <td>0.0</td>\n",
              "      <td>0.0</td>\n",
              "      <td>0.0</td>\n",
              "      <td>0.0</td>\n",
              "      <td>0.0</td>\n",
              "      <td>0.000</td>\n",
              "      <td>0.0</td>\n",
              "      <td>0.0</td>\n",
              "      <td>0.000000</td>\n",
              "      <td>0.000000</td>\n",
              "      <td>0.000000</td>\n",
              "      <td>0.000000</td>\n",
              "      <td>918.0</td>\n",
              "      <td>918.0</td>\n",
              "      <td>918.000000</td>\n",
              "      <td>1.0</td>\n",
              "      <td>0.0</td>\n",
              "      <td>0.0</td>\n",
              "      <td>0.0</td>\n",
              "      <td>0.0</td>\n",
              "      <td>0.0</td>\n",
              "      <td>0.0</td>\n",
              "      <td>0.0</td>\n",
              "      <td>0.217792</td>\n",
              "      <td>0.033334</td>\n",
              "      <td>0.033351</td>\n",
              "      <td>0.033334</td>\n",
              "      <td>0.682188</td>\n",
              "      <td>0.702222</td>\n",
              "      <td>0.323333</td>\n",
              "      <td>0.056872</td>\n",
              "      <td>0.009479</td>\n",
              "      <td>0.857143</td>\n",
              "      <td>0.142857</td>\n",
              "      <td>0.495833</td>\n",
              "      <td>0.100000</td>\n",
              "      <td>1.00</td>\n",
              "      <td>-0.466667</td>\n",
              "      <td>-0.800</td>\n",
              "      <td>-0.133333</td>\n",
              "      <td>0.000000</td>\n",
              "      <td>0.000000</td>\n",
              "      <td>0.500000</td>\n",
              "      <td>0.000000</td>\n",
              "      <td>1500</td>\n",
              "    </tr>\n",
              "    <tr>\n",
              "      <th>3</th>\n",
              "      <td>http://mashable.com/2013/01/07/astronaut-notre...</td>\n",
              "      <td>731.0</td>\n",
              "      <td>9.0</td>\n",
              "      <td>531.0</td>\n",
              "      <td>0.503788</td>\n",
              "      <td>1.0</td>\n",
              "      <td>0.665635</td>\n",
              "      <td>9.0</td>\n",
              "      <td>0.0</td>\n",
              "      <td>1.0</td>\n",
              "      <td>0.0</td>\n",
              "      <td>4.404896</td>\n",
              "      <td>7.0</td>\n",
              "      <td>0.0</td>\n",
              "      <td>1.0</td>\n",
              "      <td>0.0</td>\n",
              "      <td>0.0</td>\n",
              "      <td>0.0</td>\n",
              "      <td>0.0</td>\n",
              "      <td>0.0</td>\n",
              "      <td>0.0</td>\n",
              "      <td>0.000</td>\n",
              "      <td>0.0</td>\n",
              "      <td>0.0</td>\n",
              "      <td>0.000000</td>\n",
              "      <td>0.000000</td>\n",
              "      <td>0.000000</td>\n",
              "      <td>0.000000</td>\n",
              "      <td>0.0</td>\n",
              "      <td>0.0</td>\n",
              "      <td>0.000000</td>\n",
              "      <td>1.0</td>\n",
              "      <td>0.0</td>\n",
              "      <td>0.0</td>\n",
              "      <td>0.0</td>\n",
              "      <td>0.0</td>\n",
              "      <td>0.0</td>\n",
              "      <td>0.0</td>\n",
              "      <td>0.0</td>\n",
              "      <td>0.028573</td>\n",
              "      <td>0.419300</td>\n",
              "      <td>0.494651</td>\n",
              "      <td>0.028905</td>\n",
              "      <td>0.028572</td>\n",
              "      <td>0.429850</td>\n",
              "      <td>0.100705</td>\n",
              "      <td>0.041431</td>\n",
              "      <td>0.020716</td>\n",
              "      <td>0.666667</td>\n",
              "      <td>0.333333</td>\n",
              "      <td>0.385965</td>\n",
              "      <td>0.136364</td>\n",
              "      <td>0.80</td>\n",
              "      <td>-0.369697</td>\n",
              "      <td>-0.600</td>\n",
              "      <td>-0.166667</td>\n",
              "      <td>0.000000</td>\n",
              "      <td>0.000000</td>\n",
              "      <td>0.500000</td>\n",
              "      <td>0.000000</td>\n",
              "      <td>1200</td>\n",
              "    </tr>\n",
              "    <tr>\n",
              "      <th>4</th>\n",
              "      <td>http://mashable.com/2013/01/07/att-u-verse-apps/</td>\n",
              "      <td>731.0</td>\n",
              "      <td>13.0</td>\n",
              "      <td>1072.0</td>\n",
              "      <td>0.415646</td>\n",
              "      <td>1.0</td>\n",
              "      <td>0.540890</td>\n",
              "      <td>19.0</td>\n",
              "      <td>19.0</td>\n",
              "      <td>20.0</td>\n",
              "      <td>0.0</td>\n",
              "      <td>4.682836</td>\n",
              "      <td>7.0</td>\n",
              "      <td>0.0</td>\n",
              "      <td>0.0</td>\n",
              "      <td>0.0</td>\n",
              "      <td>0.0</td>\n",
              "      <td>1.0</td>\n",
              "      <td>0.0</td>\n",
              "      <td>0.0</td>\n",
              "      <td>0.0</td>\n",
              "      <td>0.000</td>\n",
              "      <td>0.0</td>\n",
              "      <td>0.0</td>\n",
              "      <td>0.000000</td>\n",
              "      <td>0.000000</td>\n",
              "      <td>0.000000</td>\n",
              "      <td>0.000000</td>\n",
              "      <td>545.0</td>\n",
              "      <td>16000.0</td>\n",
              "      <td>3151.157895</td>\n",
              "      <td>1.0</td>\n",
              "      <td>0.0</td>\n",
              "      <td>0.0</td>\n",
              "      <td>0.0</td>\n",
              "      <td>0.0</td>\n",
              "      <td>0.0</td>\n",
              "      <td>0.0</td>\n",
              "      <td>0.0</td>\n",
              "      <td>0.028633</td>\n",
              "      <td>0.028794</td>\n",
              "      <td>0.028575</td>\n",
              "      <td>0.028572</td>\n",
              "      <td>0.885427</td>\n",
              "      <td>0.513502</td>\n",
              "      <td>0.281003</td>\n",
              "      <td>0.074627</td>\n",
              "      <td>0.012127</td>\n",
              "      <td>0.860215</td>\n",
              "      <td>0.139785</td>\n",
              "      <td>0.411127</td>\n",
              "      <td>0.033333</td>\n",
              "      <td>1.00</td>\n",
              "      <td>-0.220192</td>\n",
              "      <td>-0.500</td>\n",
              "      <td>-0.050000</td>\n",
              "      <td>0.454545</td>\n",
              "      <td>0.136364</td>\n",
              "      <td>0.045455</td>\n",
              "      <td>0.136364</td>\n",
              "      <td>505</td>\n",
              "    </tr>\n",
              "    <tr>\n",
              "      <th>...</th>\n",
              "      <td>...</td>\n",
              "      <td>...</td>\n",
              "      <td>...</td>\n",
              "      <td>...</td>\n",
              "      <td>...</td>\n",
              "      <td>...</td>\n",
              "      <td>...</td>\n",
              "      <td>...</td>\n",
              "      <td>...</td>\n",
              "      <td>...</td>\n",
              "      <td>...</td>\n",
              "      <td>...</td>\n",
              "      <td>...</td>\n",
              "      <td>...</td>\n",
              "      <td>...</td>\n",
              "      <td>...</td>\n",
              "      <td>...</td>\n",
              "      <td>...</td>\n",
              "      <td>...</td>\n",
              "      <td>...</td>\n",
              "      <td>...</td>\n",
              "      <td>...</td>\n",
              "      <td>...</td>\n",
              "      <td>...</td>\n",
              "      <td>...</td>\n",
              "      <td>...</td>\n",
              "      <td>...</td>\n",
              "      <td>...</td>\n",
              "      <td>...</td>\n",
              "      <td>...</td>\n",
              "      <td>...</td>\n",
              "      <td>...</td>\n",
              "      <td>...</td>\n",
              "      <td>...</td>\n",
              "      <td>...</td>\n",
              "      <td>...</td>\n",
              "      <td>...</td>\n",
              "      <td>...</td>\n",
              "      <td>...</td>\n",
              "      <td>...</td>\n",
              "      <td>...</td>\n",
              "      <td>...</td>\n",
              "      <td>...</td>\n",
              "      <td>...</td>\n",
              "      <td>...</td>\n",
              "      <td>...</td>\n",
              "      <td>...</td>\n",
              "      <td>...</td>\n",
              "      <td>...</td>\n",
              "      <td>...</td>\n",
              "      <td>...</td>\n",
              "      <td>...</td>\n",
              "      <td>...</td>\n",
              "      <td>...</td>\n",
              "      <td>...</td>\n",
              "      <td>...</td>\n",
              "      <td>...</td>\n",
              "      <td>...</td>\n",
              "      <td>...</td>\n",
              "      <td>...</td>\n",
              "      <td>...</td>\n",
              "    </tr>\n",
              "    <tr>\n",
              "      <th>39639</th>\n",
              "      <td>http://mashable.com/2014/12/27/samsung-app-aut...</td>\n",
              "      <td>8.0</td>\n",
              "      <td>11.0</td>\n",
              "      <td>346.0</td>\n",
              "      <td>0.529052</td>\n",
              "      <td>1.0</td>\n",
              "      <td>0.684783</td>\n",
              "      <td>9.0</td>\n",
              "      <td>7.0</td>\n",
              "      <td>1.0</td>\n",
              "      <td>1.0</td>\n",
              "      <td>4.523121</td>\n",
              "      <td>8.0</td>\n",
              "      <td>0.0</td>\n",
              "      <td>0.0</td>\n",
              "      <td>0.0</td>\n",
              "      <td>0.0</td>\n",
              "      <td>1.0</td>\n",
              "      <td>0.0</td>\n",
              "      <td>-1.0</td>\n",
              "      <td>671.0</td>\n",
              "      <td>173.125</td>\n",
              "      <td>26900.0</td>\n",
              "      <td>843300.0</td>\n",
              "      <td>374962.500000</td>\n",
              "      <td>2514.742857</td>\n",
              "      <td>4004.342857</td>\n",
              "      <td>3031.115764</td>\n",
              "      <td>11400.0</td>\n",
              "      <td>48000.0</td>\n",
              "      <td>37033.333333</td>\n",
              "      <td>0.0</td>\n",
              "      <td>0.0</td>\n",
              "      <td>1.0</td>\n",
              "      <td>0.0</td>\n",
              "      <td>0.0</td>\n",
              "      <td>0.0</td>\n",
              "      <td>0.0</td>\n",
              "      <td>0.0</td>\n",
              "      <td>0.025038</td>\n",
              "      <td>0.025001</td>\n",
              "      <td>0.151701</td>\n",
              "      <td>0.025000</td>\n",
              "      <td>0.773260</td>\n",
              "      <td>0.482679</td>\n",
              "      <td>0.141964</td>\n",
              "      <td>0.037572</td>\n",
              "      <td>0.014451</td>\n",
              "      <td>0.722222</td>\n",
              "      <td>0.277778</td>\n",
              "      <td>0.333791</td>\n",
              "      <td>0.100000</td>\n",
              "      <td>0.75</td>\n",
              "      <td>-0.260000</td>\n",
              "      <td>-0.500</td>\n",
              "      <td>-0.125000</td>\n",
              "      <td>0.100000</td>\n",
              "      <td>0.000000</td>\n",
              "      <td>0.400000</td>\n",
              "      <td>0.000000</td>\n",
              "      <td>1800</td>\n",
              "    </tr>\n",
              "    <tr>\n",
              "      <th>39640</th>\n",
              "      <td>http://mashable.com/2014/12/27/seth-rogen-jame...</td>\n",
              "      <td>8.0</td>\n",
              "      <td>12.0</td>\n",
              "      <td>328.0</td>\n",
              "      <td>0.696296</td>\n",
              "      <td>1.0</td>\n",
              "      <td>0.885057</td>\n",
              "      <td>9.0</td>\n",
              "      <td>7.0</td>\n",
              "      <td>3.0</td>\n",
              "      <td>48.0</td>\n",
              "      <td>4.405488</td>\n",
              "      <td>7.0</td>\n",
              "      <td>0.0</td>\n",
              "      <td>0.0</td>\n",
              "      <td>0.0</td>\n",
              "      <td>1.0</td>\n",
              "      <td>0.0</td>\n",
              "      <td>0.0</td>\n",
              "      <td>-1.0</td>\n",
              "      <td>616.0</td>\n",
              "      <td>184.000</td>\n",
              "      <td>6500.0</td>\n",
              "      <td>843300.0</td>\n",
              "      <td>192985.714286</td>\n",
              "      <td>1664.267857</td>\n",
              "      <td>5470.168651</td>\n",
              "      <td>3411.660830</td>\n",
              "      <td>2100.0</td>\n",
              "      <td>2100.0</td>\n",
              "      <td>2100.000000</td>\n",
              "      <td>0.0</td>\n",
              "      <td>0.0</td>\n",
              "      <td>1.0</td>\n",
              "      <td>0.0</td>\n",
              "      <td>0.0</td>\n",
              "      <td>0.0</td>\n",
              "      <td>0.0</td>\n",
              "      <td>0.0</td>\n",
              "      <td>0.029349</td>\n",
              "      <td>0.028575</td>\n",
              "      <td>0.231866</td>\n",
              "      <td>0.681635</td>\n",
              "      <td>0.028575</td>\n",
              "      <td>0.564374</td>\n",
              "      <td>0.194249</td>\n",
              "      <td>0.039634</td>\n",
              "      <td>0.009146</td>\n",
              "      <td>0.812500</td>\n",
              "      <td>0.187500</td>\n",
              "      <td>0.374825</td>\n",
              "      <td>0.136364</td>\n",
              "      <td>0.70</td>\n",
              "      <td>-0.211111</td>\n",
              "      <td>-0.400</td>\n",
              "      <td>-0.100000</td>\n",
              "      <td>0.300000</td>\n",
              "      <td>1.000000</td>\n",
              "      <td>0.200000</td>\n",
              "      <td>1.000000</td>\n",
              "      <td>1900</td>\n",
              "    </tr>\n",
              "    <tr>\n",
              "      <th>39641</th>\n",
              "      <td>http://mashable.com/2014/12/27/son-pays-off-mo...</td>\n",
              "      <td>8.0</td>\n",
              "      <td>10.0</td>\n",
              "      <td>442.0</td>\n",
              "      <td>0.516355</td>\n",
              "      <td>1.0</td>\n",
              "      <td>0.644128</td>\n",
              "      <td>24.0</td>\n",
              "      <td>1.0</td>\n",
              "      <td>12.0</td>\n",
              "      <td>1.0</td>\n",
              "      <td>5.076923</td>\n",
              "      <td>8.0</td>\n",
              "      <td>0.0</td>\n",
              "      <td>0.0</td>\n",
              "      <td>0.0</td>\n",
              "      <td>0.0</td>\n",
              "      <td>0.0</td>\n",
              "      <td>0.0</td>\n",
              "      <td>-1.0</td>\n",
              "      <td>691.0</td>\n",
              "      <td>168.250</td>\n",
              "      <td>6200.0</td>\n",
              "      <td>843300.0</td>\n",
              "      <td>295850.000000</td>\n",
              "      <td>1753.882353</td>\n",
              "      <td>6880.687034</td>\n",
              "      <td>4206.439195</td>\n",
              "      <td>1400.0</td>\n",
              "      <td>1400.0</td>\n",
              "      <td>1400.000000</td>\n",
              "      <td>0.0</td>\n",
              "      <td>0.0</td>\n",
              "      <td>1.0</td>\n",
              "      <td>0.0</td>\n",
              "      <td>0.0</td>\n",
              "      <td>0.0</td>\n",
              "      <td>0.0</td>\n",
              "      <td>0.0</td>\n",
              "      <td>0.159004</td>\n",
              "      <td>0.025025</td>\n",
              "      <td>0.025207</td>\n",
              "      <td>0.643794</td>\n",
              "      <td>0.146970</td>\n",
              "      <td>0.510296</td>\n",
              "      <td>0.024609</td>\n",
              "      <td>0.033937</td>\n",
              "      <td>0.024887</td>\n",
              "      <td>0.576923</td>\n",
              "      <td>0.423077</td>\n",
              "      <td>0.307273</td>\n",
              "      <td>0.136364</td>\n",
              "      <td>0.50</td>\n",
              "      <td>-0.356439</td>\n",
              "      <td>-0.800</td>\n",
              "      <td>-0.166667</td>\n",
              "      <td>0.454545</td>\n",
              "      <td>0.136364</td>\n",
              "      <td>0.045455</td>\n",
              "      <td>0.136364</td>\n",
              "      <td>1900</td>\n",
              "    </tr>\n",
              "    <tr>\n",
              "      <th>39642</th>\n",
              "      <td>http://mashable.com/2014/12/27/ukraine-blasts/</td>\n",
              "      <td>8.0</td>\n",
              "      <td>6.0</td>\n",
              "      <td>682.0</td>\n",
              "      <td>0.539493</td>\n",
              "      <td>1.0</td>\n",
              "      <td>0.692661</td>\n",
              "      <td>10.0</td>\n",
              "      <td>1.0</td>\n",
              "      <td>1.0</td>\n",
              "      <td>0.0</td>\n",
              "      <td>4.975073</td>\n",
              "      <td>5.0</td>\n",
              "      <td>0.0</td>\n",
              "      <td>0.0</td>\n",
              "      <td>0.0</td>\n",
              "      <td>0.0</td>\n",
              "      <td>0.0</td>\n",
              "      <td>1.0</td>\n",
              "      <td>-1.0</td>\n",
              "      <td>0.0</td>\n",
              "      <td>-1.000</td>\n",
              "      <td>0.0</td>\n",
              "      <td>843300.0</td>\n",
              "      <td>254600.000000</td>\n",
              "      <td>0.000000</td>\n",
              "      <td>3384.316871</td>\n",
              "      <td>1777.895883</td>\n",
              "      <td>452.0</td>\n",
              "      <td>452.0</td>\n",
              "      <td>452.000000</td>\n",
              "      <td>0.0</td>\n",
              "      <td>0.0</td>\n",
              "      <td>1.0</td>\n",
              "      <td>0.0</td>\n",
              "      <td>0.0</td>\n",
              "      <td>0.0</td>\n",
              "      <td>0.0</td>\n",
              "      <td>0.0</td>\n",
              "      <td>0.040004</td>\n",
              "      <td>0.040003</td>\n",
              "      <td>0.839987</td>\n",
              "      <td>0.040002</td>\n",
              "      <td>0.040004</td>\n",
              "      <td>0.358578</td>\n",
              "      <td>-0.008066</td>\n",
              "      <td>0.020528</td>\n",
              "      <td>0.023460</td>\n",
              "      <td>0.466667</td>\n",
              "      <td>0.533333</td>\n",
              "      <td>0.236851</td>\n",
              "      <td>0.062500</td>\n",
              "      <td>0.50</td>\n",
              "      <td>-0.205246</td>\n",
              "      <td>-0.500</td>\n",
              "      <td>-0.012500</td>\n",
              "      <td>0.000000</td>\n",
              "      <td>0.000000</td>\n",
              "      <td>0.500000</td>\n",
              "      <td>0.000000</td>\n",
              "      <td>1100</td>\n",
              "    </tr>\n",
              "    <tr>\n",
              "      <th>39643</th>\n",
              "      <td>http://mashable.com/2014/12/27/youtube-channel...</td>\n",
              "      <td>8.0</td>\n",
              "      <td>10.0</td>\n",
              "      <td>157.0</td>\n",
              "      <td>0.701987</td>\n",
              "      <td>1.0</td>\n",
              "      <td>0.846154</td>\n",
              "      <td>1.0</td>\n",
              "      <td>1.0</td>\n",
              "      <td>0.0</td>\n",
              "      <td>2.0</td>\n",
              "      <td>4.471338</td>\n",
              "      <td>4.0</td>\n",
              "      <td>0.0</td>\n",
              "      <td>1.0</td>\n",
              "      <td>0.0</td>\n",
              "      <td>0.0</td>\n",
              "      <td>0.0</td>\n",
              "      <td>0.0</td>\n",
              "      <td>-1.0</td>\n",
              "      <td>97.0</td>\n",
              "      <td>23.500</td>\n",
              "      <td>205600.0</td>\n",
              "      <td>843300.0</td>\n",
              "      <td>366200.000000</td>\n",
              "      <td>3035.080555</td>\n",
              "      <td>3613.512953</td>\n",
              "      <td>3296.909481</td>\n",
              "      <td>2100.0</td>\n",
              "      <td>2100.0</td>\n",
              "      <td>2100.000000</td>\n",
              "      <td>0.0</td>\n",
              "      <td>0.0</td>\n",
              "      <td>1.0</td>\n",
              "      <td>0.0</td>\n",
              "      <td>0.0</td>\n",
              "      <td>0.0</td>\n",
              "      <td>0.0</td>\n",
              "      <td>0.0</td>\n",
              "      <td>0.050001</td>\n",
              "      <td>0.799339</td>\n",
              "      <td>0.050000</td>\n",
              "      <td>0.050659</td>\n",
              "      <td>0.050001</td>\n",
              "      <td>0.517893</td>\n",
              "      <td>0.104892</td>\n",
              "      <td>0.063694</td>\n",
              "      <td>0.012739</td>\n",
              "      <td>0.833333</td>\n",
              "      <td>0.166667</td>\n",
              "      <td>0.247338</td>\n",
              "      <td>0.100000</td>\n",
              "      <td>0.50</td>\n",
              "      <td>-0.200000</td>\n",
              "      <td>-0.200</td>\n",
              "      <td>-0.200000</td>\n",
              "      <td>0.333333</td>\n",
              "      <td>0.250000</td>\n",
              "      <td>0.166667</td>\n",
              "      <td>0.250000</td>\n",
              "      <td>1300</td>\n",
              "    </tr>\n",
              "  </tbody>\n",
              "</table>\n",
              "<p>39644 rows × 61 columns</p>\n",
              "</div>"
            ],
            "text/plain": [
              "                                                     url  ...  shares\n",
              "0      http://mashable.com/2013/01/07/amazon-instant-...  ...     593\n",
              "1      http://mashable.com/2013/01/07/ap-samsung-spon...  ...     711\n",
              "2      http://mashable.com/2013/01/07/apple-40-billio...  ...    1500\n",
              "3      http://mashable.com/2013/01/07/astronaut-notre...  ...    1200\n",
              "4       http://mashable.com/2013/01/07/att-u-verse-apps/  ...     505\n",
              "...                                                  ...  ...     ...\n",
              "39639  http://mashable.com/2014/12/27/samsung-app-aut...  ...    1800\n",
              "39640  http://mashable.com/2014/12/27/seth-rogen-jame...  ...    1900\n",
              "39641  http://mashable.com/2014/12/27/son-pays-off-mo...  ...    1900\n",
              "39642     http://mashable.com/2014/12/27/ukraine-blasts/  ...    1100\n",
              "39643  http://mashable.com/2014/12/27/youtube-channel...  ...    1300\n",
              "\n",
              "[39644 rows x 61 columns]"
            ]
          },
          "metadata": {
            "tags": []
          },
          "execution_count": 6
        }
      ]
    },
    {
      "cell_type": "code",
      "metadata": {
        "id": "PxcewnEag-V2",
        "colab_type": "code",
        "colab": {
          "base_uri": "https://localhost:8080/",
          "height": 221
        },
        "outputId": "a43b2950-318c-453c-d152-638ded225ff7"
      },
      "source": [
        "#결측치 확인\n",
        "news.isna().sum()"
      ],
      "execution_count": null,
      "outputs": [
        {
          "output_type": "execute_result",
          "data": {
            "text/plain": [
              "url                             0\n",
              "timedelta                       0\n",
              "n_tokens_title                  0\n",
              "n_tokens_content                0\n",
              "n_unique_tokens                 0\n",
              "                               ..\n",
              "title_subjectivity              0\n",
              "title_sentiment_polarity        0\n",
              "abs_title_subjectivity          0\n",
              "abs_title_sentiment_polarity    0\n",
              "shares                          0\n",
              "Length: 61, dtype: int64"
            ]
          },
          "metadata": {
            "tags": []
          },
          "execution_count": 7
        }
      ]
    },
    {
      "cell_type": "code",
      "metadata": {
        "id": "TSAQNEVtlbCI",
        "colab_type": "code",
        "colab": {
          "base_uri": "https://localhost:8080/",
          "height": 609
        },
        "outputId": "01a3963b-0fa6-4c4a-e05d-acbcabfe431c"
      },
      "source": [
        "#필요없는 열 제거\n",
        "news.drop(['kw_min_min', 'kw_max_min', 'kw_avg_min',\n",
        "       'kw_min_max', 'kw_max_max', 'kw_avg_max', 'kw_min_avg',\n",
        "       'kw_max_avg', 'kw_avg_avg', 'self_reference_min_shares',\n",
        "       'self_reference_max_shares', 'self_reference_avg_sharess','LDA_00', 'LDA_01', 'LDA_02',\n",
        "       'LDA_03', 'LDA_04', 'global_subjectivity',\n",
        "       'global_sentiment_polarity','avg_positive_polarity',\n",
        "       'min_positive_polarity', 'max_positive_polarity',\n",
        "       'avg_negative_polarity', 'min_negative_polarity',\n",
        "       'max_negative_polarity', 'title_subjectivity',\n",
        "       'title_sentiment_polarity',\n",
        "       'abs_title_subjectivity','n_unique_tokens','n_non_stop_unique_tokens','n_non_stop_words','n_tokens_title', 'n_tokens_content','average_token_length',\n",
        "       'num_keywords','num_hrefs','num_self_hrefs','global_rate_positive_words', 'global_rate_negative_words','abs_title_sentiment_polarity'],axis=1,inplace=True)\n",
        "news"
      ],
      "execution_count": null,
      "outputs": [
        {
          "output_type": "execute_result",
          "data": {
            "text/html": [
              "<div>\n",
              "<style scoped>\n",
              "    .dataframe tbody tr th:only-of-type {\n",
              "        vertical-align: middle;\n",
              "    }\n",
              "\n",
              "    .dataframe tbody tr th {\n",
              "        vertical-align: top;\n",
              "    }\n",
              "\n",
              "    .dataframe thead th {\n",
              "        text-align: right;\n",
              "    }\n",
              "</style>\n",
              "<table border=\"1\" class=\"dataframe\">\n",
              "  <thead>\n",
              "    <tr style=\"text-align: right;\">\n",
              "      <th></th>\n",
              "      <th>url</th>\n",
              "      <th>timedelta</th>\n",
              "      <th>num_imgs</th>\n",
              "      <th>num_videos</th>\n",
              "      <th>data_channel_is_lifestyle</th>\n",
              "      <th>data_channel_is_entertainment</th>\n",
              "      <th>data_channel_is_bus</th>\n",
              "      <th>data_channel_is_socmed</th>\n",
              "      <th>data_channel_is_tech</th>\n",
              "      <th>data_channel_is_world</th>\n",
              "      <th>weekday_is_monday</th>\n",
              "      <th>weekday_is_tuesday</th>\n",
              "      <th>weekday_is_wednesday</th>\n",
              "      <th>weekday_is_thursday</th>\n",
              "      <th>weekday_is_friday</th>\n",
              "      <th>weekday_is_saturday</th>\n",
              "      <th>weekday_is_sunday</th>\n",
              "      <th>is_weekend</th>\n",
              "      <th>rate_positive_words</th>\n",
              "      <th>rate_negative_words</th>\n",
              "      <th>shares</th>\n",
              "    </tr>\n",
              "  </thead>\n",
              "  <tbody>\n",
              "    <tr>\n",
              "      <th>0</th>\n",
              "      <td>http://mashable.com/2013/01/07/amazon-instant-...</td>\n",
              "      <td>731.0</td>\n",
              "      <td>1.0</td>\n",
              "      <td>0.0</td>\n",
              "      <td>0.0</td>\n",
              "      <td>1.0</td>\n",
              "      <td>0.0</td>\n",
              "      <td>0.0</td>\n",
              "      <td>0.0</td>\n",
              "      <td>0.0</td>\n",
              "      <td>1.0</td>\n",
              "      <td>0.0</td>\n",
              "      <td>0.0</td>\n",
              "      <td>0.0</td>\n",
              "      <td>0.0</td>\n",
              "      <td>0.0</td>\n",
              "      <td>0.0</td>\n",
              "      <td>0.0</td>\n",
              "      <td>0.769231</td>\n",
              "      <td>0.230769</td>\n",
              "      <td>593</td>\n",
              "    </tr>\n",
              "    <tr>\n",
              "      <th>1</th>\n",
              "      <td>http://mashable.com/2013/01/07/ap-samsung-spon...</td>\n",
              "      <td>731.0</td>\n",
              "      <td>1.0</td>\n",
              "      <td>0.0</td>\n",
              "      <td>0.0</td>\n",
              "      <td>0.0</td>\n",
              "      <td>1.0</td>\n",
              "      <td>0.0</td>\n",
              "      <td>0.0</td>\n",
              "      <td>0.0</td>\n",
              "      <td>1.0</td>\n",
              "      <td>0.0</td>\n",
              "      <td>0.0</td>\n",
              "      <td>0.0</td>\n",
              "      <td>0.0</td>\n",
              "      <td>0.0</td>\n",
              "      <td>0.0</td>\n",
              "      <td>0.0</td>\n",
              "      <td>0.733333</td>\n",
              "      <td>0.266667</td>\n",
              "      <td>711</td>\n",
              "    </tr>\n",
              "    <tr>\n",
              "      <th>2</th>\n",
              "      <td>http://mashable.com/2013/01/07/apple-40-billio...</td>\n",
              "      <td>731.0</td>\n",
              "      <td>1.0</td>\n",
              "      <td>0.0</td>\n",
              "      <td>0.0</td>\n",
              "      <td>0.0</td>\n",
              "      <td>1.0</td>\n",
              "      <td>0.0</td>\n",
              "      <td>0.0</td>\n",
              "      <td>0.0</td>\n",
              "      <td>1.0</td>\n",
              "      <td>0.0</td>\n",
              "      <td>0.0</td>\n",
              "      <td>0.0</td>\n",
              "      <td>0.0</td>\n",
              "      <td>0.0</td>\n",
              "      <td>0.0</td>\n",
              "      <td>0.0</td>\n",
              "      <td>0.857143</td>\n",
              "      <td>0.142857</td>\n",
              "      <td>1500</td>\n",
              "    </tr>\n",
              "    <tr>\n",
              "      <th>3</th>\n",
              "      <td>http://mashable.com/2013/01/07/astronaut-notre...</td>\n",
              "      <td>731.0</td>\n",
              "      <td>1.0</td>\n",
              "      <td>0.0</td>\n",
              "      <td>0.0</td>\n",
              "      <td>1.0</td>\n",
              "      <td>0.0</td>\n",
              "      <td>0.0</td>\n",
              "      <td>0.0</td>\n",
              "      <td>0.0</td>\n",
              "      <td>1.0</td>\n",
              "      <td>0.0</td>\n",
              "      <td>0.0</td>\n",
              "      <td>0.0</td>\n",
              "      <td>0.0</td>\n",
              "      <td>0.0</td>\n",
              "      <td>0.0</td>\n",
              "      <td>0.0</td>\n",
              "      <td>0.666667</td>\n",
              "      <td>0.333333</td>\n",
              "      <td>1200</td>\n",
              "    </tr>\n",
              "    <tr>\n",
              "      <th>4</th>\n",
              "      <td>http://mashable.com/2013/01/07/att-u-verse-apps/</td>\n",
              "      <td>731.0</td>\n",
              "      <td>20.0</td>\n",
              "      <td>0.0</td>\n",
              "      <td>0.0</td>\n",
              "      <td>0.0</td>\n",
              "      <td>0.0</td>\n",
              "      <td>0.0</td>\n",
              "      <td>1.0</td>\n",
              "      <td>0.0</td>\n",
              "      <td>1.0</td>\n",
              "      <td>0.0</td>\n",
              "      <td>0.0</td>\n",
              "      <td>0.0</td>\n",
              "      <td>0.0</td>\n",
              "      <td>0.0</td>\n",
              "      <td>0.0</td>\n",
              "      <td>0.0</td>\n",
              "      <td>0.860215</td>\n",
              "      <td>0.139785</td>\n",
              "      <td>505</td>\n",
              "    </tr>\n",
              "    <tr>\n",
              "      <th>...</th>\n",
              "      <td>...</td>\n",
              "      <td>...</td>\n",
              "      <td>...</td>\n",
              "      <td>...</td>\n",
              "      <td>...</td>\n",
              "      <td>...</td>\n",
              "      <td>...</td>\n",
              "      <td>...</td>\n",
              "      <td>...</td>\n",
              "      <td>...</td>\n",
              "      <td>...</td>\n",
              "      <td>...</td>\n",
              "      <td>...</td>\n",
              "      <td>...</td>\n",
              "      <td>...</td>\n",
              "      <td>...</td>\n",
              "      <td>...</td>\n",
              "      <td>...</td>\n",
              "      <td>...</td>\n",
              "      <td>...</td>\n",
              "      <td>...</td>\n",
              "    </tr>\n",
              "    <tr>\n",
              "      <th>39639</th>\n",
              "      <td>http://mashable.com/2014/12/27/samsung-app-aut...</td>\n",
              "      <td>8.0</td>\n",
              "      <td>1.0</td>\n",
              "      <td>1.0</td>\n",
              "      <td>0.0</td>\n",
              "      <td>0.0</td>\n",
              "      <td>0.0</td>\n",
              "      <td>0.0</td>\n",
              "      <td>1.0</td>\n",
              "      <td>0.0</td>\n",
              "      <td>0.0</td>\n",
              "      <td>0.0</td>\n",
              "      <td>1.0</td>\n",
              "      <td>0.0</td>\n",
              "      <td>0.0</td>\n",
              "      <td>0.0</td>\n",
              "      <td>0.0</td>\n",
              "      <td>0.0</td>\n",
              "      <td>0.722222</td>\n",
              "      <td>0.277778</td>\n",
              "      <td>1800</td>\n",
              "    </tr>\n",
              "    <tr>\n",
              "      <th>39640</th>\n",
              "      <td>http://mashable.com/2014/12/27/seth-rogen-jame...</td>\n",
              "      <td>8.0</td>\n",
              "      <td>3.0</td>\n",
              "      <td>48.0</td>\n",
              "      <td>0.0</td>\n",
              "      <td>0.0</td>\n",
              "      <td>0.0</td>\n",
              "      <td>1.0</td>\n",
              "      <td>0.0</td>\n",
              "      <td>0.0</td>\n",
              "      <td>0.0</td>\n",
              "      <td>0.0</td>\n",
              "      <td>1.0</td>\n",
              "      <td>0.0</td>\n",
              "      <td>0.0</td>\n",
              "      <td>0.0</td>\n",
              "      <td>0.0</td>\n",
              "      <td>0.0</td>\n",
              "      <td>0.812500</td>\n",
              "      <td>0.187500</td>\n",
              "      <td>1900</td>\n",
              "    </tr>\n",
              "    <tr>\n",
              "      <th>39641</th>\n",
              "      <td>http://mashable.com/2014/12/27/son-pays-off-mo...</td>\n",
              "      <td>8.0</td>\n",
              "      <td>12.0</td>\n",
              "      <td>1.0</td>\n",
              "      <td>0.0</td>\n",
              "      <td>0.0</td>\n",
              "      <td>0.0</td>\n",
              "      <td>0.0</td>\n",
              "      <td>0.0</td>\n",
              "      <td>0.0</td>\n",
              "      <td>0.0</td>\n",
              "      <td>0.0</td>\n",
              "      <td>1.0</td>\n",
              "      <td>0.0</td>\n",
              "      <td>0.0</td>\n",
              "      <td>0.0</td>\n",
              "      <td>0.0</td>\n",
              "      <td>0.0</td>\n",
              "      <td>0.576923</td>\n",
              "      <td>0.423077</td>\n",
              "      <td>1900</td>\n",
              "    </tr>\n",
              "    <tr>\n",
              "      <th>39642</th>\n",
              "      <td>http://mashable.com/2014/12/27/ukraine-blasts/</td>\n",
              "      <td>8.0</td>\n",
              "      <td>1.0</td>\n",
              "      <td>0.0</td>\n",
              "      <td>0.0</td>\n",
              "      <td>0.0</td>\n",
              "      <td>0.0</td>\n",
              "      <td>0.0</td>\n",
              "      <td>0.0</td>\n",
              "      <td>1.0</td>\n",
              "      <td>0.0</td>\n",
              "      <td>0.0</td>\n",
              "      <td>1.0</td>\n",
              "      <td>0.0</td>\n",
              "      <td>0.0</td>\n",
              "      <td>0.0</td>\n",
              "      <td>0.0</td>\n",
              "      <td>0.0</td>\n",
              "      <td>0.466667</td>\n",
              "      <td>0.533333</td>\n",
              "      <td>1100</td>\n",
              "    </tr>\n",
              "    <tr>\n",
              "      <th>39643</th>\n",
              "      <td>http://mashable.com/2014/12/27/youtube-channel...</td>\n",
              "      <td>8.0</td>\n",
              "      <td>0.0</td>\n",
              "      <td>2.0</td>\n",
              "      <td>0.0</td>\n",
              "      <td>1.0</td>\n",
              "      <td>0.0</td>\n",
              "      <td>0.0</td>\n",
              "      <td>0.0</td>\n",
              "      <td>0.0</td>\n",
              "      <td>0.0</td>\n",
              "      <td>0.0</td>\n",
              "      <td>1.0</td>\n",
              "      <td>0.0</td>\n",
              "      <td>0.0</td>\n",
              "      <td>0.0</td>\n",
              "      <td>0.0</td>\n",
              "      <td>0.0</td>\n",
              "      <td>0.833333</td>\n",
              "      <td>0.166667</td>\n",
              "      <td>1300</td>\n",
              "    </tr>\n",
              "  </tbody>\n",
              "</table>\n",
              "<p>39644 rows × 21 columns</p>\n",
              "</div>"
            ],
            "text/plain": [
              "                                                     url  ...  shares\n",
              "0      http://mashable.com/2013/01/07/amazon-instant-...  ...     593\n",
              "1      http://mashable.com/2013/01/07/ap-samsung-spon...  ...     711\n",
              "2      http://mashable.com/2013/01/07/apple-40-billio...  ...    1500\n",
              "3      http://mashable.com/2013/01/07/astronaut-notre...  ...    1200\n",
              "4       http://mashable.com/2013/01/07/att-u-verse-apps/  ...     505\n",
              "...                                                  ...  ...     ...\n",
              "39639  http://mashable.com/2014/12/27/samsung-app-aut...  ...    1800\n",
              "39640  http://mashable.com/2014/12/27/seth-rogen-jame...  ...    1900\n",
              "39641  http://mashable.com/2014/12/27/son-pays-off-mo...  ...    1900\n",
              "39642     http://mashable.com/2014/12/27/ukraine-blasts/  ...    1100\n",
              "39643  http://mashable.com/2014/12/27/youtube-channel...  ...    1300\n",
              "\n",
              "[39644 rows x 21 columns]"
            ]
          },
          "metadata": {
            "tags": []
          },
          "execution_count": 8
        }
      ]
    },
    {
      "cell_type": "markdown",
      "metadata": {
        "colab_type": "text",
        "id": "BIScSH3WDlVU"
      },
      "source": [
        "**원핫인코딩 -> 범주형 데이터로 변경**"
      ]
    },
    {
      "cell_type": "markdown",
      "metadata": {
        "id": "LPJd97_ANB8k",
        "colab_type": "text"
      },
      "source": [
        "***날짜 합치기***"
      ]
    },
    {
      "cell_type": "code",
      "metadata": {
        "id": "h9E7ycacJ5QQ",
        "colab_type": "code",
        "colab": {
          "base_uri": "https://localhost:8080/",
          "height": 34
        },
        "outputId": "530ad4aa-eed9-4a38-b5d5-47bf4dc7bdaa"
      },
      "source": [
        "#step1 요일 컬럼만으로 df구성\n",
        "df = news[['weekday_is_monday','weekday_is_tuesday','weekday_is_wednesday', 'weekday_is_thursday', 'weekday_is_friday','weekday_is_saturday', 'weekday_is_sunday', 'is_weekend']]\n",
        "df.shape"
      ],
      "execution_count": null,
      "outputs": [
        {
          "output_type": "execute_result",
          "data": {
            "text/plain": [
              "(39644, 8)"
            ]
          },
          "metadata": {
            "tags": []
          },
          "execution_count": 9
        }
      ]
    },
    {
      "cell_type": "code",
      "metadata": {
        "id": "TvFBtsFpTLf-",
        "colab_type": "code",
        "colab": {
          "base_uri": "https://localhost:8080/",
          "height": 221
        },
        "outputId": "b062e4ca-3b9f-45b7-98fd-a12899485979"
      },
      "source": [
        "#step2요일 컬럼의 1.0이 해당 요일이므로 1.0만 추출 하는 방식으로 아래와 같이 값 변환\n",
        "df[df['weekday_is_friday'].isin(['1.0'])]['weekday_is_friday']"
      ],
      "execution_count": null,
      "outputs": [
        {
          "output_type": "execute_result",
          "data": {
            "text/plain": [
              "260      1.0\n",
              "261      1.0\n",
              "262      1.0\n",
              "263      1.0\n",
              "264      1.0\n",
              "        ... \n",
              "39467    1.0\n",
              "39468    1.0\n",
              "39469    1.0\n",
              "39470    1.0\n",
              "39471    1.0\n",
              "Name: weekday_is_friday, Length: 5701, dtype: float64"
            ]
          },
          "metadata": {
            "tags": []
          },
          "execution_count": 10
        }
      ]
    },
    {
      "cell_type": "code",
      "metadata": {
        "id": "BHyyj9UdHK4_",
        "colab_type": "code",
        "colab": {
          "base_uri": "https://localhost:8080/",
          "height": 731
        },
        "outputId": "42220390-11da-4119-a747-99178d27c7ff"
      },
      "source": [
        "# step3 replace 메소드 사용 하여 값 대체\n",
        "df['weekday_is_monday'] = df['weekday_is_monday'].replace(1.0, 'Mon')\n",
        "df['weekday_is_tuesday'] = df['weekday_is_tuesday'].replace(1.0, 'Tue')\n",
        "df['weekday_is_wednesday'] = df['weekday_is_wednesday'].replace(1.0, 'Wed')\n",
        "df['weekday_is_thursday'] = df['weekday_is_thursday'].replace(1.0, 'Thur')\n",
        "df['weekday_is_friday'] = df['weekday_is_friday'].replace(1.0, 'Fri')\n",
        "df['weekday_is_saturday'] = df['weekday_is_saturday'].replace(1.0, 'Sat')\n",
        "df['weekday_is_sunday'] = df['weekday_is_sunday'].replace(1.0, 'Sun')"
      ],
      "execution_count": null,
      "outputs": [
        {
          "output_type": "stream",
          "text": [
            "/usr/local/lib/python3.6/dist-packages/ipykernel_launcher.py:1: SettingWithCopyWarning: \n",
            "A value is trying to be set on a copy of a slice from a DataFrame.\n",
            "Try using .loc[row_indexer,col_indexer] = value instead\n",
            "\n",
            "See the caveats in the documentation: http://pandas.pydata.org/pandas-docs/stable/user_guide/indexing.html#returning-a-view-versus-a-copy\n",
            "  \"\"\"Entry point for launching an IPython kernel.\n",
            "/usr/local/lib/python3.6/dist-packages/ipykernel_launcher.py:2: SettingWithCopyWarning: \n",
            "A value is trying to be set on a copy of a slice from a DataFrame.\n",
            "Try using .loc[row_indexer,col_indexer] = value instead\n",
            "\n",
            "See the caveats in the documentation: http://pandas.pydata.org/pandas-docs/stable/user_guide/indexing.html#returning-a-view-versus-a-copy\n",
            "  \n",
            "/usr/local/lib/python3.6/dist-packages/ipykernel_launcher.py:3: SettingWithCopyWarning: \n",
            "A value is trying to be set on a copy of a slice from a DataFrame.\n",
            "Try using .loc[row_indexer,col_indexer] = value instead\n",
            "\n",
            "See the caveats in the documentation: http://pandas.pydata.org/pandas-docs/stable/user_guide/indexing.html#returning-a-view-versus-a-copy\n",
            "  This is separate from the ipykernel package so we can avoid doing imports until\n",
            "/usr/local/lib/python3.6/dist-packages/ipykernel_launcher.py:4: SettingWithCopyWarning: \n",
            "A value is trying to be set on a copy of a slice from a DataFrame.\n",
            "Try using .loc[row_indexer,col_indexer] = value instead\n",
            "\n",
            "See the caveats in the documentation: http://pandas.pydata.org/pandas-docs/stable/user_guide/indexing.html#returning-a-view-versus-a-copy\n",
            "  after removing the cwd from sys.path.\n",
            "/usr/local/lib/python3.6/dist-packages/ipykernel_launcher.py:5: SettingWithCopyWarning: \n",
            "A value is trying to be set on a copy of a slice from a DataFrame.\n",
            "Try using .loc[row_indexer,col_indexer] = value instead\n",
            "\n",
            "See the caveats in the documentation: http://pandas.pydata.org/pandas-docs/stable/user_guide/indexing.html#returning-a-view-versus-a-copy\n",
            "  \"\"\"\n",
            "/usr/local/lib/python3.6/dist-packages/ipykernel_launcher.py:6: SettingWithCopyWarning: \n",
            "A value is trying to be set on a copy of a slice from a DataFrame.\n",
            "Try using .loc[row_indexer,col_indexer] = value instead\n",
            "\n",
            "See the caveats in the documentation: http://pandas.pydata.org/pandas-docs/stable/user_guide/indexing.html#returning-a-view-versus-a-copy\n",
            "  \n",
            "/usr/local/lib/python3.6/dist-packages/ipykernel_launcher.py:7: SettingWithCopyWarning: \n",
            "A value is trying to be set on a copy of a slice from a DataFrame.\n",
            "Try using .loc[row_indexer,col_indexer] = value instead\n",
            "\n",
            "See the caveats in the documentation: http://pandas.pydata.org/pandas-docs/stable/user_guide/indexing.html#returning-a-view-versus-a-copy\n",
            "  import sys\n"
          ],
          "name": "stderr"
        }
      ]
    },
    {
      "cell_type": "code",
      "metadata": {
        "id": "dYDtLpaAHVvp",
        "colab_type": "code",
        "colab": {}
      },
      "source": [
        "#step 4요일별 시리즈 생성\n",
        "mon = df[df['weekday_is_monday'].isin(['Mon'])]['weekday_is_monday']\n",
        "tue = df[df['weekday_is_tuesday'].isin(['Tue'])]['weekday_is_tuesday']\n",
        "wed = df[df['weekday_is_wednesday'].isin(['Wed'])]['weekday_is_wednesday']\n",
        "thur = df[df['weekday_is_thursday'].isin(['Thur'])]['weekday_is_thursday']\n",
        "fri = df[df['weekday_is_friday'].isin(['Fri'])]['weekday_is_friday']\n",
        "sat = df[df['weekday_is_saturday'].isin(['Sat'])]['weekday_is_saturday']\n",
        "sun = df[df['weekday_is_sunday'].isin(['Sun'])]['weekday_is_sunday']"
      ],
      "execution_count": null,
      "outputs": []
    },
    {
      "cell_type": "code",
      "metadata": {
        "id": "aSnSlwdIHZys",
        "colab_type": "code",
        "colab": {
          "base_uri": "https://localhost:8080/",
          "height": 34
        },
        "outputId": "fcef871c-d123-4f40-e358-feb2ed6064e0"
      },
      "source": [
        "print(len(mon), len(tue), len(wed), len(thur), len(fri), len(sat), len(sun)) #len 계속 확인하는 이유?"
      ],
      "execution_count": null,
      "outputs": [
        {
          "output_type": "stream",
          "text": [
            "6661 7390 7435 7267 5701 2453 2737\n"
          ],
          "name": "stdout"
        }
      ]
    },
    {
      "cell_type": "code",
      "metadata": {
        "id": "cbmpbKLZHjhm",
        "colab_type": "code",
        "colab": {
          "base_uri": "https://localhost:8080/",
          "height": 221
        },
        "outputId": "de2c0852-5a09-483c-b6d5-509e22acc277"
      },
      "source": [
        "#step  5 요일 시리즈 생성\n",
        "days = pd.concat([mon, tue, wed, thur,fri, sat, sun])\n",
        "days"
      ],
      "execution_count": null,
      "outputs": [
        {
          "output_type": "execute_result",
          "data": {
            "text/plain": [
              "0        Mon\n",
              "1        Mon\n",
              "2        Mon\n",
              "3        Mon\n",
              "4        Mon\n",
              "        ... \n",
              "39512    Sun\n",
              "39513    Sun\n",
              "39514    Sun\n",
              "39515    Sun\n",
              "39516    Sun\n",
              "Length: 39644, dtype: object"
            ]
          },
          "metadata": {
            "tags": []
          },
          "execution_count": 14
        }
      ]
    },
    {
      "cell_type": "code",
      "metadata": {
        "id": "77tLXxLpHuOC",
        "colab_type": "code",
        "colab": {
          "base_uri": "https://localhost:8080/",
          "height": 419
        },
        "outputId": "2bce0d3f-f1c0-4129-de52-896806dbffc5"
      },
      "source": [
        "#step 6 데이터 병합\n",
        "day=pd.concat([df, days], axis=1)\n",
        "day"
      ],
      "execution_count": null,
      "outputs": [
        {
          "output_type": "execute_result",
          "data": {
            "text/html": [
              "<div>\n",
              "<style scoped>\n",
              "    .dataframe tbody tr th:only-of-type {\n",
              "        vertical-align: middle;\n",
              "    }\n",
              "\n",
              "    .dataframe tbody tr th {\n",
              "        vertical-align: top;\n",
              "    }\n",
              "\n",
              "    .dataframe thead th {\n",
              "        text-align: right;\n",
              "    }\n",
              "</style>\n",
              "<table border=\"1\" class=\"dataframe\">\n",
              "  <thead>\n",
              "    <tr style=\"text-align: right;\">\n",
              "      <th></th>\n",
              "      <th>weekday_is_monday</th>\n",
              "      <th>weekday_is_tuesday</th>\n",
              "      <th>weekday_is_wednesday</th>\n",
              "      <th>weekday_is_thursday</th>\n",
              "      <th>weekday_is_friday</th>\n",
              "      <th>weekday_is_saturday</th>\n",
              "      <th>weekday_is_sunday</th>\n",
              "      <th>is_weekend</th>\n",
              "      <th>0</th>\n",
              "    </tr>\n",
              "  </thead>\n",
              "  <tbody>\n",
              "    <tr>\n",
              "      <th>0</th>\n",
              "      <td>Mon</td>\n",
              "      <td>0</td>\n",
              "      <td>0</td>\n",
              "      <td>0</td>\n",
              "      <td>0</td>\n",
              "      <td>0</td>\n",
              "      <td>0</td>\n",
              "      <td>0.0</td>\n",
              "      <td>Mon</td>\n",
              "    </tr>\n",
              "    <tr>\n",
              "      <th>1</th>\n",
              "      <td>Mon</td>\n",
              "      <td>0</td>\n",
              "      <td>0</td>\n",
              "      <td>0</td>\n",
              "      <td>0</td>\n",
              "      <td>0</td>\n",
              "      <td>0</td>\n",
              "      <td>0.0</td>\n",
              "      <td>Mon</td>\n",
              "    </tr>\n",
              "    <tr>\n",
              "      <th>2</th>\n",
              "      <td>Mon</td>\n",
              "      <td>0</td>\n",
              "      <td>0</td>\n",
              "      <td>0</td>\n",
              "      <td>0</td>\n",
              "      <td>0</td>\n",
              "      <td>0</td>\n",
              "      <td>0.0</td>\n",
              "      <td>Mon</td>\n",
              "    </tr>\n",
              "    <tr>\n",
              "      <th>3</th>\n",
              "      <td>Mon</td>\n",
              "      <td>0</td>\n",
              "      <td>0</td>\n",
              "      <td>0</td>\n",
              "      <td>0</td>\n",
              "      <td>0</td>\n",
              "      <td>0</td>\n",
              "      <td>0.0</td>\n",
              "      <td>Mon</td>\n",
              "    </tr>\n",
              "    <tr>\n",
              "      <th>4</th>\n",
              "      <td>Mon</td>\n",
              "      <td>0</td>\n",
              "      <td>0</td>\n",
              "      <td>0</td>\n",
              "      <td>0</td>\n",
              "      <td>0</td>\n",
              "      <td>0</td>\n",
              "      <td>0.0</td>\n",
              "      <td>Mon</td>\n",
              "    </tr>\n",
              "    <tr>\n",
              "      <th>...</th>\n",
              "      <td>...</td>\n",
              "      <td>...</td>\n",
              "      <td>...</td>\n",
              "      <td>...</td>\n",
              "      <td>...</td>\n",
              "      <td>...</td>\n",
              "      <td>...</td>\n",
              "      <td>...</td>\n",
              "      <td>...</td>\n",
              "    </tr>\n",
              "    <tr>\n",
              "      <th>39639</th>\n",
              "      <td>0</td>\n",
              "      <td>0</td>\n",
              "      <td>Wed</td>\n",
              "      <td>0</td>\n",
              "      <td>0</td>\n",
              "      <td>0</td>\n",
              "      <td>0</td>\n",
              "      <td>0.0</td>\n",
              "      <td>Wed</td>\n",
              "    </tr>\n",
              "    <tr>\n",
              "      <th>39640</th>\n",
              "      <td>0</td>\n",
              "      <td>0</td>\n",
              "      <td>Wed</td>\n",
              "      <td>0</td>\n",
              "      <td>0</td>\n",
              "      <td>0</td>\n",
              "      <td>0</td>\n",
              "      <td>0.0</td>\n",
              "      <td>Wed</td>\n",
              "    </tr>\n",
              "    <tr>\n",
              "      <th>39641</th>\n",
              "      <td>0</td>\n",
              "      <td>0</td>\n",
              "      <td>Wed</td>\n",
              "      <td>0</td>\n",
              "      <td>0</td>\n",
              "      <td>0</td>\n",
              "      <td>0</td>\n",
              "      <td>0.0</td>\n",
              "      <td>Wed</td>\n",
              "    </tr>\n",
              "    <tr>\n",
              "      <th>39642</th>\n",
              "      <td>0</td>\n",
              "      <td>0</td>\n",
              "      <td>Wed</td>\n",
              "      <td>0</td>\n",
              "      <td>0</td>\n",
              "      <td>0</td>\n",
              "      <td>0</td>\n",
              "      <td>0.0</td>\n",
              "      <td>Wed</td>\n",
              "    </tr>\n",
              "    <tr>\n",
              "      <th>39643</th>\n",
              "      <td>0</td>\n",
              "      <td>0</td>\n",
              "      <td>Wed</td>\n",
              "      <td>0</td>\n",
              "      <td>0</td>\n",
              "      <td>0</td>\n",
              "      <td>0</td>\n",
              "      <td>0.0</td>\n",
              "      <td>Wed</td>\n",
              "    </tr>\n",
              "  </tbody>\n",
              "</table>\n",
              "<p>39644 rows × 9 columns</p>\n",
              "</div>"
            ],
            "text/plain": [
              "      weekday_is_monday weekday_is_tuesday  ... is_weekend    0\n",
              "0                   Mon                  0  ...        0.0  Mon\n",
              "1                   Mon                  0  ...        0.0  Mon\n",
              "2                   Mon                  0  ...        0.0  Mon\n",
              "3                   Mon                  0  ...        0.0  Mon\n",
              "4                   Mon                  0  ...        0.0  Mon\n",
              "...                 ...                ...  ...        ...  ...\n",
              "39639                 0                  0  ...        0.0  Wed\n",
              "39640                 0                  0  ...        0.0  Wed\n",
              "39641                 0                  0  ...        0.0  Wed\n",
              "39642                 0                  0  ...        0.0  Wed\n",
              "39643                 0                  0  ...        0.0  Wed\n",
              "\n",
              "[39644 rows x 9 columns]"
            ]
          },
          "metadata": {
            "tags": []
          },
          "execution_count": 15
        }
      ]
    },
    {
      "cell_type": "code",
      "metadata": {
        "id": "3qf5WYvVSzWp",
        "colab_type": "code",
        "colab": {
          "base_uri": "https://localhost:8080/",
          "height": 34
        },
        "outputId": "ce3ccae0-fa41-42b4-ffc8-44a55ab6a35c"
      },
      "source": [
        "len(df) - len(days)"
      ],
      "execution_count": null,
      "outputs": [
        {
          "output_type": "execute_result",
          "data": {
            "text/plain": [
              "0"
            ]
          },
          "metadata": {
            "tags": []
          },
          "execution_count": 16
        }
      ]
    },
    {
      "cell_type": "code",
      "metadata": {
        "id": "u7QkZVv7FRux",
        "colab_type": "code",
        "colab": {
          "base_uri": "https://localhost:8080/",
          "height": 419
        },
        "outputId": "bb10ebe6-7884-4223-b811-7d675aa2d680"
      },
      "source": [
        "#헤더 변경\n",
        "header1=['Mon','Tue','Wed','Thu','Fri','Sat','Sun','Weekend','days']\n",
        "day.columns=header1\n",
        "day"
      ],
      "execution_count": null,
      "outputs": [
        {
          "output_type": "execute_result",
          "data": {
            "text/html": [
              "<div>\n",
              "<style scoped>\n",
              "    .dataframe tbody tr th:only-of-type {\n",
              "        vertical-align: middle;\n",
              "    }\n",
              "\n",
              "    .dataframe tbody tr th {\n",
              "        vertical-align: top;\n",
              "    }\n",
              "\n",
              "    .dataframe thead th {\n",
              "        text-align: right;\n",
              "    }\n",
              "</style>\n",
              "<table border=\"1\" class=\"dataframe\">\n",
              "  <thead>\n",
              "    <tr style=\"text-align: right;\">\n",
              "      <th></th>\n",
              "      <th>Mon</th>\n",
              "      <th>Tue</th>\n",
              "      <th>Wed</th>\n",
              "      <th>Thu</th>\n",
              "      <th>Fri</th>\n",
              "      <th>Sat</th>\n",
              "      <th>Sun</th>\n",
              "      <th>Weekend</th>\n",
              "      <th>days</th>\n",
              "    </tr>\n",
              "  </thead>\n",
              "  <tbody>\n",
              "    <tr>\n",
              "      <th>0</th>\n",
              "      <td>Mon</td>\n",
              "      <td>0</td>\n",
              "      <td>0</td>\n",
              "      <td>0</td>\n",
              "      <td>0</td>\n",
              "      <td>0</td>\n",
              "      <td>0</td>\n",
              "      <td>0.0</td>\n",
              "      <td>Mon</td>\n",
              "    </tr>\n",
              "    <tr>\n",
              "      <th>1</th>\n",
              "      <td>Mon</td>\n",
              "      <td>0</td>\n",
              "      <td>0</td>\n",
              "      <td>0</td>\n",
              "      <td>0</td>\n",
              "      <td>0</td>\n",
              "      <td>0</td>\n",
              "      <td>0.0</td>\n",
              "      <td>Mon</td>\n",
              "    </tr>\n",
              "    <tr>\n",
              "      <th>2</th>\n",
              "      <td>Mon</td>\n",
              "      <td>0</td>\n",
              "      <td>0</td>\n",
              "      <td>0</td>\n",
              "      <td>0</td>\n",
              "      <td>0</td>\n",
              "      <td>0</td>\n",
              "      <td>0.0</td>\n",
              "      <td>Mon</td>\n",
              "    </tr>\n",
              "    <tr>\n",
              "      <th>3</th>\n",
              "      <td>Mon</td>\n",
              "      <td>0</td>\n",
              "      <td>0</td>\n",
              "      <td>0</td>\n",
              "      <td>0</td>\n",
              "      <td>0</td>\n",
              "      <td>0</td>\n",
              "      <td>0.0</td>\n",
              "      <td>Mon</td>\n",
              "    </tr>\n",
              "    <tr>\n",
              "      <th>4</th>\n",
              "      <td>Mon</td>\n",
              "      <td>0</td>\n",
              "      <td>0</td>\n",
              "      <td>0</td>\n",
              "      <td>0</td>\n",
              "      <td>0</td>\n",
              "      <td>0</td>\n",
              "      <td>0.0</td>\n",
              "      <td>Mon</td>\n",
              "    </tr>\n",
              "    <tr>\n",
              "      <th>...</th>\n",
              "      <td>...</td>\n",
              "      <td>...</td>\n",
              "      <td>...</td>\n",
              "      <td>...</td>\n",
              "      <td>...</td>\n",
              "      <td>...</td>\n",
              "      <td>...</td>\n",
              "      <td>...</td>\n",
              "      <td>...</td>\n",
              "    </tr>\n",
              "    <tr>\n",
              "      <th>39639</th>\n",
              "      <td>0</td>\n",
              "      <td>0</td>\n",
              "      <td>Wed</td>\n",
              "      <td>0</td>\n",
              "      <td>0</td>\n",
              "      <td>0</td>\n",
              "      <td>0</td>\n",
              "      <td>0.0</td>\n",
              "      <td>Wed</td>\n",
              "    </tr>\n",
              "    <tr>\n",
              "      <th>39640</th>\n",
              "      <td>0</td>\n",
              "      <td>0</td>\n",
              "      <td>Wed</td>\n",
              "      <td>0</td>\n",
              "      <td>0</td>\n",
              "      <td>0</td>\n",
              "      <td>0</td>\n",
              "      <td>0.0</td>\n",
              "      <td>Wed</td>\n",
              "    </tr>\n",
              "    <tr>\n",
              "      <th>39641</th>\n",
              "      <td>0</td>\n",
              "      <td>0</td>\n",
              "      <td>Wed</td>\n",
              "      <td>0</td>\n",
              "      <td>0</td>\n",
              "      <td>0</td>\n",
              "      <td>0</td>\n",
              "      <td>0.0</td>\n",
              "      <td>Wed</td>\n",
              "    </tr>\n",
              "    <tr>\n",
              "      <th>39642</th>\n",
              "      <td>0</td>\n",
              "      <td>0</td>\n",
              "      <td>Wed</td>\n",
              "      <td>0</td>\n",
              "      <td>0</td>\n",
              "      <td>0</td>\n",
              "      <td>0</td>\n",
              "      <td>0.0</td>\n",
              "      <td>Wed</td>\n",
              "    </tr>\n",
              "    <tr>\n",
              "      <th>39643</th>\n",
              "      <td>0</td>\n",
              "      <td>0</td>\n",
              "      <td>Wed</td>\n",
              "      <td>0</td>\n",
              "      <td>0</td>\n",
              "      <td>0</td>\n",
              "      <td>0</td>\n",
              "      <td>0.0</td>\n",
              "      <td>Wed</td>\n",
              "    </tr>\n",
              "  </tbody>\n",
              "</table>\n",
              "<p>39644 rows × 9 columns</p>\n",
              "</div>"
            ],
            "text/plain": [
              "       Mon Tue  Wed Thu Fri Sat Sun  Weekend days\n",
              "0      Mon   0    0   0   0   0   0      0.0  Mon\n",
              "1      Mon   0    0   0   0   0   0      0.0  Mon\n",
              "2      Mon   0    0   0   0   0   0      0.0  Mon\n",
              "3      Mon   0    0   0   0   0   0      0.0  Mon\n",
              "4      Mon   0    0   0   0   0   0      0.0  Mon\n",
              "...    ...  ..  ...  ..  ..  ..  ..      ...  ...\n",
              "39639    0   0  Wed   0   0   0   0      0.0  Wed\n",
              "39640    0   0  Wed   0   0   0   0      0.0  Wed\n",
              "39641    0   0  Wed   0   0   0   0      0.0  Wed\n",
              "39642    0   0  Wed   0   0   0   0      0.0  Wed\n",
              "39643    0   0  Wed   0   0   0   0      0.0  Wed\n",
              "\n",
              "[39644 rows x 9 columns]"
            ]
          },
          "metadata": {
            "tags": []
          },
          "execution_count": 17
        }
      ]
    },
    {
      "cell_type": "code",
      "metadata": {
        "id": "Uazrk1HdIDPM",
        "colab_type": "code",
        "colab": {
          "base_uri": "https://localhost:8080/",
          "height": 34
        },
        "outputId": "80db9ac4-832f-4420-a09f-0f08fe9c0d09"
      },
      "source": [
        "day.columns"
      ],
      "execution_count": null,
      "outputs": [
        {
          "output_type": "execute_result",
          "data": {
            "text/plain": [
              "Index(['Mon', 'Tue', 'Wed', 'Thu', 'Fri', 'Sat', 'Sun', 'Weekend', 'days'], dtype='object')"
            ]
          },
          "metadata": {
            "tags": []
          },
          "execution_count": 18
        }
      ]
    },
    {
      "cell_type": "code",
      "metadata": {
        "id": "YfApHuiDqQGZ",
        "colab_type": "code",
        "colab": {
          "base_uri": "https://localhost:8080/",
          "height": 609
        },
        "outputId": "7048df86-86ff-4bad-9e15-6f5014ee210d"
      },
      "source": [
        "#데이터 붙이기 및 추가 삭제\n",
        "news=pd.concat([news,day['days']],axis=1)\n",
        "news.drop(['weekday_is_monday',\t'weekday_is_tuesday',\t'weekday_is_wednesday',\t'weekday_is_thursday',\t'weekday_is_friday',\t'weekday_is_saturday',\t'weekday_is_sunday',\t'is_weekend'],axis=1,inplace=True)\n",
        "news"
      ],
      "execution_count": null,
      "outputs": [
        {
          "output_type": "execute_result",
          "data": {
            "text/html": [
              "<div>\n",
              "<style scoped>\n",
              "    .dataframe tbody tr th:only-of-type {\n",
              "        vertical-align: middle;\n",
              "    }\n",
              "\n",
              "    .dataframe tbody tr th {\n",
              "        vertical-align: top;\n",
              "    }\n",
              "\n",
              "    .dataframe thead th {\n",
              "        text-align: right;\n",
              "    }\n",
              "</style>\n",
              "<table border=\"1\" class=\"dataframe\">\n",
              "  <thead>\n",
              "    <tr style=\"text-align: right;\">\n",
              "      <th></th>\n",
              "      <th>url</th>\n",
              "      <th>timedelta</th>\n",
              "      <th>num_imgs</th>\n",
              "      <th>num_videos</th>\n",
              "      <th>data_channel_is_lifestyle</th>\n",
              "      <th>data_channel_is_entertainment</th>\n",
              "      <th>data_channel_is_bus</th>\n",
              "      <th>data_channel_is_socmed</th>\n",
              "      <th>data_channel_is_tech</th>\n",
              "      <th>data_channel_is_world</th>\n",
              "      <th>rate_positive_words</th>\n",
              "      <th>rate_negative_words</th>\n",
              "      <th>shares</th>\n",
              "      <th>days</th>\n",
              "    </tr>\n",
              "  </thead>\n",
              "  <tbody>\n",
              "    <tr>\n",
              "      <th>0</th>\n",
              "      <td>http://mashable.com/2013/01/07/amazon-instant-...</td>\n",
              "      <td>731.0</td>\n",
              "      <td>1.0</td>\n",
              "      <td>0.0</td>\n",
              "      <td>0.0</td>\n",
              "      <td>1.0</td>\n",
              "      <td>0.0</td>\n",
              "      <td>0.0</td>\n",
              "      <td>0.0</td>\n",
              "      <td>0.0</td>\n",
              "      <td>0.769231</td>\n",
              "      <td>0.230769</td>\n",
              "      <td>593</td>\n",
              "      <td>Mon</td>\n",
              "    </tr>\n",
              "    <tr>\n",
              "      <th>1</th>\n",
              "      <td>http://mashable.com/2013/01/07/ap-samsung-spon...</td>\n",
              "      <td>731.0</td>\n",
              "      <td>1.0</td>\n",
              "      <td>0.0</td>\n",
              "      <td>0.0</td>\n",
              "      <td>0.0</td>\n",
              "      <td>1.0</td>\n",
              "      <td>0.0</td>\n",
              "      <td>0.0</td>\n",
              "      <td>0.0</td>\n",
              "      <td>0.733333</td>\n",
              "      <td>0.266667</td>\n",
              "      <td>711</td>\n",
              "      <td>Mon</td>\n",
              "    </tr>\n",
              "    <tr>\n",
              "      <th>2</th>\n",
              "      <td>http://mashable.com/2013/01/07/apple-40-billio...</td>\n",
              "      <td>731.0</td>\n",
              "      <td>1.0</td>\n",
              "      <td>0.0</td>\n",
              "      <td>0.0</td>\n",
              "      <td>0.0</td>\n",
              "      <td>1.0</td>\n",
              "      <td>0.0</td>\n",
              "      <td>0.0</td>\n",
              "      <td>0.0</td>\n",
              "      <td>0.857143</td>\n",
              "      <td>0.142857</td>\n",
              "      <td>1500</td>\n",
              "      <td>Mon</td>\n",
              "    </tr>\n",
              "    <tr>\n",
              "      <th>3</th>\n",
              "      <td>http://mashable.com/2013/01/07/astronaut-notre...</td>\n",
              "      <td>731.0</td>\n",
              "      <td>1.0</td>\n",
              "      <td>0.0</td>\n",
              "      <td>0.0</td>\n",
              "      <td>1.0</td>\n",
              "      <td>0.0</td>\n",
              "      <td>0.0</td>\n",
              "      <td>0.0</td>\n",
              "      <td>0.0</td>\n",
              "      <td>0.666667</td>\n",
              "      <td>0.333333</td>\n",
              "      <td>1200</td>\n",
              "      <td>Mon</td>\n",
              "    </tr>\n",
              "    <tr>\n",
              "      <th>4</th>\n",
              "      <td>http://mashable.com/2013/01/07/att-u-verse-apps/</td>\n",
              "      <td>731.0</td>\n",
              "      <td>20.0</td>\n",
              "      <td>0.0</td>\n",
              "      <td>0.0</td>\n",
              "      <td>0.0</td>\n",
              "      <td>0.0</td>\n",
              "      <td>0.0</td>\n",
              "      <td>1.0</td>\n",
              "      <td>0.0</td>\n",
              "      <td>0.860215</td>\n",
              "      <td>0.139785</td>\n",
              "      <td>505</td>\n",
              "      <td>Mon</td>\n",
              "    </tr>\n",
              "    <tr>\n",
              "      <th>...</th>\n",
              "      <td>...</td>\n",
              "      <td>...</td>\n",
              "      <td>...</td>\n",
              "      <td>...</td>\n",
              "      <td>...</td>\n",
              "      <td>...</td>\n",
              "      <td>...</td>\n",
              "      <td>...</td>\n",
              "      <td>...</td>\n",
              "      <td>...</td>\n",
              "      <td>...</td>\n",
              "      <td>...</td>\n",
              "      <td>...</td>\n",
              "      <td>...</td>\n",
              "    </tr>\n",
              "    <tr>\n",
              "      <th>39639</th>\n",
              "      <td>http://mashable.com/2014/12/27/samsung-app-aut...</td>\n",
              "      <td>8.0</td>\n",
              "      <td>1.0</td>\n",
              "      <td>1.0</td>\n",
              "      <td>0.0</td>\n",
              "      <td>0.0</td>\n",
              "      <td>0.0</td>\n",
              "      <td>0.0</td>\n",
              "      <td>1.0</td>\n",
              "      <td>0.0</td>\n",
              "      <td>0.722222</td>\n",
              "      <td>0.277778</td>\n",
              "      <td>1800</td>\n",
              "      <td>Wed</td>\n",
              "    </tr>\n",
              "    <tr>\n",
              "      <th>39640</th>\n",
              "      <td>http://mashable.com/2014/12/27/seth-rogen-jame...</td>\n",
              "      <td>8.0</td>\n",
              "      <td>3.0</td>\n",
              "      <td>48.0</td>\n",
              "      <td>0.0</td>\n",
              "      <td>0.0</td>\n",
              "      <td>0.0</td>\n",
              "      <td>1.0</td>\n",
              "      <td>0.0</td>\n",
              "      <td>0.0</td>\n",
              "      <td>0.812500</td>\n",
              "      <td>0.187500</td>\n",
              "      <td>1900</td>\n",
              "      <td>Wed</td>\n",
              "    </tr>\n",
              "    <tr>\n",
              "      <th>39641</th>\n",
              "      <td>http://mashable.com/2014/12/27/son-pays-off-mo...</td>\n",
              "      <td>8.0</td>\n",
              "      <td>12.0</td>\n",
              "      <td>1.0</td>\n",
              "      <td>0.0</td>\n",
              "      <td>0.0</td>\n",
              "      <td>0.0</td>\n",
              "      <td>0.0</td>\n",
              "      <td>0.0</td>\n",
              "      <td>0.0</td>\n",
              "      <td>0.576923</td>\n",
              "      <td>0.423077</td>\n",
              "      <td>1900</td>\n",
              "      <td>Wed</td>\n",
              "    </tr>\n",
              "    <tr>\n",
              "      <th>39642</th>\n",
              "      <td>http://mashable.com/2014/12/27/ukraine-blasts/</td>\n",
              "      <td>8.0</td>\n",
              "      <td>1.0</td>\n",
              "      <td>0.0</td>\n",
              "      <td>0.0</td>\n",
              "      <td>0.0</td>\n",
              "      <td>0.0</td>\n",
              "      <td>0.0</td>\n",
              "      <td>0.0</td>\n",
              "      <td>1.0</td>\n",
              "      <td>0.466667</td>\n",
              "      <td>0.533333</td>\n",
              "      <td>1100</td>\n",
              "      <td>Wed</td>\n",
              "    </tr>\n",
              "    <tr>\n",
              "      <th>39643</th>\n",
              "      <td>http://mashable.com/2014/12/27/youtube-channel...</td>\n",
              "      <td>8.0</td>\n",
              "      <td>0.0</td>\n",
              "      <td>2.0</td>\n",
              "      <td>0.0</td>\n",
              "      <td>1.0</td>\n",
              "      <td>0.0</td>\n",
              "      <td>0.0</td>\n",
              "      <td>0.0</td>\n",
              "      <td>0.0</td>\n",
              "      <td>0.833333</td>\n",
              "      <td>0.166667</td>\n",
              "      <td>1300</td>\n",
              "      <td>Wed</td>\n",
              "    </tr>\n",
              "  </tbody>\n",
              "</table>\n",
              "<p>39644 rows × 14 columns</p>\n",
              "</div>"
            ],
            "text/plain": [
              "                                                     url  ...  days\n",
              "0      http://mashable.com/2013/01/07/amazon-instant-...  ...   Mon\n",
              "1      http://mashable.com/2013/01/07/ap-samsung-spon...  ...   Mon\n",
              "2      http://mashable.com/2013/01/07/apple-40-billio...  ...   Mon\n",
              "3      http://mashable.com/2013/01/07/astronaut-notre...  ...   Mon\n",
              "4       http://mashable.com/2013/01/07/att-u-verse-apps/  ...   Mon\n",
              "...                                                  ...  ...   ...\n",
              "39639  http://mashable.com/2014/12/27/samsung-app-aut...  ...   Wed\n",
              "39640  http://mashable.com/2014/12/27/seth-rogen-jame...  ...   Wed\n",
              "39641  http://mashable.com/2014/12/27/son-pays-off-mo...  ...   Wed\n",
              "39642     http://mashable.com/2014/12/27/ukraine-blasts/  ...   Wed\n",
              "39643  http://mashable.com/2014/12/27/youtube-channel...  ...   Wed\n",
              "\n",
              "[39644 rows x 14 columns]"
            ]
          },
          "metadata": {
            "tags": []
          },
          "execution_count": 19
        }
      ]
    },
    {
      "cell_type": "markdown",
      "metadata": {
        "id": "cNigC5StM9p-",
        "colab_type": "text"
      },
      "source": [
        "***데이터 채널 합치기***"
      ]
    },
    {
      "cell_type": "code",
      "metadata": {
        "id": "e0bapshvNF7E",
        "colab_type": "code",
        "colab": {
          "base_uri": "https://localhost:8080/",
          "height": 34
        },
        "outputId": "e4f92881-257f-42dc-bc9c-5041ea3a9435"
      },
      "source": [
        "data=news[['data_channel_is_lifestyle',\n",
        "       'data_channel_is_entertainment', 'data_channel_is_bus',\n",
        "       'data_channel_is_socmed', 'data_channel_is_tech',\n",
        "       'data_channel_is_world']]\n",
        "data.shape"
      ],
      "execution_count": null,
      "outputs": [
        {
          "output_type": "execute_result",
          "data": {
            "text/plain": [
              "(39644, 6)"
            ]
          },
          "metadata": {
            "tags": []
          },
          "execution_count": 20
        }
      ]
    },
    {
      "cell_type": "code",
      "metadata": {
        "id": "DbBQxS7hNGBn",
        "colab_type": "code",
        "colab": {
          "base_uri": "https://localhost:8080/",
          "height": 629
        },
        "outputId": "e7ef85c3-cb88-4eab-d554-0f8e0b0fc044"
      },
      "source": [
        "data['data_channel_is_lifestyle'] = data['data_channel_is_lifestyle'].replace(1.0, 'life')\n",
        "data['data_channel_is_entertainment'] = data['data_channel_is_entertainment'].replace(1.0, 'ent')\n",
        "data['data_channel_is_bus'] = data['data_channel_is_bus'].replace(1.0, 'buss')\n",
        "data['data_channel_is_socmed'] = data['data_channel_is_socmed'].replace(1.0, 'social')\n",
        "data['data_channel_is_tech'] = data['data_channel_is_tech'].replace(1.0, 'tech')\n",
        "data['data_channel_is_world'] = data['data_channel_is_world'].replace(1.0, 'world')"
      ],
      "execution_count": null,
      "outputs": [
        {
          "output_type": "stream",
          "text": [
            "/usr/local/lib/python3.6/dist-packages/ipykernel_launcher.py:1: SettingWithCopyWarning: \n",
            "A value is trying to be set on a copy of a slice from a DataFrame.\n",
            "Try using .loc[row_indexer,col_indexer] = value instead\n",
            "\n",
            "See the caveats in the documentation: http://pandas.pydata.org/pandas-docs/stable/user_guide/indexing.html#returning-a-view-versus-a-copy\n",
            "  \"\"\"Entry point for launching an IPython kernel.\n",
            "/usr/local/lib/python3.6/dist-packages/ipykernel_launcher.py:2: SettingWithCopyWarning: \n",
            "A value is trying to be set on a copy of a slice from a DataFrame.\n",
            "Try using .loc[row_indexer,col_indexer] = value instead\n",
            "\n",
            "See the caveats in the documentation: http://pandas.pydata.org/pandas-docs/stable/user_guide/indexing.html#returning-a-view-versus-a-copy\n",
            "  \n",
            "/usr/local/lib/python3.6/dist-packages/ipykernel_launcher.py:3: SettingWithCopyWarning: \n",
            "A value is trying to be set on a copy of a slice from a DataFrame.\n",
            "Try using .loc[row_indexer,col_indexer] = value instead\n",
            "\n",
            "See the caveats in the documentation: http://pandas.pydata.org/pandas-docs/stable/user_guide/indexing.html#returning-a-view-versus-a-copy\n",
            "  This is separate from the ipykernel package so we can avoid doing imports until\n",
            "/usr/local/lib/python3.6/dist-packages/ipykernel_launcher.py:4: SettingWithCopyWarning: \n",
            "A value is trying to be set on a copy of a slice from a DataFrame.\n",
            "Try using .loc[row_indexer,col_indexer] = value instead\n",
            "\n",
            "See the caveats in the documentation: http://pandas.pydata.org/pandas-docs/stable/user_guide/indexing.html#returning-a-view-versus-a-copy\n",
            "  after removing the cwd from sys.path.\n",
            "/usr/local/lib/python3.6/dist-packages/ipykernel_launcher.py:5: SettingWithCopyWarning: \n",
            "A value is trying to be set on a copy of a slice from a DataFrame.\n",
            "Try using .loc[row_indexer,col_indexer] = value instead\n",
            "\n",
            "See the caveats in the documentation: http://pandas.pydata.org/pandas-docs/stable/user_guide/indexing.html#returning-a-view-versus-a-copy\n",
            "  \"\"\"\n",
            "/usr/local/lib/python3.6/dist-packages/ipykernel_launcher.py:6: SettingWithCopyWarning: \n",
            "A value is trying to be set on a copy of a slice from a DataFrame.\n",
            "Try using .loc[row_indexer,col_indexer] = value instead\n",
            "\n",
            "See the caveats in the documentation: http://pandas.pydata.org/pandas-docs/stable/user_guide/indexing.html#returning-a-view-versus-a-copy\n",
            "  \n"
          ],
          "name": "stderr"
        }
      ]
    },
    {
      "cell_type": "code",
      "metadata": {
        "id": "sB3hQti9OeOT",
        "colab_type": "code",
        "colab": {}
      },
      "source": [
        "life = data[data['data_channel_is_lifestyle'].isin(['life'])]['data_channel_is_lifestyle']\n",
        "ent = data[data['data_channel_is_entertainment'].isin(['ent'])]['data_channel_is_entertainment']\n",
        "buss = data[data['data_channel_is_bus'].isin(['buss'])]['data_channel_is_bus']\n",
        "social = data[data['data_channel_is_socmed'].isin(['social'])]['data_channel_is_socmed']\n",
        "tech = data[data['data_channel_is_tech'].isin(['tech'])]['data_channel_is_tech']\n",
        "world = data[data['data_channel_is_world'].isin(['world'])]['data_channel_is_world']"
      ],
      "execution_count": null,
      "outputs": []
    },
    {
      "cell_type": "code",
      "metadata": {
        "id": "jyOL1fPtRTr_",
        "colab_type": "code",
        "colab": {
          "base_uri": "https://localhost:8080/",
          "height": 34
        },
        "outputId": "e18864d2-bc1d-404c-fce3-9350bcd13ea6"
      },
      "source": [
        "print(len(life),len(ent),len(buss),len(social),len(tech),len(world))"
      ],
      "execution_count": null,
      "outputs": [
        {
          "output_type": "stream",
          "text": [
            "2099 7057 6258 2323 7346 8427\n"
          ],
          "name": "stdout"
        }
      ]
    },
    {
      "cell_type": "code",
      "metadata": {
        "id": "hCy0qadEQmHP",
        "colab_type": "code",
        "colab": {
          "base_uri": "https://localhost:8080/",
          "height": 221
        },
        "outputId": "db295971-9f6f-46ba-ba4c-8f119d987dc4"
      },
      "source": [
        "topics=pd.concat([life,ent,buss,social,tech,world])\n",
        "topics"
      ],
      "execution_count": null,
      "outputs": [
        {
          "output_type": "execute_result",
          "data": {
            "text/plain": [
              "6         life\n",
              "11        life\n",
              "18        life\n",
              "28        life\n",
              "34        life\n",
              "         ...  \n",
              "39630    world\n",
              "39631    world\n",
              "39632    world\n",
              "39633    world\n",
              "39642    world\n",
              "Length: 33510, dtype: object"
            ]
          },
          "metadata": {
            "tags": []
          },
          "execution_count": 24
        }
      ]
    },
    {
      "cell_type": "markdown",
      "metadata": {
        "id": "H4w7JK7oR8jR",
        "colab_type": "text"
      },
      "source": [
        "**topic 등록안된 기사들이 있음**"
      ]
    },
    {
      "cell_type": "markdown",
      "metadata": {
        "id": "HK-A_63hgPOf",
        "colab_type": "text"
      },
      "source": [
        "***Topic 등록 안된 기사 제거***"
      ]
    },
    {
      "cell_type": "code",
      "metadata": {
        "id": "M0O1ibIXQmRW",
        "colab_type": "code",
        "colab": {
          "base_uri": "https://localhost:8080/",
          "height": 34
        },
        "outputId": "6d7a4721-785b-4a9b-a269-cc9281d02ad9"
      },
      "source": [
        "#모든값이 0인 변수 확인하려고\n",
        "n=news[(news['data_channel_is_lifestyle']==0) & (news['data_channel_is_entertainment']==0) & (news['data_channel_is_bus']==0) & (news['data_channel_is_socmed']==0)&(news['data_channel_is_tech']==0)&(news['data_channel_is_world']==0)]\n",
        "type(n)"
      ],
      "execution_count": null,
      "outputs": [
        {
          "output_type": "execute_result",
          "data": {
            "text/plain": [
              "pandas.core.frame.DataFrame"
            ]
          },
          "metadata": {
            "tags": []
          },
          "execution_count": 25
        }
      ]
    },
    {
      "cell_type": "code",
      "metadata": {
        "id": "lJ0aE5c4ZIRd",
        "colab_type": "code",
        "colab": {
          "base_uri": "https://localhost:8080/",
          "height": 609
        },
        "outputId": "fa55f82c-78e8-4c6b-bb13-306702096438"
      },
      "source": [
        "n"
      ],
      "execution_count": null,
      "outputs": [
        {
          "output_type": "execute_result",
          "data": {
            "text/html": [
              "<div>\n",
              "<style scoped>\n",
              "    .dataframe tbody tr th:only-of-type {\n",
              "        vertical-align: middle;\n",
              "    }\n",
              "\n",
              "    .dataframe tbody tr th {\n",
              "        vertical-align: top;\n",
              "    }\n",
              "\n",
              "    .dataframe thead th {\n",
              "        text-align: right;\n",
              "    }\n",
              "</style>\n",
              "<table border=\"1\" class=\"dataframe\">\n",
              "  <thead>\n",
              "    <tr style=\"text-align: right;\">\n",
              "      <th></th>\n",
              "      <th>url</th>\n",
              "      <th>timedelta</th>\n",
              "      <th>num_imgs</th>\n",
              "      <th>num_videos</th>\n",
              "      <th>data_channel_is_lifestyle</th>\n",
              "      <th>data_channel_is_entertainment</th>\n",
              "      <th>data_channel_is_bus</th>\n",
              "      <th>data_channel_is_socmed</th>\n",
              "      <th>data_channel_is_tech</th>\n",
              "      <th>data_channel_is_world</th>\n",
              "      <th>rate_positive_words</th>\n",
              "      <th>rate_negative_words</th>\n",
              "      <th>shares</th>\n",
              "      <th>days</th>\n",
              "    </tr>\n",
              "  </thead>\n",
              "  <tbody>\n",
              "    <tr>\n",
              "      <th>12</th>\n",
              "      <td>http://mashable.com/2013/01/07/creature-cups/</td>\n",
              "      <td>731.0</td>\n",
              "      <td>11.0</td>\n",
              "      <td>0.0</td>\n",
              "      <td>0.0</td>\n",
              "      <td>0.0</td>\n",
              "      <td>0.0</td>\n",
              "      <td>0.0</td>\n",
              "      <td>0.0</td>\n",
              "      <td>0.0</td>\n",
              "      <td>0.636364</td>\n",
              "      <td>0.363636</td>\n",
              "      <td>823</td>\n",
              "      <td>Mon</td>\n",
              "    </tr>\n",
              "    <tr>\n",
              "      <th>13</th>\n",
              "      <td>http://mashable.com/2013/01/07/dad-jokes/</td>\n",
              "      <td>731.0</td>\n",
              "      <td>0.0</td>\n",
              "      <td>21.0</td>\n",
              "      <td>0.0</td>\n",
              "      <td>0.0</td>\n",
              "      <td>0.0</td>\n",
              "      <td>0.0</td>\n",
              "      <td>0.0</td>\n",
              "      <td>0.0</td>\n",
              "      <td>0.347826</td>\n",
              "      <td>0.652174</td>\n",
              "      <td>10000</td>\n",
              "      <td>Mon</td>\n",
              "    </tr>\n",
              "    <tr>\n",
              "      <th>14</th>\n",
              "      <td>http://mashable.com/2013/01/07/downton-abbey-t...</td>\n",
              "      <td>731.0</td>\n",
              "      <td>9.0</td>\n",
              "      <td>0.0</td>\n",
              "      <td>0.0</td>\n",
              "      <td>0.0</td>\n",
              "      <td>0.0</td>\n",
              "      <td>0.0</td>\n",
              "      <td>0.0</td>\n",
              "      <td>0.0</td>\n",
              "      <td>0.571429</td>\n",
              "      <td>0.428571</td>\n",
              "      <td>761</td>\n",
              "      <td>Mon</td>\n",
              "    </tr>\n",
              "    <tr>\n",
              "      <th>16</th>\n",
              "      <td>http://mashable.com/2013/01/07/echo-game/</td>\n",
              "      <td>731.0</td>\n",
              "      <td>12.0</td>\n",
              "      <td>1.0</td>\n",
              "      <td>0.0</td>\n",
              "      <td>0.0</td>\n",
              "      <td>0.0</td>\n",
              "      <td>0.0</td>\n",
              "      <td>0.0</td>\n",
              "      <td>0.0</td>\n",
              "      <td>0.613333</td>\n",
              "      <td>0.386667</td>\n",
              "      <td>13600</td>\n",
              "      <td>Mon</td>\n",
              "    </tr>\n",
              "    <tr>\n",
              "      <th>33</th>\n",
              "      <td>http://mashable.com/2013/01/07/lionel-messi-fa...</td>\n",
              "      <td>731.0</td>\n",
              "      <td>1.0</td>\n",
              "      <td>0.0</td>\n",
              "      <td>0.0</td>\n",
              "      <td>0.0</td>\n",
              "      <td>0.0</td>\n",
              "      <td>0.0</td>\n",
              "      <td>0.0</td>\n",
              "      <td>0.0</td>\n",
              "      <td>0.896552</td>\n",
              "      <td>0.103448</td>\n",
              "      <td>573</td>\n",
              "      <td>Mon</td>\n",
              "    </tr>\n",
              "    <tr>\n",
              "      <th>...</th>\n",
              "      <td>...</td>\n",
              "      <td>...</td>\n",
              "      <td>...</td>\n",
              "      <td>...</td>\n",
              "      <td>...</td>\n",
              "      <td>...</td>\n",
              "      <td>...</td>\n",
              "      <td>...</td>\n",
              "      <td>...</td>\n",
              "      <td>...</td>\n",
              "      <td>...</td>\n",
              "      <td>...</td>\n",
              "      <td>...</td>\n",
              "      <td>...</td>\n",
              "    </tr>\n",
              "    <tr>\n",
              "      <th>39607</th>\n",
              "      <td>http://mashable.com/2014/12/26/putin-cancels-n...</td>\n",
              "      <td>9.0</td>\n",
              "      <td>1.0</td>\n",
              "      <td>0.0</td>\n",
              "      <td>0.0</td>\n",
              "      <td>0.0</td>\n",
              "      <td>0.0</td>\n",
              "      <td>0.0</td>\n",
              "      <td>0.0</td>\n",
              "      <td>0.0</td>\n",
              "      <td>0.727273</td>\n",
              "      <td>0.272727</td>\n",
              "      <td>2500</td>\n",
              "      <td>Tue</td>\n",
              "    </tr>\n",
              "    <tr>\n",
              "      <th>39616</th>\n",
              "      <td>http://mashable.com/2014/12/26/top-photography...</td>\n",
              "      <td>9.0</td>\n",
              "      <td>0.0</td>\n",
              "      <td>1.0</td>\n",
              "      <td>0.0</td>\n",
              "      <td>0.0</td>\n",
              "      <td>0.0</td>\n",
              "      <td>0.0</td>\n",
              "      <td>0.0</td>\n",
              "      <td>0.0</td>\n",
              "      <td>0.000000</td>\n",
              "      <td>0.000000</td>\n",
              "      <td>2100</td>\n",
              "      <td>Tue</td>\n",
              "    </tr>\n",
              "    <tr>\n",
              "      <th>39621</th>\n",
              "      <td>http://mashable.com/2014/12/26/ukraine-prisone...</td>\n",
              "      <td>9.0</td>\n",
              "      <td>1.0</td>\n",
              "      <td>0.0</td>\n",
              "      <td>0.0</td>\n",
              "      <td>0.0</td>\n",
              "      <td>0.0</td>\n",
              "      <td>0.0</td>\n",
              "      <td>0.0</td>\n",
              "      <td>0.0</td>\n",
              "      <td>0.473684</td>\n",
              "      <td>0.526316</td>\n",
              "      <td>24300</td>\n",
              "      <td>Tue</td>\n",
              "    </tr>\n",
              "    <tr>\n",
              "      <th>39634</th>\n",
              "      <td>http://mashable.com/2014/12/27/music-grid-outf...</td>\n",
              "      <td>9.0</td>\n",
              "      <td>9.0</td>\n",
              "      <td>2.0</td>\n",
              "      <td>0.0</td>\n",
              "      <td>0.0</td>\n",
              "      <td>0.0</td>\n",
              "      <td>0.0</td>\n",
              "      <td>0.0</td>\n",
              "      <td>0.0</td>\n",
              "      <td>0.615385</td>\n",
              "      <td>0.384615</td>\n",
              "      <td>1000</td>\n",
              "      <td>Tue</td>\n",
              "    </tr>\n",
              "    <tr>\n",
              "      <th>39641</th>\n",
              "      <td>http://mashable.com/2014/12/27/son-pays-off-mo...</td>\n",
              "      <td>8.0</td>\n",
              "      <td>12.0</td>\n",
              "      <td>1.0</td>\n",
              "      <td>0.0</td>\n",
              "      <td>0.0</td>\n",
              "      <td>0.0</td>\n",
              "      <td>0.0</td>\n",
              "      <td>0.0</td>\n",
              "      <td>0.0</td>\n",
              "      <td>0.576923</td>\n",
              "      <td>0.423077</td>\n",
              "      <td>1900</td>\n",
              "      <td>Wed</td>\n",
              "    </tr>\n",
              "  </tbody>\n",
              "</table>\n",
              "<p>6134 rows × 14 columns</p>\n",
              "</div>"
            ],
            "text/plain": [
              "                                                     url  ...  days\n",
              "12         http://mashable.com/2013/01/07/creature-cups/  ...   Mon\n",
              "13             http://mashable.com/2013/01/07/dad-jokes/  ...   Mon\n",
              "14     http://mashable.com/2013/01/07/downton-abbey-t...  ...   Mon\n",
              "16             http://mashable.com/2013/01/07/echo-game/  ...   Mon\n",
              "33     http://mashable.com/2013/01/07/lionel-messi-fa...  ...   Mon\n",
              "...                                                  ...  ...   ...\n",
              "39607  http://mashable.com/2014/12/26/putin-cancels-n...  ...   Tue\n",
              "39616  http://mashable.com/2014/12/26/top-photography...  ...   Tue\n",
              "39621  http://mashable.com/2014/12/26/ukraine-prisone...  ...   Tue\n",
              "39634  http://mashable.com/2014/12/27/music-grid-outf...  ...   Tue\n",
              "39641  http://mashable.com/2014/12/27/son-pays-off-mo...  ...   Wed\n",
              "\n",
              "[6134 rows x 14 columns]"
            ]
          },
          "metadata": {
            "tags": []
          },
          "execution_count": 26
        }
      ]
    },
    {
      "cell_type": "code",
      "metadata": {
        "id": "uw5nm4Nme92B",
        "colab_type": "code",
        "colab": {
          "base_uri": "https://localhost:8080/",
          "height": 119
        },
        "outputId": "d05d5a05-2430-4bdb-dfd5-26e9dce3632f"
      },
      "source": [
        "n.index"
      ],
      "execution_count": null,
      "outputs": [
        {
          "output_type": "execute_result",
          "data": {
            "text/plain": [
              "Int64Index([   12,    13,    14,    16,    33,    56,    86,    98,   100,\n",
              "              101,\n",
              "            ...\n",
              "            39569, 39584, 39588, 39598, 39601, 39607, 39616, 39621, 39634,\n",
              "            39641],\n",
              "           dtype='int64', length=6134)"
            ]
          },
          "metadata": {
            "tags": []
          },
          "execution_count": 27
        }
      ]
    },
    {
      "cell_type": "code",
      "metadata": {
        "id": "8dNOr70lWwmu",
        "colab_type": "code",
        "colab": {
          "base_uri": "https://localhost:8080/",
          "height": 609
        },
        "outputId": "bbf1ffd4-db4a-4578-a3ca-2162eae5395b"
      },
      "source": [
        "#결측치 제거\n",
        "new=news.drop(n.index,axis=0)\n",
        "new"
      ],
      "execution_count": null,
      "outputs": [
        {
          "output_type": "execute_result",
          "data": {
            "text/html": [
              "<div>\n",
              "<style scoped>\n",
              "    .dataframe tbody tr th:only-of-type {\n",
              "        vertical-align: middle;\n",
              "    }\n",
              "\n",
              "    .dataframe tbody tr th {\n",
              "        vertical-align: top;\n",
              "    }\n",
              "\n",
              "    .dataframe thead th {\n",
              "        text-align: right;\n",
              "    }\n",
              "</style>\n",
              "<table border=\"1\" class=\"dataframe\">\n",
              "  <thead>\n",
              "    <tr style=\"text-align: right;\">\n",
              "      <th></th>\n",
              "      <th>url</th>\n",
              "      <th>timedelta</th>\n",
              "      <th>num_imgs</th>\n",
              "      <th>num_videos</th>\n",
              "      <th>data_channel_is_lifestyle</th>\n",
              "      <th>data_channel_is_entertainment</th>\n",
              "      <th>data_channel_is_bus</th>\n",
              "      <th>data_channel_is_socmed</th>\n",
              "      <th>data_channel_is_tech</th>\n",
              "      <th>data_channel_is_world</th>\n",
              "      <th>rate_positive_words</th>\n",
              "      <th>rate_negative_words</th>\n",
              "      <th>shares</th>\n",
              "      <th>days</th>\n",
              "    </tr>\n",
              "  </thead>\n",
              "  <tbody>\n",
              "    <tr>\n",
              "      <th>0</th>\n",
              "      <td>http://mashable.com/2013/01/07/amazon-instant-...</td>\n",
              "      <td>731.0</td>\n",
              "      <td>1.0</td>\n",
              "      <td>0.0</td>\n",
              "      <td>0.0</td>\n",
              "      <td>1.0</td>\n",
              "      <td>0.0</td>\n",
              "      <td>0.0</td>\n",
              "      <td>0.0</td>\n",
              "      <td>0.0</td>\n",
              "      <td>0.769231</td>\n",
              "      <td>0.230769</td>\n",
              "      <td>593</td>\n",
              "      <td>Mon</td>\n",
              "    </tr>\n",
              "    <tr>\n",
              "      <th>1</th>\n",
              "      <td>http://mashable.com/2013/01/07/ap-samsung-spon...</td>\n",
              "      <td>731.0</td>\n",
              "      <td>1.0</td>\n",
              "      <td>0.0</td>\n",
              "      <td>0.0</td>\n",
              "      <td>0.0</td>\n",
              "      <td>1.0</td>\n",
              "      <td>0.0</td>\n",
              "      <td>0.0</td>\n",
              "      <td>0.0</td>\n",
              "      <td>0.733333</td>\n",
              "      <td>0.266667</td>\n",
              "      <td>711</td>\n",
              "      <td>Mon</td>\n",
              "    </tr>\n",
              "    <tr>\n",
              "      <th>2</th>\n",
              "      <td>http://mashable.com/2013/01/07/apple-40-billio...</td>\n",
              "      <td>731.0</td>\n",
              "      <td>1.0</td>\n",
              "      <td>0.0</td>\n",
              "      <td>0.0</td>\n",
              "      <td>0.0</td>\n",
              "      <td>1.0</td>\n",
              "      <td>0.0</td>\n",
              "      <td>0.0</td>\n",
              "      <td>0.0</td>\n",
              "      <td>0.857143</td>\n",
              "      <td>0.142857</td>\n",
              "      <td>1500</td>\n",
              "      <td>Mon</td>\n",
              "    </tr>\n",
              "    <tr>\n",
              "      <th>3</th>\n",
              "      <td>http://mashable.com/2013/01/07/astronaut-notre...</td>\n",
              "      <td>731.0</td>\n",
              "      <td>1.0</td>\n",
              "      <td>0.0</td>\n",
              "      <td>0.0</td>\n",
              "      <td>1.0</td>\n",
              "      <td>0.0</td>\n",
              "      <td>0.0</td>\n",
              "      <td>0.0</td>\n",
              "      <td>0.0</td>\n",
              "      <td>0.666667</td>\n",
              "      <td>0.333333</td>\n",
              "      <td>1200</td>\n",
              "      <td>Mon</td>\n",
              "    </tr>\n",
              "    <tr>\n",
              "      <th>4</th>\n",
              "      <td>http://mashable.com/2013/01/07/att-u-verse-apps/</td>\n",
              "      <td>731.0</td>\n",
              "      <td>20.0</td>\n",
              "      <td>0.0</td>\n",
              "      <td>0.0</td>\n",
              "      <td>0.0</td>\n",
              "      <td>0.0</td>\n",
              "      <td>0.0</td>\n",
              "      <td>1.0</td>\n",
              "      <td>0.0</td>\n",
              "      <td>0.860215</td>\n",
              "      <td>0.139785</td>\n",
              "      <td>505</td>\n",
              "      <td>Mon</td>\n",
              "    </tr>\n",
              "    <tr>\n",
              "      <th>...</th>\n",
              "      <td>...</td>\n",
              "      <td>...</td>\n",
              "      <td>...</td>\n",
              "      <td>...</td>\n",
              "      <td>...</td>\n",
              "      <td>...</td>\n",
              "      <td>...</td>\n",
              "      <td>...</td>\n",
              "      <td>...</td>\n",
              "      <td>...</td>\n",
              "      <td>...</td>\n",
              "      <td>...</td>\n",
              "      <td>...</td>\n",
              "      <td>...</td>\n",
              "    </tr>\n",
              "    <tr>\n",
              "      <th>39638</th>\n",
              "      <td>http://mashable.com/2014/12/27/protests-contin...</td>\n",
              "      <td>8.0</td>\n",
              "      <td>1.0</td>\n",
              "      <td>0.0</td>\n",
              "      <td>0.0</td>\n",
              "      <td>0.0</td>\n",
              "      <td>1.0</td>\n",
              "      <td>0.0</td>\n",
              "      <td>0.0</td>\n",
              "      <td>0.0</td>\n",
              "      <td>0.875000</td>\n",
              "      <td>0.125000</td>\n",
              "      <td>1200</td>\n",
              "      <td>Wed</td>\n",
              "    </tr>\n",
              "    <tr>\n",
              "      <th>39639</th>\n",
              "      <td>http://mashable.com/2014/12/27/samsung-app-aut...</td>\n",
              "      <td>8.0</td>\n",
              "      <td>1.0</td>\n",
              "      <td>1.0</td>\n",
              "      <td>0.0</td>\n",
              "      <td>0.0</td>\n",
              "      <td>0.0</td>\n",
              "      <td>0.0</td>\n",
              "      <td>1.0</td>\n",
              "      <td>0.0</td>\n",
              "      <td>0.722222</td>\n",
              "      <td>0.277778</td>\n",
              "      <td>1800</td>\n",
              "      <td>Wed</td>\n",
              "    </tr>\n",
              "    <tr>\n",
              "      <th>39640</th>\n",
              "      <td>http://mashable.com/2014/12/27/seth-rogen-jame...</td>\n",
              "      <td>8.0</td>\n",
              "      <td>3.0</td>\n",
              "      <td>48.0</td>\n",
              "      <td>0.0</td>\n",
              "      <td>0.0</td>\n",
              "      <td>0.0</td>\n",
              "      <td>1.0</td>\n",
              "      <td>0.0</td>\n",
              "      <td>0.0</td>\n",
              "      <td>0.812500</td>\n",
              "      <td>0.187500</td>\n",
              "      <td>1900</td>\n",
              "      <td>Wed</td>\n",
              "    </tr>\n",
              "    <tr>\n",
              "      <th>39642</th>\n",
              "      <td>http://mashable.com/2014/12/27/ukraine-blasts/</td>\n",
              "      <td>8.0</td>\n",
              "      <td>1.0</td>\n",
              "      <td>0.0</td>\n",
              "      <td>0.0</td>\n",
              "      <td>0.0</td>\n",
              "      <td>0.0</td>\n",
              "      <td>0.0</td>\n",
              "      <td>0.0</td>\n",
              "      <td>1.0</td>\n",
              "      <td>0.466667</td>\n",
              "      <td>0.533333</td>\n",
              "      <td>1100</td>\n",
              "      <td>Wed</td>\n",
              "    </tr>\n",
              "    <tr>\n",
              "      <th>39643</th>\n",
              "      <td>http://mashable.com/2014/12/27/youtube-channel...</td>\n",
              "      <td>8.0</td>\n",
              "      <td>0.0</td>\n",
              "      <td>2.0</td>\n",
              "      <td>0.0</td>\n",
              "      <td>1.0</td>\n",
              "      <td>0.0</td>\n",
              "      <td>0.0</td>\n",
              "      <td>0.0</td>\n",
              "      <td>0.0</td>\n",
              "      <td>0.833333</td>\n",
              "      <td>0.166667</td>\n",
              "      <td>1300</td>\n",
              "      <td>Wed</td>\n",
              "    </tr>\n",
              "  </tbody>\n",
              "</table>\n",
              "<p>33510 rows × 14 columns</p>\n",
              "</div>"
            ],
            "text/plain": [
              "                                                     url  ...  days\n",
              "0      http://mashable.com/2013/01/07/amazon-instant-...  ...   Mon\n",
              "1      http://mashable.com/2013/01/07/ap-samsung-spon...  ...   Mon\n",
              "2      http://mashable.com/2013/01/07/apple-40-billio...  ...   Mon\n",
              "3      http://mashable.com/2013/01/07/astronaut-notre...  ...   Mon\n",
              "4       http://mashable.com/2013/01/07/att-u-verse-apps/  ...   Mon\n",
              "...                                                  ...  ...   ...\n",
              "39638  http://mashable.com/2014/12/27/protests-contin...  ...   Wed\n",
              "39639  http://mashable.com/2014/12/27/samsung-app-aut...  ...   Wed\n",
              "39640  http://mashable.com/2014/12/27/seth-rogen-jame...  ...   Wed\n",
              "39642     http://mashable.com/2014/12/27/ukraine-blasts/  ...   Wed\n",
              "39643  http://mashable.com/2014/12/27/youtube-channel...  ...   Wed\n",
              "\n",
              "[33510 rows x 14 columns]"
            ]
          },
          "metadata": {
            "tags": []
          },
          "execution_count": 28
        }
      ]
    },
    {
      "cell_type": "markdown",
      "metadata": {
        "id": "03NnilWJgTlM",
        "colab_type": "text"
      },
      "source": [
        "**데이터 채널 범주화 계속 진행**"
      ]
    },
    {
      "cell_type": "code",
      "metadata": {
        "id": "HxYkDz-WhCnk",
        "colab_type": "code",
        "colab": {
          "base_uri": "https://localhost:8080/",
          "height": 833
        },
        "outputId": "5d147eea-027d-4c4f-82b3-a4eb5687cc22"
      },
      "source": [
        "data=new[['data_channel_is_lifestyle',\n",
        "       'data_channel_is_entertainment', 'data_channel_is_bus',\n",
        "       'data_channel_is_socmed', 'data_channel_is_tech',\n",
        "       'data_channel_is_world']]\n",
        "data.shape\n",
        "data['data_channel_is_lifestyle'] = data['data_channel_is_lifestyle'].replace(1.0, 'life')\n",
        "data['data_channel_is_entertainment'] = data['data_channel_is_entertainment'].replace(1.0, 'ent')\n",
        "data['data_channel_is_bus'] = data['data_channel_is_bus'].replace(1.0, 'buss')\n",
        "data['data_channel_is_socmed'] = data['data_channel_is_socmed'].replace(1.0, 'social')\n",
        "data['data_channel_is_tech'] = data['data_channel_is_tech'].replace(1.0, 'tech')\n",
        "data['data_channel_is_world'] = data['data_channel_is_world'].replace(1.0, 'world')\n",
        "life = data[data['data_channel_is_lifestyle'].isin(['life'])]['data_channel_is_lifestyle']\n",
        "ent = data[data['data_channel_is_entertainment'].isin(['ent'])]['data_channel_is_entertainment']\n",
        "buss = data[data['data_channel_is_bus'].isin(['buss'])]['data_channel_is_bus']\n",
        "social = data[data['data_channel_is_socmed'].isin(['social'])]['data_channel_is_socmed']\n",
        "tech = data[data['data_channel_is_tech'].isin(['tech'])]['data_channel_is_tech']\n",
        "world = data[data['data_channel_is_world'].isin(['world'])]['data_channel_is_world']\n",
        "topics=pd.concat([life,ent,buss,social,tech,world])\n",
        "topics"
      ],
      "execution_count": null,
      "outputs": [
        {
          "output_type": "stream",
          "text": [
            "/usr/local/lib/python3.6/dist-packages/ipykernel_launcher.py:6: SettingWithCopyWarning: \n",
            "A value is trying to be set on a copy of a slice from a DataFrame.\n",
            "Try using .loc[row_indexer,col_indexer] = value instead\n",
            "\n",
            "See the caveats in the documentation: http://pandas.pydata.org/pandas-docs/stable/user_guide/indexing.html#returning-a-view-versus-a-copy\n",
            "  \n",
            "/usr/local/lib/python3.6/dist-packages/ipykernel_launcher.py:7: SettingWithCopyWarning: \n",
            "A value is trying to be set on a copy of a slice from a DataFrame.\n",
            "Try using .loc[row_indexer,col_indexer] = value instead\n",
            "\n",
            "See the caveats in the documentation: http://pandas.pydata.org/pandas-docs/stable/user_guide/indexing.html#returning-a-view-versus-a-copy\n",
            "  import sys\n",
            "/usr/local/lib/python3.6/dist-packages/ipykernel_launcher.py:8: SettingWithCopyWarning: \n",
            "A value is trying to be set on a copy of a slice from a DataFrame.\n",
            "Try using .loc[row_indexer,col_indexer] = value instead\n",
            "\n",
            "See the caveats in the documentation: http://pandas.pydata.org/pandas-docs/stable/user_guide/indexing.html#returning-a-view-versus-a-copy\n",
            "  \n",
            "/usr/local/lib/python3.6/dist-packages/ipykernel_launcher.py:9: SettingWithCopyWarning: \n",
            "A value is trying to be set on a copy of a slice from a DataFrame.\n",
            "Try using .loc[row_indexer,col_indexer] = value instead\n",
            "\n",
            "See the caveats in the documentation: http://pandas.pydata.org/pandas-docs/stable/user_guide/indexing.html#returning-a-view-versus-a-copy\n",
            "  if __name__ == '__main__':\n",
            "/usr/local/lib/python3.6/dist-packages/ipykernel_launcher.py:10: SettingWithCopyWarning: \n",
            "A value is trying to be set on a copy of a slice from a DataFrame.\n",
            "Try using .loc[row_indexer,col_indexer] = value instead\n",
            "\n",
            "See the caveats in the documentation: http://pandas.pydata.org/pandas-docs/stable/user_guide/indexing.html#returning-a-view-versus-a-copy\n",
            "  # Remove the CWD from sys.path while we load stuff.\n",
            "/usr/local/lib/python3.6/dist-packages/ipykernel_launcher.py:11: SettingWithCopyWarning: \n",
            "A value is trying to be set on a copy of a slice from a DataFrame.\n",
            "Try using .loc[row_indexer,col_indexer] = value instead\n",
            "\n",
            "See the caveats in the documentation: http://pandas.pydata.org/pandas-docs/stable/user_guide/indexing.html#returning-a-view-versus-a-copy\n",
            "  # This is added back by InteractiveShellApp.init_path()\n"
          ],
          "name": "stderr"
        },
        {
          "output_type": "execute_result",
          "data": {
            "text/plain": [
              "6         life\n",
              "11        life\n",
              "18        life\n",
              "28        life\n",
              "34        life\n",
              "         ...  \n",
              "39630    world\n",
              "39631    world\n",
              "39632    world\n",
              "39633    world\n",
              "39642    world\n",
              "Length: 33510, dtype: object"
            ]
          },
          "metadata": {
            "tags": []
          },
          "execution_count": 29
        }
      ]
    },
    {
      "cell_type": "code",
      "metadata": {
        "id": "HLKuiDWogYq5",
        "colab_type": "code",
        "colab": {
          "base_uri": "https://localhost:8080/",
          "height": 419
        },
        "outputId": "f244070e-40d4-4218-8e28-bedefe15dced"
      },
      "source": [
        "\n",
        "topic=pd.concat([data, topics], axis=1)\n",
        "topic"
      ],
      "execution_count": null,
      "outputs": [
        {
          "output_type": "execute_result",
          "data": {
            "text/html": [
              "<div>\n",
              "<style scoped>\n",
              "    .dataframe tbody tr th:only-of-type {\n",
              "        vertical-align: middle;\n",
              "    }\n",
              "\n",
              "    .dataframe tbody tr th {\n",
              "        vertical-align: top;\n",
              "    }\n",
              "\n",
              "    .dataframe thead th {\n",
              "        text-align: right;\n",
              "    }\n",
              "</style>\n",
              "<table border=\"1\" class=\"dataframe\">\n",
              "  <thead>\n",
              "    <tr style=\"text-align: right;\">\n",
              "      <th></th>\n",
              "      <th>data_channel_is_lifestyle</th>\n",
              "      <th>data_channel_is_entertainment</th>\n",
              "      <th>data_channel_is_bus</th>\n",
              "      <th>data_channel_is_socmed</th>\n",
              "      <th>data_channel_is_tech</th>\n",
              "      <th>data_channel_is_world</th>\n",
              "      <th>0</th>\n",
              "    </tr>\n",
              "  </thead>\n",
              "  <tbody>\n",
              "    <tr>\n",
              "      <th>0</th>\n",
              "      <td>0</td>\n",
              "      <td>ent</td>\n",
              "      <td>0</td>\n",
              "      <td>0</td>\n",
              "      <td>0</td>\n",
              "      <td>0</td>\n",
              "      <td>ent</td>\n",
              "    </tr>\n",
              "    <tr>\n",
              "      <th>1</th>\n",
              "      <td>0</td>\n",
              "      <td>0</td>\n",
              "      <td>buss</td>\n",
              "      <td>0</td>\n",
              "      <td>0</td>\n",
              "      <td>0</td>\n",
              "      <td>buss</td>\n",
              "    </tr>\n",
              "    <tr>\n",
              "      <th>2</th>\n",
              "      <td>0</td>\n",
              "      <td>0</td>\n",
              "      <td>buss</td>\n",
              "      <td>0</td>\n",
              "      <td>0</td>\n",
              "      <td>0</td>\n",
              "      <td>buss</td>\n",
              "    </tr>\n",
              "    <tr>\n",
              "      <th>3</th>\n",
              "      <td>0</td>\n",
              "      <td>ent</td>\n",
              "      <td>0</td>\n",
              "      <td>0</td>\n",
              "      <td>0</td>\n",
              "      <td>0</td>\n",
              "      <td>ent</td>\n",
              "    </tr>\n",
              "    <tr>\n",
              "      <th>4</th>\n",
              "      <td>0</td>\n",
              "      <td>0</td>\n",
              "      <td>0</td>\n",
              "      <td>0</td>\n",
              "      <td>tech</td>\n",
              "      <td>0</td>\n",
              "      <td>tech</td>\n",
              "    </tr>\n",
              "    <tr>\n",
              "      <th>...</th>\n",
              "      <td>...</td>\n",
              "      <td>...</td>\n",
              "      <td>...</td>\n",
              "      <td>...</td>\n",
              "      <td>...</td>\n",
              "      <td>...</td>\n",
              "      <td>...</td>\n",
              "    </tr>\n",
              "    <tr>\n",
              "      <th>39638</th>\n",
              "      <td>0</td>\n",
              "      <td>0</td>\n",
              "      <td>buss</td>\n",
              "      <td>0</td>\n",
              "      <td>0</td>\n",
              "      <td>0</td>\n",
              "      <td>buss</td>\n",
              "    </tr>\n",
              "    <tr>\n",
              "      <th>39639</th>\n",
              "      <td>0</td>\n",
              "      <td>0</td>\n",
              "      <td>0</td>\n",
              "      <td>0</td>\n",
              "      <td>tech</td>\n",
              "      <td>0</td>\n",
              "      <td>tech</td>\n",
              "    </tr>\n",
              "    <tr>\n",
              "      <th>39640</th>\n",
              "      <td>0</td>\n",
              "      <td>0</td>\n",
              "      <td>0</td>\n",
              "      <td>social</td>\n",
              "      <td>0</td>\n",
              "      <td>0</td>\n",
              "      <td>social</td>\n",
              "    </tr>\n",
              "    <tr>\n",
              "      <th>39642</th>\n",
              "      <td>0</td>\n",
              "      <td>0</td>\n",
              "      <td>0</td>\n",
              "      <td>0</td>\n",
              "      <td>0</td>\n",
              "      <td>world</td>\n",
              "      <td>world</td>\n",
              "    </tr>\n",
              "    <tr>\n",
              "      <th>39643</th>\n",
              "      <td>0</td>\n",
              "      <td>ent</td>\n",
              "      <td>0</td>\n",
              "      <td>0</td>\n",
              "      <td>0</td>\n",
              "      <td>0</td>\n",
              "      <td>ent</td>\n",
              "    </tr>\n",
              "  </tbody>\n",
              "</table>\n",
              "<p>33510 rows × 7 columns</p>\n",
              "</div>"
            ],
            "text/plain": [
              "      data_channel_is_lifestyle  ...       0\n",
              "0                             0  ...     ent\n",
              "1                             0  ...    buss\n",
              "2                             0  ...    buss\n",
              "3                             0  ...     ent\n",
              "4                             0  ...    tech\n",
              "...                         ...  ...     ...\n",
              "39638                         0  ...    buss\n",
              "39639                         0  ...    tech\n",
              "39640                         0  ...  social\n",
              "39642                         0  ...   world\n",
              "39643                         0  ...     ent\n",
              "\n",
              "[33510 rows x 7 columns]"
            ]
          },
          "metadata": {
            "tags": []
          },
          "execution_count": 30
        }
      ]
    },
    {
      "cell_type": "code",
      "metadata": {
        "id": "li-5Mm-QMK92",
        "colab_type": "code",
        "colab": {
          "base_uri": "https://localhost:8080/",
          "height": 170
        },
        "outputId": "f511cc46-7f13-47ae-c2fa-2a44a136b71e"
      },
      "source": [
        "#정리된 범주형 변수 붙이기\n",
        "news=pd.concat([new,topic[0]],axis=1)\n",
        "news.columns"
      ],
      "execution_count": null,
      "outputs": [
        {
          "output_type": "execute_result",
          "data": {
            "text/plain": [
              "Index([                          'url',                     'timedelta',\n",
              "                            'num_imgs',                    'num_videos',\n",
              "           'data_channel_is_lifestyle', 'data_channel_is_entertainment',\n",
              "                 'data_channel_is_bus',        'data_channel_is_socmed',\n",
              "                'data_channel_is_tech',         'data_channel_is_world',\n",
              "                 'rate_positive_words',           'rate_negative_words',\n",
              "                              'shares',                          'days',\n",
              "                                     0],\n",
              "      dtype='object')"
            ]
          },
          "metadata": {
            "tags": []
          },
          "execution_count": 31
        }
      ]
    },
    {
      "cell_type": "code",
      "metadata": {
        "id": "kuQt-hsBwkCJ",
        "colab_type": "code",
        "colab": {
          "base_uri": "https://localhost:8080/",
          "height": 609
        },
        "outputId": "06f0044d-d98e-4268-864a-a13866073b42"
      },
      "source": [
        "#사진, 비디오 col 하나로 합치기\n",
        "news['num_visual']=news['num_imgs']+news['num_videos']\n",
        "news"
      ],
      "execution_count": null,
      "outputs": [
        {
          "output_type": "execute_result",
          "data": {
            "text/html": [
              "<div>\n",
              "<style scoped>\n",
              "    .dataframe tbody tr th:only-of-type {\n",
              "        vertical-align: middle;\n",
              "    }\n",
              "\n",
              "    .dataframe tbody tr th {\n",
              "        vertical-align: top;\n",
              "    }\n",
              "\n",
              "    .dataframe thead th {\n",
              "        text-align: right;\n",
              "    }\n",
              "</style>\n",
              "<table border=\"1\" class=\"dataframe\">\n",
              "  <thead>\n",
              "    <tr style=\"text-align: right;\">\n",
              "      <th></th>\n",
              "      <th>url</th>\n",
              "      <th>timedelta</th>\n",
              "      <th>num_imgs</th>\n",
              "      <th>num_videos</th>\n",
              "      <th>data_channel_is_lifestyle</th>\n",
              "      <th>data_channel_is_entertainment</th>\n",
              "      <th>data_channel_is_bus</th>\n",
              "      <th>data_channel_is_socmed</th>\n",
              "      <th>data_channel_is_tech</th>\n",
              "      <th>data_channel_is_world</th>\n",
              "      <th>rate_positive_words</th>\n",
              "      <th>rate_negative_words</th>\n",
              "      <th>shares</th>\n",
              "      <th>days</th>\n",
              "      <th>0</th>\n",
              "      <th>num_visual</th>\n",
              "    </tr>\n",
              "  </thead>\n",
              "  <tbody>\n",
              "    <tr>\n",
              "      <th>0</th>\n",
              "      <td>http://mashable.com/2013/01/07/amazon-instant-...</td>\n",
              "      <td>731.0</td>\n",
              "      <td>1.0</td>\n",
              "      <td>0.0</td>\n",
              "      <td>0.0</td>\n",
              "      <td>1.0</td>\n",
              "      <td>0.0</td>\n",
              "      <td>0.0</td>\n",
              "      <td>0.0</td>\n",
              "      <td>0.0</td>\n",
              "      <td>0.769231</td>\n",
              "      <td>0.230769</td>\n",
              "      <td>593</td>\n",
              "      <td>Mon</td>\n",
              "      <td>ent</td>\n",
              "      <td>1.0</td>\n",
              "    </tr>\n",
              "    <tr>\n",
              "      <th>1</th>\n",
              "      <td>http://mashable.com/2013/01/07/ap-samsung-spon...</td>\n",
              "      <td>731.0</td>\n",
              "      <td>1.0</td>\n",
              "      <td>0.0</td>\n",
              "      <td>0.0</td>\n",
              "      <td>0.0</td>\n",
              "      <td>1.0</td>\n",
              "      <td>0.0</td>\n",
              "      <td>0.0</td>\n",
              "      <td>0.0</td>\n",
              "      <td>0.733333</td>\n",
              "      <td>0.266667</td>\n",
              "      <td>711</td>\n",
              "      <td>Mon</td>\n",
              "      <td>buss</td>\n",
              "      <td>1.0</td>\n",
              "    </tr>\n",
              "    <tr>\n",
              "      <th>2</th>\n",
              "      <td>http://mashable.com/2013/01/07/apple-40-billio...</td>\n",
              "      <td>731.0</td>\n",
              "      <td>1.0</td>\n",
              "      <td>0.0</td>\n",
              "      <td>0.0</td>\n",
              "      <td>0.0</td>\n",
              "      <td>1.0</td>\n",
              "      <td>0.0</td>\n",
              "      <td>0.0</td>\n",
              "      <td>0.0</td>\n",
              "      <td>0.857143</td>\n",
              "      <td>0.142857</td>\n",
              "      <td>1500</td>\n",
              "      <td>Mon</td>\n",
              "      <td>buss</td>\n",
              "      <td>1.0</td>\n",
              "    </tr>\n",
              "    <tr>\n",
              "      <th>3</th>\n",
              "      <td>http://mashable.com/2013/01/07/astronaut-notre...</td>\n",
              "      <td>731.0</td>\n",
              "      <td>1.0</td>\n",
              "      <td>0.0</td>\n",
              "      <td>0.0</td>\n",
              "      <td>1.0</td>\n",
              "      <td>0.0</td>\n",
              "      <td>0.0</td>\n",
              "      <td>0.0</td>\n",
              "      <td>0.0</td>\n",
              "      <td>0.666667</td>\n",
              "      <td>0.333333</td>\n",
              "      <td>1200</td>\n",
              "      <td>Mon</td>\n",
              "      <td>ent</td>\n",
              "      <td>1.0</td>\n",
              "    </tr>\n",
              "    <tr>\n",
              "      <th>4</th>\n",
              "      <td>http://mashable.com/2013/01/07/att-u-verse-apps/</td>\n",
              "      <td>731.0</td>\n",
              "      <td>20.0</td>\n",
              "      <td>0.0</td>\n",
              "      <td>0.0</td>\n",
              "      <td>0.0</td>\n",
              "      <td>0.0</td>\n",
              "      <td>0.0</td>\n",
              "      <td>1.0</td>\n",
              "      <td>0.0</td>\n",
              "      <td>0.860215</td>\n",
              "      <td>0.139785</td>\n",
              "      <td>505</td>\n",
              "      <td>Mon</td>\n",
              "      <td>tech</td>\n",
              "      <td>20.0</td>\n",
              "    </tr>\n",
              "    <tr>\n",
              "      <th>...</th>\n",
              "      <td>...</td>\n",
              "      <td>...</td>\n",
              "      <td>...</td>\n",
              "      <td>...</td>\n",
              "      <td>...</td>\n",
              "      <td>...</td>\n",
              "      <td>...</td>\n",
              "      <td>...</td>\n",
              "      <td>...</td>\n",
              "      <td>...</td>\n",
              "      <td>...</td>\n",
              "      <td>...</td>\n",
              "      <td>...</td>\n",
              "      <td>...</td>\n",
              "      <td>...</td>\n",
              "      <td>...</td>\n",
              "    </tr>\n",
              "    <tr>\n",
              "      <th>39638</th>\n",
              "      <td>http://mashable.com/2014/12/27/protests-contin...</td>\n",
              "      <td>8.0</td>\n",
              "      <td>1.0</td>\n",
              "      <td>0.0</td>\n",
              "      <td>0.0</td>\n",
              "      <td>0.0</td>\n",
              "      <td>1.0</td>\n",
              "      <td>0.0</td>\n",
              "      <td>0.0</td>\n",
              "      <td>0.0</td>\n",
              "      <td>0.875000</td>\n",
              "      <td>0.125000</td>\n",
              "      <td>1200</td>\n",
              "      <td>Wed</td>\n",
              "      <td>buss</td>\n",
              "      <td>1.0</td>\n",
              "    </tr>\n",
              "    <tr>\n",
              "      <th>39639</th>\n",
              "      <td>http://mashable.com/2014/12/27/samsung-app-aut...</td>\n",
              "      <td>8.0</td>\n",
              "      <td>1.0</td>\n",
              "      <td>1.0</td>\n",
              "      <td>0.0</td>\n",
              "      <td>0.0</td>\n",
              "      <td>0.0</td>\n",
              "      <td>0.0</td>\n",
              "      <td>1.0</td>\n",
              "      <td>0.0</td>\n",
              "      <td>0.722222</td>\n",
              "      <td>0.277778</td>\n",
              "      <td>1800</td>\n",
              "      <td>Wed</td>\n",
              "      <td>tech</td>\n",
              "      <td>2.0</td>\n",
              "    </tr>\n",
              "    <tr>\n",
              "      <th>39640</th>\n",
              "      <td>http://mashable.com/2014/12/27/seth-rogen-jame...</td>\n",
              "      <td>8.0</td>\n",
              "      <td>3.0</td>\n",
              "      <td>48.0</td>\n",
              "      <td>0.0</td>\n",
              "      <td>0.0</td>\n",
              "      <td>0.0</td>\n",
              "      <td>1.0</td>\n",
              "      <td>0.0</td>\n",
              "      <td>0.0</td>\n",
              "      <td>0.812500</td>\n",
              "      <td>0.187500</td>\n",
              "      <td>1900</td>\n",
              "      <td>Wed</td>\n",
              "      <td>social</td>\n",
              "      <td>51.0</td>\n",
              "    </tr>\n",
              "    <tr>\n",
              "      <th>39642</th>\n",
              "      <td>http://mashable.com/2014/12/27/ukraine-blasts/</td>\n",
              "      <td>8.0</td>\n",
              "      <td>1.0</td>\n",
              "      <td>0.0</td>\n",
              "      <td>0.0</td>\n",
              "      <td>0.0</td>\n",
              "      <td>0.0</td>\n",
              "      <td>0.0</td>\n",
              "      <td>0.0</td>\n",
              "      <td>1.0</td>\n",
              "      <td>0.466667</td>\n",
              "      <td>0.533333</td>\n",
              "      <td>1100</td>\n",
              "      <td>Wed</td>\n",
              "      <td>world</td>\n",
              "      <td>1.0</td>\n",
              "    </tr>\n",
              "    <tr>\n",
              "      <th>39643</th>\n",
              "      <td>http://mashable.com/2014/12/27/youtube-channel...</td>\n",
              "      <td>8.0</td>\n",
              "      <td>0.0</td>\n",
              "      <td>2.0</td>\n",
              "      <td>0.0</td>\n",
              "      <td>1.0</td>\n",
              "      <td>0.0</td>\n",
              "      <td>0.0</td>\n",
              "      <td>0.0</td>\n",
              "      <td>0.0</td>\n",
              "      <td>0.833333</td>\n",
              "      <td>0.166667</td>\n",
              "      <td>1300</td>\n",
              "      <td>Wed</td>\n",
              "      <td>ent</td>\n",
              "      <td>2.0</td>\n",
              "    </tr>\n",
              "  </tbody>\n",
              "</table>\n",
              "<p>33510 rows × 16 columns</p>\n",
              "</div>"
            ],
            "text/plain": [
              "                                                     url  ...  num_visual\n",
              "0      http://mashable.com/2013/01/07/amazon-instant-...  ...         1.0\n",
              "1      http://mashable.com/2013/01/07/ap-samsung-spon...  ...         1.0\n",
              "2      http://mashable.com/2013/01/07/apple-40-billio...  ...         1.0\n",
              "3      http://mashable.com/2013/01/07/astronaut-notre...  ...         1.0\n",
              "4       http://mashable.com/2013/01/07/att-u-verse-apps/  ...        20.0\n",
              "...                                                  ...  ...         ...\n",
              "39638  http://mashable.com/2014/12/27/protests-contin...  ...         1.0\n",
              "39639  http://mashable.com/2014/12/27/samsung-app-aut...  ...         2.0\n",
              "39640  http://mashable.com/2014/12/27/seth-rogen-jame...  ...        51.0\n",
              "39642     http://mashable.com/2014/12/27/ukraine-blasts/  ...         1.0\n",
              "39643  http://mashable.com/2014/12/27/youtube-channel...  ...         2.0\n",
              "\n",
              "[33510 rows x 16 columns]"
            ]
          },
          "metadata": {
            "tags": []
          },
          "execution_count": 32
        }
      ]
    },
    {
      "cell_type": "code",
      "metadata": {
        "id": "EPB8fjyKU1IF",
        "colab_type": "code",
        "colab": {
          "base_uri": "https://localhost:8080/",
          "height": 170
        },
        "outputId": "28ab4b99-e0fa-41c9-9792-015fc140bbf2"
      },
      "source": [
        "\n",
        "news.columns"
      ],
      "execution_count": null,
      "outputs": [
        {
          "output_type": "execute_result",
          "data": {
            "text/plain": [
              "Index([                          'url',                     'timedelta',\n",
              "                            'num_imgs',                    'num_videos',\n",
              "           'data_channel_is_lifestyle', 'data_channel_is_entertainment',\n",
              "                 'data_channel_is_bus',        'data_channel_is_socmed',\n",
              "                'data_channel_is_tech',         'data_channel_is_world',\n",
              "                 'rate_positive_words',           'rate_negative_words',\n",
              "                              'shares',                          'days',\n",
              "                                     0,                    'num_visual'],\n",
              "      dtype='object')"
            ]
          },
          "metadata": {
            "tags": []
          },
          "execution_count": 33
        }
      ]
    },
    {
      "cell_type": "code",
      "metadata": {
        "id": "Ad7HBR6iU7E9",
        "colab_type": "code",
        "colab": {}
      },
      "source": [
        "#추가적으로 col 제거\n",
        "news.drop(['num_imgs', 'num_videos','data_channel_is_lifestyle',\n",
        "       'data_channel_is_entertainment', 'data_channel_is_bus',\n",
        "       'data_channel_is_socmed', 'data_channel_is_tech',\n",
        "       'data_channel_is_world'],axis=1,inplace=True)"
      ],
      "execution_count": null,
      "outputs": []
    },
    {
      "cell_type": "code",
      "metadata": {
        "id": "UJPr7KtxVEwg",
        "colab_type": "code",
        "colab": {
          "base_uri": "https://localhost:8080/",
          "height": 85
        },
        "outputId": "18804218-ac1b-4b37-f0a1-206dd2dfe3b9"
      },
      "source": [
        "news.columns"
      ],
      "execution_count": null,
      "outputs": [
        {
          "output_type": "execute_result",
          "data": {
            "text/plain": [
              "Index([                'url',           'timedelta', 'rate_positive_words',\n",
              "       'rate_negative_words',              'shares',                'days',\n",
              "                           0,          'num_visual'],\n",
              "      dtype='object')"
            ]
          },
          "metadata": {
            "tags": []
          },
          "execution_count": 35
        }
      ]
    },
    {
      "cell_type": "code",
      "metadata": {
        "id": "HQ2-lwnmVRW7",
        "colab_type": "code",
        "colab": {}
      },
      "source": [
        "#col 헤더변경\n",
        "head=['url',                    'timedelta',\n",
        "                'rate_positive_words',          'rate_negative_words',\n",
        "                              'shares',\n",
        "                               'days',                              'topics',\n",
        "                         'num_visual']\n",
        "news.columns=head"
      ],
      "execution_count": null,
      "outputs": []
    },
    {
      "cell_type": "code",
      "metadata": {
        "id": "W9R3l8CbVgtr",
        "colab_type": "code",
        "colab": {
          "base_uri": "https://localhost:8080/",
          "height": 111
        },
        "outputId": "3025457f-e3d9-4d5a-8b07-9dd59b6e3ed4"
      },
      "source": [
        "#col 순서변경\n",
        "order=[0,1,7,2,3,5,6,4]\n",
        "news=news[news.columns[order]]\n",
        "news.head(2)"
      ],
      "execution_count": null,
      "outputs": [
        {
          "output_type": "execute_result",
          "data": {
            "text/html": [
              "<div>\n",
              "<style scoped>\n",
              "    .dataframe tbody tr th:only-of-type {\n",
              "        vertical-align: middle;\n",
              "    }\n",
              "\n",
              "    .dataframe tbody tr th {\n",
              "        vertical-align: top;\n",
              "    }\n",
              "\n",
              "    .dataframe thead th {\n",
              "        text-align: right;\n",
              "    }\n",
              "</style>\n",
              "<table border=\"1\" class=\"dataframe\">\n",
              "  <thead>\n",
              "    <tr style=\"text-align: right;\">\n",
              "      <th></th>\n",
              "      <th>url</th>\n",
              "      <th>timedelta</th>\n",
              "      <th>num_visual</th>\n",
              "      <th>rate_positive_words</th>\n",
              "      <th>rate_negative_words</th>\n",
              "      <th>days</th>\n",
              "      <th>topics</th>\n",
              "      <th>shares</th>\n",
              "    </tr>\n",
              "  </thead>\n",
              "  <tbody>\n",
              "    <tr>\n",
              "      <th>0</th>\n",
              "      <td>http://mashable.com/2013/01/07/amazon-instant-...</td>\n",
              "      <td>731.0</td>\n",
              "      <td>1.0</td>\n",
              "      <td>0.769231</td>\n",
              "      <td>0.230769</td>\n",
              "      <td>Mon</td>\n",
              "      <td>ent</td>\n",
              "      <td>593</td>\n",
              "    </tr>\n",
              "    <tr>\n",
              "      <th>1</th>\n",
              "      <td>http://mashable.com/2013/01/07/ap-samsung-spon...</td>\n",
              "      <td>731.0</td>\n",
              "      <td>1.0</td>\n",
              "      <td>0.733333</td>\n",
              "      <td>0.266667</td>\n",
              "      <td>Mon</td>\n",
              "      <td>buss</td>\n",
              "      <td>711</td>\n",
              "    </tr>\n",
              "  </tbody>\n",
              "</table>\n",
              "</div>"
            ],
            "text/plain": [
              "                                                 url  timedelta  ...  topics  shares\n",
              "0  http://mashable.com/2013/01/07/amazon-instant-...      731.0  ...     ent     593\n",
              "1  http://mashable.com/2013/01/07/ap-samsung-spon...      731.0  ...    buss     711\n",
              "\n",
              "[2 rows x 8 columns]"
            ]
          },
          "metadata": {
            "tags": []
          },
          "execution_count": 37
        }
      ]
    },
    {
      "cell_type": "markdown",
      "metadata": {
        "id": "Qv1v_vWCWshP",
        "colab_type": "text"
      },
      "source": [
        "\n",
        "\n",
        "---\n",
        "\n"
      ]
    },
    {
      "cell_type": "markdown",
      "metadata": {
        "id": "yMfgQ1F8WvFx",
        "colab_type": "text"
      },
      "source": [
        "\n",
        "\n",
        "---\n",
        "\n"
      ]
    },
    {
      "cell_type": "markdown",
      "metadata": {
        "id": "NZ3k7HFHpSKv",
        "colab_type": "text"
      },
      "source": [
        "# **데이터 확인 및 가설세우기**"
      ]
    },
    {
      "cell_type": "code",
      "metadata": {
        "id": "cWTh5-6_hCjI",
        "colab_type": "code",
        "colab": {
          "base_uri": "https://localhost:8080/",
          "height": 204
        },
        "outputId": "cbc54cc5-17a5-469f-d307-e5194c606c55"
      },
      "source": [
        "#공유량 Top5 데이터 비교를 통해 데이터의 전반적인 모습 확인 및 가설세우기\n",
        "news.nlargest(5,columns='shares')"
      ],
      "execution_count": null,
      "outputs": [
        {
          "output_type": "execute_result",
          "data": {
            "text/html": [
              "<div>\n",
              "<style scoped>\n",
              "    .dataframe tbody tr th:only-of-type {\n",
              "        vertical-align: middle;\n",
              "    }\n",
              "\n",
              "    .dataframe tbody tr th {\n",
              "        vertical-align: top;\n",
              "    }\n",
              "\n",
              "    .dataframe thead th {\n",
              "        text-align: right;\n",
              "    }\n",
              "</style>\n",
              "<table border=\"1\" class=\"dataframe\">\n",
              "  <thead>\n",
              "    <tr style=\"text-align: right;\">\n",
              "      <th></th>\n",
              "      <th>url</th>\n",
              "      <th>timedelta</th>\n",
              "      <th>num_visual</th>\n",
              "      <th>rate_positive_words</th>\n",
              "      <th>rate_negative_words</th>\n",
              "      <th>days</th>\n",
              "      <th>topics</th>\n",
              "      <th>shares</th>\n",
              "    </tr>\n",
              "  </thead>\n",
              "  <tbody>\n",
              "    <tr>\n",
              "      <th>5370</th>\n",
              "      <td>http://mashable.com/2013/04/15/dove-ad-beauty-...</td>\n",
              "      <td>633.0</td>\n",
              "      <td>11.0</td>\n",
              "      <td>0.656250</td>\n",
              "      <td>0.343750</td>\n",
              "      <td>Mon</td>\n",
              "      <td>buss</td>\n",
              "      <td>690400</td>\n",
              "    </tr>\n",
              "    <tr>\n",
              "      <th>23237</th>\n",
              "      <td>http://mashable.com/2014/04/09/first-100-gilt-...</td>\n",
              "      <td>274.0</td>\n",
              "      <td>2.0</td>\n",
              "      <td>0.613445</td>\n",
              "      <td>0.386555</td>\n",
              "      <td>Wed</td>\n",
              "      <td>tech</td>\n",
              "      <td>663600</td>\n",
              "    </tr>\n",
              "    <tr>\n",
              "      <th>16268</th>\n",
              "      <td>http://mashable.com/2013/11/18/kanye-west-harv...</td>\n",
              "      <td>416.0</td>\n",
              "      <td>2.0</td>\n",
              "      <td>0.714286</td>\n",
              "      <td>0.285714</td>\n",
              "      <td>Mon</td>\n",
              "      <td>buss</td>\n",
              "      <td>652900</td>\n",
              "    </tr>\n",
              "    <tr>\n",
              "      <th>18788</th>\n",
              "      <td>http://mashable.com/2014/01/14/australia-heatw...</td>\n",
              "      <td>359.0</td>\n",
              "      <td>2.0</td>\n",
              "      <td>0.600000</td>\n",
              "      <td>0.400000</td>\n",
              "      <td>Tue</td>\n",
              "      <td>buss</td>\n",
              "      <td>310800</td>\n",
              "    </tr>\n",
              "    <tr>\n",
              "      <th>4506</th>\n",
              "      <td>http://mashable.com/2013/03/28/blackberry-1-mi...</td>\n",
              "      <td>651.0</td>\n",
              "      <td>21.0</td>\n",
              "      <td>0.680000</td>\n",
              "      <td>0.320000</td>\n",
              "      <td>Thur</td>\n",
              "      <td>buss</td>\n",
              "      <td>306100</td>\n",
              "    </tr>\n",
              "  </tbody>\n",
              "</table>\n",
              "</div>"
            ],
            "text/plain": [
              "                                                     url  ...  shares\n",
              "5370   http://mashable.com/2013/04/15/dove-ad-beauty-...  ...  690400\n",
              "23237  http://mashable.com/2014/04/09/first-100-gilt-...  ...  663600\n",
              "16268  http://mashable.com/2013/11/18/kanye-west-harv...  ...  652900\n",
              "18788  http://mashable.com/2014/01/14/australia-heatw...  ...  310800\n",
              "4506   http://mashable.com/2013/03/28/blackberry-1-mi...  ...  306100\n",
              "\n",
              "[5 rows x 8 columns]"
            ]
          },
          "metadata": {
            "tags": []
          },
          "execution_count": 38
        }
      ]
    },
    {
      "cell_type": "code",
      "metadata": {
        "id": "JA12fWeklPVb",
        "colab_type": "code",
        "colab": {
          "base_uri": "https://localhost:8080/",
          "height": 170
        },
        "outputId": "df4493f2-f641-4e6e-d494-7586aaac3ee4"
      },
      "source": [
        "#Top1\n",
        "news.loc[5370]"
      ],
      "execution_count": null,
      "outputs": [
        {
          "output_type": "execute_result",
          "data": {
            "text/plain": [
              "url                    http://mashable.com/2013/04/15/dove-ad-beauty-...\n",
              "timedelta                                                            633\n",
              "num_visual                                                            11\n",
              "rate_positive_words                                              0.65625\n",
              "rate_negative_words                                              0.34375\n",
              "days                                                                 Mon\n",
              "topics                                                              buss\n",
              "shares                                                            690400\n",
              "Name: 5370, dtype: object"
            ]
          },
          "metadata": {
            "tags": []
          },
          "execution_count": 39
        }
      ]
    },
    {
      "cell_type": "markdown",
      "metadata": {
        "id": "bs5bucFlkDgB",
        "colab_type": "text"
      },
      "source": [
        "Top1 : Dove 회사 목표\n",
        "\n",
        "월요일 발행\n",
        "\n",
        "633일 전 기사\n",
        "\n",
        "데이터 채널 :비즈니스\n",
        "\n",
        "긍정적인 표현이 부정적인 표현보다 많이 사용됨\n",
        "\n",
        "시각적 자료 11"
      ]
    },
    {
      "cell_type": "code",
      "metadata": {
        "id": "ETJPkmDzneaR",
        "colab_type": "code",
        "colab": {
          "base_uri": "https://localhost:8080/",
          "height": 170
        },
        "outputId": "de55bf4a-c59c-4887-e527-61913d29db7f"
      },
      "source": [
        "#Top2\n",
        "news.loc[23237]"
      ],
      "execution_count": null,
      "outputs": [
        {
          "output_type": "execute_result",
          "data": {
            "text/plain": [
              "url                    http://mashable.com/2014/04/09/first-100-gilt-...\n",
              "timedelta                                                            274\n",
              "num_visual                                                             2\n",
              "rate_positive_words                                             0.613445\n",
              "rate_negative_words                                             0.386555\n",
              "days                                                                 Wed\n",
              "topics                                                              tech\n",
              "shares                                                            663600\n",
              "Name: 23237, dtype: object"
            ]
          },
          "metadata": {
            "tags": []
          },
          "execution_count": 40
        }
      ]
    },
    {
      "cell_type": "markdown",
      "metadata": {
        "id": "s-UBKJRgpEWi",
        "colab_type": "text"
      },
      "source": [
        "Top2 : 스타트업 종사자 인터뷰\n",
        "\n",
        "수요일에 발행\n",
        "\n",
        "274일 전 기사\n",
        "\n",
        "타이틀이 자극적인 정도 0.285714\n",
        "\n",
        "긍정적인 표현이 부정적인 표현보다 많이 사용\n",
        "\n",
        "시각적 자료 2"
      ]
    },
    {
      "cell_type": "code",
      "metadata": {
        "id": "0IuUb_H0owZW",
        "colab_type": "code",
        "colab": {
          "base_uri": "https://localhost:8080/",
          "height": 170
        },
        "outputId": "476cf922-f5e5-4c2b-87d0-c6eaea0e9620"
      },
      "source": [
        "#Top3\n",
        "news.loc[16268]"
      ],
      "execution_count": null,
      "outputs": [
        {
          "output_type": "execute_result",
          "data": {
            "text/plain": [
              "url                    http://mashable.com/2013/11/18/kanye-west-harv...\n",
              "timedelta                                                            416\n",
              "num_visual                                                             2\n",
              "rate_positive_words                                             0.714286\n",
              "rate_negative_words                                             0.285714\n",
              "days                                                                 Mon\n",
              "topics                                                              buss\n",
              "shares                                                            652900\n",
              "Name: 16268, dtype: object"
            ]
          },
          "metadata": {
            "tags": []
          },
          "execution_count": 41
        }
      ]
    },
    {
      "cell_type": "markdown",
      "metadata": {
        "id": "62XRZlaYpy6W",
        "colab_type": "text"
      },
      "source": [
        "Top 3 : 칸예 웨스트의 하버드 강의\n",
        "\n",
        "월요일에 발행\n",
        "\n",
        "416일 전 기사\n",
        "\n",
        "데이터 채널 : 비즈니스\n",
        "\n",
        "긍정적인 단어가 부정적인 단어보다 많이 사용\n",
        "\n",
        "시각적 자료 2\n",
        "\n"
      ]
    },
    {
      "cell_type": "code",
      "metadata": {
        "id": "3ZN-qi0wpcRX",
        "colab_type": "code",
        "colab": {
          "base_uri": "https://localhost:8080/",
          "height": 170
        },
        "outputId": "aa75ceae-2777-4838-9ab7-7fba782f8c9e"
      },
      "source": [
        "#Top 4\n",
        "news.loc[18788]"
      ],
      "execution_count": null,
      "outputs": [
        {
          "output_type": "execute_result",
          "data": {
            "text/plain": [
              "url                    http://mashable.com/2014/01/14/australia-heatw...\n",
              "timedelta                                                            359\n",
              "num_visual                                                             2\n",
              "rate_positive_words                                                  0.6\n",
              "rate_negative_words                                                  0.4\n",
              "days                                                                 Tue\n",
              "topics                                                              buss\n",
              "shares                                                            310800\n",
              "Name: 18788, dtype: object"
            ]
          },
          "metadata": {
            "tags": []
          },
          "execution_count": 42
        }
      ]
    },
    {
      "cell_type": "code",
      "metadata": {
        "id": "CiIg7XHAiHRC",
        "colab_type": "code",
        "colab": {
          "base_uri": "https://localhost:8080/",
          "height": 34
        },
        "outputId": "b7ce06cc-087c-4557-8d2a-e89012d88e6f"
      },
      "source": [
        "news['url'].loc[18788]"
      ],
      "execution_count": null,
      "outputs": [
        {
          "output_type": "execute_result",
          "data": {
            "text/plain": [
              "'http://mashable.com/2014/01/14/australia-heatwave-photos/'"
            ]
          },
          "metadata": {
            "tags": []
          },
          "execution_count": 43
        }
      ]
    },
    {
      "cell_type": "markdown",
      "metadata": {
        "id": "nstMjUDhvD5Y",
        "colab_type": "text"
      },
      "source": [
        "Top 4 : 호주 폭염 기사\n",
        "\n",
        "화요일에 발행\n",
        "\n",
        "359일 전 기사\n",
        "\n",
        "데이터 채널 : socmed\n",
        "\n",
        "긍정적인 단어가 부정적인 단어보다 많이 사용됨\n",
        "\n",
        "시각적 자료 2"
      ]
    },
    {
      "cell_type": "code",
      "metadata": {
        "id": "emP1wT3jitth",
        "colab_type": "code",
        "colab": {
          "base_uri": "https://localhost:8080/",
          "height": 170
        },
        "outputId": "50f7f5a8-e61c-40fb-dd44-a89d71c2ae3c"
      },
      "source": [
        "#Top5\n",
        "news.loc[4506]"
      ],
      "execution_count": null,
      "outputs": [
        {
          "output_type": "execute_result",
          "data": {
            "text/plain": [
              "url                    http://mashable.com/2013/03/28/blackberry-1-mi...\n",
              "timedelta                                                            651\n",
              "num_visual                                                            21\n",
              "rate_positive_words                                                 0.68\n",
              "rate_negative_words                                                 0.32\n",
              "days                                                                Thur\n",
              "topics                                                              buss\n",
              "shares                                                            306100\n",
              "Name: 4506, dtype: object"
            ]
          },
          "metadata": {
            "tags": []
          },
          "execution_count": 44
        }
      ]
    },
    {
      "cell_type": "code",
      "metadata": {
        "id": "1hpK3AfYi0tl",
        "colab_type": "code",
        "colab": {
          "base_uri": "https://localhost:8080/",
          "height": 34
        },
        "outputId": "a30254f2-ff09-4e65-d6a4-b866a5c21ebf"
      },
      "source": [
        "news['url'][4506]"
      ],
      "execution_count": null,
      "outputs": [
        {
          "output_type": "execute_result",
          "data": {
            "text/plain": [
              "'http://mashable.com/2013/03/28/blackberry-1-million/'"
            ]
          },
          "metadata": {
            "tags": []
          },
          "execution_count": 45
        }
      ]
    },
    {
      "cell_type": "markdown",
      "metadata": {
        "id": "TFP4bS0ui9mW",
        "colab_type": "text"
      },
      "source": [
        "Top5 : 블랙베리 Q5 판매량 100대 돌파\n",
        "\n",
        "목요일 발행\n",
        "\n",
        "651일 전 기사\n",
        "\n",
        "데이터 채널 : 비즈니스\n",
        "\n",
        "긍정적인 단어가 부정적인 단어보다 많이 사용됨\n",
        "\n",
        "시각적 자료 21"
      ]
    },
    {
      "cell_type": "markdown",
      "metadata": {
        "id": "G_a6BvT-Fx6u",
        "colab_type": "text"
      },
      "source": [
        "**가설 및 분석주제**\n",
        "\n",
        "***1. 오래된 기사일 수록 인기도가 높지 않을까?***\n",
        "\n",
        "***2. 인기 있는 기사들은 특정한 요일에 쓰여지지 않았을까? (특히 평일)***\n",
        "\n",
        "***3. 긍정적인 단어, 부정적인 단어의 사용이 기사 공유횟수에 미치는 영향 분석***\n",
        "\n",
        "***4. 시각적 자료가 기사 인기도에 미치는 영향 분석***\n",
        "\n",
        "***5. 인기있는 Topic은 Business이지 않을까?***"
      ]
    },
    {
      "cell_type": "markdown",
      "metadata": {
        "id": "cvCWSQXbQ5Tg",
        "colab_type": "text"
      },
      "source": [
        "# **통계분석**"
      ]
    },
    {
      "cell_type": "code",
      "metadata": {
        "id": "UgYotfb_bdHL",
        "colab_type": "code",
        "colab": {
          "base_uri": "https://localhost:8080/",
          "height": 419
        },
        "outputId": "3fdab15e-a503-4a8f-e226-cdb6adc35e0c"
      },
      "source": [
        "news"
      ],
      "execution_count": null,
      "outputs": [
        {
          "output_type": "execute_result",
          "data": {
            "text/html": [
              "<div>\n",
              "<style scoped>\n",
              "    .dataframe tbody tr th:only-of-type {\n",
              "        vertical-align: middle;\n",
              "    }\n",
              "\n",
              "    .dataframe tbody tr th {\n",
              "        vertical-align: top;\n",
              "    }\n",
              "\n",
              "    .dataframe thead th {\n",
              "        text-align: right;\n",
              "    }\n",
              "</style>\n",
              "<table border=\"1\" class=\"dataframe\">\n",
              "  <thead>\n",
              "    <tr style=\"text-align: right;\">\n",
              "      <th></th>\n",
              "      <th>url</th>\n",
              "      <th>timedelta</th>\n",
              "      <th>num_visual</th>\n",
              "      <th>rate_positive_words</th>\n",
              "      <th>rate_negative_words</th>\n",
              "      <th>days</th>\n",
              "      <th>topics</th>\n",
              "      <th>shares</th>\n",
              "    </tr>\n",
              "  </thead>\n",
              "  <tbody>\n",
              "    <tr>\n",
              "      <th>0</th>\n",
              "      <td>http://mashable.com/2013/01/07/amazon-instant-...</td>\n",
              "      <td>731.0</td>\n",
              "      <td>1.0</td>\n",
              "      <td>0.769231</td>\n",
              "      <td>0.230769</td>\n",
              "      <td>Mon</td>\n",
              "      <td>ent</td>\n",
              "      <td>593</td>\n",
              "    </tr>\n",
              "    <tr>\n",
              "      <th>1</th>\n",
              "      <td>http://mashable.com/2013/01/07/ap-samsung-spon...</td>\n",
              "      <td>731.0</td>\n",
              "      <td>1.0</td>\n",
              "      <td>0.733333</td>\n",
              "      <td>0.266667</td>\n",
              "      <td>Mon</td>\n",
              "      <td>buss</td>\n",
              "      <td>711</td>\n",
              "    </tr>\n",
              "    <tr>\n",
              "      <th>2</th>\n",
              "      <td>http://mashable.com/2013/01/07/apple-40-billio...</td>\n",
              "      <td>731.0</td>\n",
              "      <td>1.0</td>\n",
              "      <td>0.857143</td>\n",
              "      <td>0.142857</td>\n",
              "      <td>Mon</td>\n",
              "      <td>buss</td>\n",
              "      <td>1500</td>\n",
              "    </tr>\n",
              "    <tr>\n",
              "      <th>3</th>\n",
              "      <td>http://mashable.com/2013/01/07/astronaut-notre...</td>\n",
              "      <td>731.0</td>\n",
              "      <td>1.0</td>\n",
              "      <td>0.666667</td>\n",
              "      <td>0.333333</td>\n",
              "      <td>Mon</td>\n",
              "      <td>ent</td>\n",
              "      <td>1200</td>\n",
              "    </tr>\n",
              "    <tr>\n",
              "      <th>4</th>\n",
              "      <td>http://mashable.com/2013/01/07/att-u-verse-apps/</td>\n",
              "      <td>731.0</td>\n",
              "      <td>20.0</td>\n",
              "      <td>0.860215</td>\n",
              "      <td>0.139785</td>\n",
              "      <td>Mon</td>\n",
              "      <td>tech</td>\n",
              "      <td>505</td>\n",
              "    </tr>\n",
              "    <tr>\n",
              "      <th>...</th>\n",
              "      <td>...</td>\n",
              "      <td>...</td>\n",
              "      <td>...</td>\n",
              "      <td>...</td>\n",
              "      <td>...</td>\n",
              "      <td>...</td>\n",
              "      <td>...</td>\n",
              "      <td>...</td>\n",
              "    </tr>\n",
              "    <tr>\n",
              "      <th>39638</th>\n",
              "      <td>http://mashable.com/2014/12/27/protests-contin...</td>\n",
              "      <td>8.0</td>\n",
              "      <td>1.0</td>\n",
              "      <td>0.875000</td>\n",
              "      <td>0.125000</td>\n",
              "      <td>Wed</td>\n",
              "      <td>buss</td>\n",
              "      <td>1200</td>\n",
              "    </tr>\n",
              "    <tr>\n",
              "      <th>39639</th>\n",
              "      <td>http://mashable.com/2014/12/27/samsung-app-aut...</td>\n",
              "      <td>8.0</td>\n",
              "      <td>2.0</td>\n",
              "      <td>0.722222</td>\n",
              "      <td>0.277778</td>\n",
              "      <td>Wed</td>\n",
              "      <td>tech</td>\n",
              "      <td>1800</td>\n",
              "    </tr>\n",
              "    <tr>\n",
              "      <th>39640</th>\n",
              "      <td>http://mashable.com/2014/12/27/seth-rogen-jame...</td>\n",
              "      <td>8.0</td>\n",
              "      <td>51.0</td>\n",
              "      <td>0.812500</td>\n",
              "      <td>0.187500</td>\n",
              "      <td>Wed</td>\n",
              "      <td>social</td>\n",
              "      <td>1900</td>\n",
              "    </tr>\n",
              "    <tr>\n",
              "      <th>39642</th>\n",
              "      <td>http://mashable.com/2014/12/27/ukraine-blasts/</td>\n",
              "      <td>8.0</td>\n",
              "      <td>1.0</td>\n",
              "      <td>0.466667</td>\n",
              "      <td>0.533333</td>\n",
              "      <td>Wed</td>\n",
              "      <td>world</td>\n",
              "      <td>1100</td>\n",
              "    </tr>\n",
              "    <tr>\n",
              "      <th>39643</th>\n",
              "      <td>http://mashable.com/2014/12/27/youtube-channel...</td>\n",
              "      <td>8.0</td>\n",
              "      <td>2.0</td>\n",
              "      <td>0.833333</td>\n",
              "      <td>0.166667</td>\n",
              "      <td>Wed</td>\n",
              "      <td>ent</td>\n",
              "      <td>1300</td>\n",
              "    </tr>\n",
              "  </tbody>\n",
              "</table>\n",
              "<p>33510 rows × 8 columns</p>\n",
              "</div>"
            ],
            "text/plain": [
              "                                                     url  ...  shares\n",
              "0      http://mashable.com/2013/01/07/amazon-instant-...  ...     593\n",
              "1      http://mashable.com/2013/01/07/ap-samsung-spon...  ...     711\n",
              "2      http://mashable.com/2013/01/07/apple-40-billio...  ...    1500\n",
              "3      http://mashable.com/2013/01/07/astronaut-notre...  ...    1200\n",
              "4       http://mashable.com/2013/01/07/att-u-verse-apps/  ...     505\n",
              "...                                                  ...  ...     ...\n",
              "39638  http://mashable.com/2014/12/27/protests-contin...  ...    1200\n",
              "39639  http://mashable.com/2014/12/27/samsung-app-aut...  ...    1800\n",
              "39640  http://mashable.com/2014/12/27/seth-rogen-jame...  ...    1900\n",
              "39642     http://mashable.com/2014/12/27/ukraine-blasts/  ...    1100\n",
              "39643  http://mashable.com/2014/12/27/youtube-channel...  ...    1300\n",
              "\n",
              "[33510 rows x 8 columns]"
            ]
          },
          "metadata": {
            "tags": []
          },
          "execution_count": 46
        }
      ]
    },
    {
      "cell_type": "code",
      "metadata": {
        "id": "0wOOuWXg92qw",
        "colab_type": "code",
        "colab": {
          "base_uri": "https://localhost:8080/",
          "height": 297
        },
        "outputId": "7ca63c19-4c5d-481d-bb5a-5cd1474b83fd"
      },
      "source": [
        "news.describe()"
      ],
      "execution_count": null,
      "outputs": [
        {
          "output_type": "execute_result",
          "data": {
            "text/html": [
              "<div>\n",
              "<style scoped>\n",
              "    .dataframe tbody tr th:only-of-type {\n",
              "        vertical-align: middle;\n",
              "    }\n",
              "\n",
              "    .dataframe tbody tr th {\n",
              "        vertical-align: top;\n",
              "    }\n",
              "\n",
              "    .dataframe thead th {\n",
              "        text-align: right;\n",
              "    }\n",
              "</style>\n",
              "<table border=\"1\" class=\"dataframe\">\n",
              "  <thead>\n",
              "    <tr style=\"text-align: right;\">\n",
              "      <th></th>\n",
              "      <th>timedelta</th>\n",
              "      <th>num_visual</th>\n",
              "      <th>rate_positive_words</th>\n",
              "      <th>rate_negative_words</th>\n",
              "      <th>shares</th>\n",
              "    </tr>\n",
              "  </thead>\n",
              "  <tbody>\n",
              "    <tr>\n",
              "      <th>count</th>\n",
              "      <td>33510.000000</td>\n",
              "      <td>33510.000000</td>\n",
              "      <td>33510.000000</td>\n",
              "      <td>33510.000000</td>\n",
              "      <td>33510.000000</td>\n",
              "    </tr>\n",
              "    <tr>\n",
              "      <th>mean</th>\n",
              "      <td>353.106058</td>\n",
              "      <td>4.957893</td>\n",
              "      <td>0.695364</td>\n",
              "      <td>0.288462</td>\n",
              "      <td>2928.637989</td>\n",
              "    </tr>\n",
              "    <tr>\n",
              "      <th>std</th>\n",
              "      <td>213.543598</td>\n",
              "      <td>8.430106</td>\n",
              "      <td>0.171064</td>\n",
              "      <td>0.150604</td>\n",
              "      <td>9470.520277</td>\n",
              "    </tr>\n",
              "    <tr>\n",
              "      <th>min</th>\n",
              "      <td>8.000000</td>\n",
              "      <td>0.000000</td>\n",
              "      <td>0.000000</td>\n",
              "      <td>0.000000</td>\n",
              "      <td>1.000000</td>\n",
              "    </tr>\n",
              "    <tr>\n",
              "      <th>25%</th>\n",
              "      <td>164.000000</td>\n",
              "      <td>1.000000</td>\n",
              "      <td>0.611111</td>\n",
              "      <td>0.188679</td>\n",
              "      <td>930.000000</td>\n",
              "    </tr>\n",
              "    <tr>\n",
              "      <th>50%</th>\n",
              "      <td>336.000000</td>\n",
              "      <td>1.000000</td>\n",
              "      <td>0.714286</td>\n",
              "      <td>0.277778</td>\n",
              "      <td>1400.000000</td>\n",
              "    </tr>\n",
              "    <tr>\n",
              "      <th>75%</th>\n",
              "      <td>541.000000</td>\n",
              "      <td>5.000000</td>\n",
              "      <td>0.800000</td>\n",
              "      <td>0.379310</td>\n",
              "      <td>2500.000000</td>\n",
              "    </tr>\n",
              "    <tr>\n",
              "      <th>max</th>\n",
              "      <td>731.000000</td>\n",
              "      <td>140.000000</td>\n",
              "      <td>1.000000</td>\n",
              "      <td>1.000000</td>\n",
              "      <td>690400.000000</td>\n",
              "    </tr>\n",
              "  </tbody>\n",
              "</table>\n",
              "</div>"
            ],
            "text/plain": [
              "          timedelta    num_visual  ...  rate_negative_words         shares\n",
              "count  33510.000000  33510.000000  ...         33510.000000   33510.000000\n",
              "mean     353.106058      4.957893  ...             0.288462    2928.637989\n",
              "std      213.543598      8.430106  ...             0.150604    9470.520277\n",
              "min        8.000000      0.000000  ...             0.000000       1.000000\n",
              "25%      164.000000      1.000000  ...             0.188679     930.000000\n",
              "50%      336.000000      1.000000  ...             0.277778    1400.000000\n",
              "75%      541.000000      5.000000  ...             0.379310    2500.000000\n",
              "max      731.000000    140.000000  ...             1.000000  690400.000000\n",
              "\n",
              "[8 rows x 5 columns]"
            ]
          },
          "metadata": {
            "tags": []
          },
          "execution_count": 47
        }
      ]
    },
    {
      "cell_type": "code",
      "metadata": {
        "id": "nmlVxnfq1TtI",
        "colab_type": "code",
        "colab": {
          "base_uri": "https://localhost:8080/",
          "height": 221
        },
        "outputId": "aa6299e8-b7bd-4125-d4ad-edc2507953df"
      },
      "source": [
        "import seaborn as sns\n",
        "import matplotlib.pyplot as plt\n",
        "from scipy import stats\n",
        "import statsmodels.api as sm\n",
        "import statsmodels.formula.api as smf\n",
        "import os\n",
        "os.chdir(\"/content/drive/My Drive/Colab Notebooks/data\")\n",
        "%ls"
      ],
      "execution_count": null,
      "outputs": [
        {
          "output_type": "stream",
          "text": [
            "air_reshape.csv              fd-export.csv\n",
            "autos.csv                    german_credit_data.csv\n",
            "autos.csv.zip                heart.csv\n",
            "berlin-airbnb-data.zip       listings.csv\n",
            "Berlin_calendar_summary.csv  Metro_Interstate_Traffic_Volume.csv\n",
            "Berlin_listings.csv          num_visual.png\n",
            "Berlin_listings_summary.csv  OnlineNewsPopularity.csv\n",
            "Berlin_neighbourhoods.csv    opsd_germany_daily.csv\n",
            "Berlin_reviews.csv           reviews.csv\n",
            "Berlin_reviews_summary.csv   SeoulHourlyAvgAirPollution.csv\n",
            "DE_category_id.json          Untitled0.ipynb\n",
            "DEvideos.csv\n"
          ],
          "name": "stdout"
        }
      ]
    },
    {
      "cell_type": "markdown",
      "metadata": {
        "id": "xWdUE_rV8EbR",
        "colab_type": "text"
      },
      "source": [
        ">Q1. 오래된 기사일 수록 기사 공유횟수가 더 크지않을까? (timedelta & shares 상관분석)\n",
        "\n",
        "\n"
      ]
    },
    {
      "cell_type": "code",
      "metadata": {
        "id": "LocwY3ds8la3",
        "colab_type": "code",
        "colab": {
          "base_uri": "https://localhost:8080/",
          "height": 350
        },
        "outputId": "0581f0b4-f427-4674-cdad-17b9445c4e04"
      },
      "source": [
        "plt.hist(news['timedelta'])"
      ],
      "execution_count": null,
      "outputs": [
        {
          "output_type": "execute_result",
          "data": {
            "text/plain": [
              "(array([3869., 3813., 3946., 3517., 3073., 2704., 3117., 2973., 3069.,\n",
              "        3429.]),\n",
              " array([  8. ,  80.3, 152.6, 224.9, 297.2, 369.5, 441.8, 514.1, 586.4,\n",
              "        658.7, 731. ]),\n",
              " <a list of 10 Patch objects>)"
            ]
          },
          "metadata": {
            "tags": []
          },
          "execution_count": 49
        },
        {
          "output_type": "display_data",
          "data": {
            "image/png": "[encoded data removed]",
            "text/plain": [
              "<Figure size 432x288 with 1 Axes>"
            ]
          },
          "metadata": {
            "tags": []
          }
        }
      ]
    },
    {
      "cell_type": "code",
      "metadata": {
        "id": "bueX0enc8qvK",
        "colab_type": "code",
        "colab": {
          "base_uri": "https://localhost:8080/",
          "height": 282
        },
        "outputId": "ae36f3c7-079f-4e52-e024-ae87bb88d54f"
      },
      "source": [
        "plt.scatter(x=news['timedelta'],y=news['shares'])"
      ],
      "execution_count": null,
      "outputs": [
        {
          "output_type": "execute_result",
          "data": {
            "text/plain": [
              "<matplotlib.collections.PathCollection at 0x7fd8165b55c0>"
            ]
          },
          "metadata": {
            "tags": []
          },
          "execution_count": 50
        },
        {
          "output_type": "display_data",
          "data": {
            "image/png": "[encoded data removed]",
            "text/plain": [
              "<Figure size 432x288 with 1 Axes>"
            ]
          },
          "metadata": {
            "tags": []
          }
        }
      ]
    },
    {
      "cell_type": "code",
      "metadata": {
        "id": "v2Skd7xj-1WS",
        "colab_type": "code",
        "colab": {
          "base_uri": "https://localhost:8080/",
          "height": 34
        },
        "outputId": "eedbfca7-ce4c-48ac-8673-25141ae6b396"
      },
      "source": [
        "print(news['timedelta'].corr(news['shares']))"
      ],
      "execution_count": null,
      "outputs": [
        {
          "output_type": "stream",
          "text": [
            "0.014236875552686483\n"
          ],
          "name": "stdout"
        }
      ]
    },
    {
      "cell_type": "markdown",
      "metadata": {
        "id": "lc2-QiGu_3Jh",
        "colab_type": "text"
      },
      "source": [
        "상관계수는 약 0.01로 거의 무시될 수 있는 선형관계를 갖는다. \n",
        "\n",
        "따라서 큰 의미는 없으나 상관계수가 양수이므로 어쩌면 오래된 기사일 수록 기사의 공유횟수가 높게 나타날 가능성이 있다고 볼 수 있다."
      ]
    },
    {
      "cell_type": "code",
      "metadata": {
        "id": "NuXWNzDR-G8j",
        "colab_type": "code",
        "colab": {
          "base_uri": "https://localhost:8080/",
          "height": 68
        },
        "outputId": "658894ab-df0c-489f-f97d-7bcc0e1d8500"
      },
      "source": [
        "x = news['timedelta'] \n",
        "y = news['shares']\n",
        "slope, intercept, r_value, p_value, std_err = stats.linregress(x ,y)\n",
        "print(f\"slope: {round(slope,2)}, intercept:{round(intercept,2)},\\nr_value:{round(r_value,2)}, p_value: {round(p_value,2)},\\nr-squared:{round(r_value*2,2)}\")"
      ],
      "execution_count": null,
      "outputs": [
        {
          "output_type": "stream",
          "text": [
            "slope: 0.63, intercept:2705.69,\n",
            "r_value:0.01, p_value: 0.01,\n",
            "r-squared:0.03\n"
          ],
          "name": "stdout"
        }
      ]
    },
    {
      "cell_type": "markdown",
      "metadata": {
        "id": "977S1WwmAfBK",
        "colab_type": "text"
      },
      "source": [
        "선형회귀분석을 실행하면 기울기가 0.63인 증가하는 직선이 추정된다. 또한 p-value<0.05 이므로 이는 유의미한 값이며 'timedelta'변수는 'shares'변수를 이 모형을 통해 3%정도 설명력을 갖고있음을 알 수있다.\n",
        "\n",
        "그래프에 나타내면 다음과 같다."
      ]
    },
    {
      "cell_type": "code",
      "metadata": {
        "id": "K813HfQT-glw",
        "colab_type": "code",
        "colab": {
          "base_uri": "https://localhost:8080/",
          "height": 265
        },
        "outputId": "963aa387-f67f-4a09-b308-c67de6ea0558"
      },
      "source": [
        "plt.plot(x,y, 'o', label = 'original data')\n",
        "plt.plot(x, intercept +slope * x, 'r', label = 'fitted line')\n",
        "plt.legend()\n",
        "plt.show()"
      ],
      "execution_count": null,
      "outputs": [
        {
          "output_type": "display_data",
          "data": {
            "image/png": "[encoded data removed]",
            "text/plain": [
              "<Figure size 432x288 with 1 Axes>"
            ]
          },
          "metadata": {
            "tags": []
          }
        }
      ]
    },
    {
      "cell_type": "markdown",
      "metadata": {
        "id": "b_IL6ovbA3MX",
        "colab_type": "text"
      },
      "source": [
        "아주 미세하게 기울기가 양수로 증가하는 직선을 확인할 수 있다."
      ]
    },
    {
      "cell_type": "markdown",
      "metadata": {
        "id": "-Jyp_p1QA9oE",
        "colab_type": "text"
      },
      "source": [
        "**따라서 기사가 발행된 시점과 데이터를 수집한 시점의 차이가 기사 공유횟수에 아주 미세한 영향을 행사하며**\n",
        "\n",
        "**오래된 기사일수록 기사 공유 횟수가 높다고 볼 수 있다.**"
      ]
    },
    {
      "cell_type": "markdown",
      "metadata": {
        "id": "gi_EpfeZ5lqE",
        "colab_type": "text"
      },
      "source": [
        "\n",
        "\n",
        "> Q2. 인기 상위 10% 기사는 평균적으로 어떤 요일에 가장 많이 쓰여졌는가?\n"
      ]
    },
    {
      "cell_type": "code",
      "metadata": {
        "id": "nrTEN2I-w4KE",
        "colab_type": "code",
        "colab": {
          "base_uri": "https://localhost:8080/",
          "height": 68
        },
        "outputId": "2c6484ee-9510-409e-f4e1-91536eea3269"
      },
      "source": [
        "print(news['shares'].nunique()) #고유값 1310개\n",
        "print(news[news['shares']>5000]['shares'].count())\n",
        "print(3628/33510) #5000 초과인 값은 3628개 전체대비 10%정도"
      ],
      "execution_count": null,
      "outputs": [
        {
          "output_type": "stream",
          "text": [
            "1310\n",
            "3628\n",
            "0.10826618919725454\n"
          ],
          "name": "stdout"
        }
      ]
    },
    {
      "cell_type": "code",
      "metadata": {
        "id": "GAlDvfF4vSRP",
        "colab_type": "code",
        "colab": {
          "base_uri": "https://localhost:8080/",
          "height": 419
        },
        "outputId": "af9ab552-23d2-4dd5-e3f8-36b61e10d1a5"
      },
      "source": [
        "#상위 10% 값\n",
        "top=news[news['shares']>5000]\n",
        "top"
      ],
      "execution_count": null,
      "outputs": [
        {
          "output_type": "execute_result",
          "data": {
            "text/html": [
              "<div>\n",
              "<style scoped>\n",
              "    .dataframe tbody tr th:only-of-type {\n",
              "        vertical-align: middle;\n",
              "    }\n",
              "\n",
              "    .dataframe tbody tr th {\n",
              "        vertical-align: top;\n",
              "    }\n",
              "\n",
              "    .dataframe thead th {\n",
              "        text-align: right;\n",
              "    }\n",
              "</style>\n",
              "<table border=\"1\" class=\"dataframe\">\n",
              "  <thead>\n",
              "    <tr style=\"text-align: right;\">\n",
              "      <th></th>\n",
              "      <th>url</th>\n",
              "      <th>timedelta</th>\n",
              "      <th>num_visual</th>\n",
              "      <th>rate_positive_words</th>\n",
              "      <th>rate_negative_words</th>\n",
              "      <th>days</th>\n",
              "      <th>topics</th>\n",
              "      <th>shares</th>\n",
              "    </tr>\n",
              "  </thead>\n",
              "  <tbody>\n",
              "    <tr>\n",
              "      <th>18</th>\n",
              "      <td>http://mashable.com/2013/01/07/facebook-sick-app/</td>\n",
              "      <td>731.0</td>\n",
              "      <td>1.0</td>\n",
              "      <td>0.750000</td>\n",
              "      <td>0.250000</td>\n",
              "      <td>Mon</td>\n",
              "      <td>life</td>\n",
              "      <td>5700</td>\n",
              "    </tr>\n",
              "    <tr>\n",
              "      <th>19</th>\n",
              "      <td>http://mashable.com/2013/01/07/felt-audio-puls...</td>\n",
              "      <td>731.0</td>\n",
              "      <td>42.0</td>\n",
              "      <td>0.857143</td>\n",
              "      <td>0.142857</td>\n",
              "      <td>Mon</td>\n",
              "      <td>tech</td>\n",
              "      <td>17100</td>\n",
              "    </tr>\n",
              "    <tr>\n",
              "      <th>36</th>\n",
              "      <td>http://mashable.com/2013/01/07/magisto-ces/</td>\n",
              "      <td>731.0</td>\n",
              "      <td>20.0</td>\n",
              "      <td>0.815534</td>\n",
              "      <td>0.184466</td>\n",
              "      <td>Mon</td>\n",
              "      <td>tech</td>\n",
              "      <td>7700</td>\n",
              "    </tr>\n",
              "    <tr>\n",
              "      <th>95</th>\n",
              "      <td>http://mashable.com/2013/01/09/arrested-develo...</td>\n",
              "      <td>729.0</td>\n",
              "      <td>1.0</td>\n",
              "      <td>0.727273</td>\n",
              "      <td>0.272727</td>\n",
              "      <td>Wed</td>\n",
              "      <td>ent</td>\n",
              "      <td>6400</td>\n",
              "    </tr>\n",
              "    <tr>\n",
              "      <th>123</th>\n",
              "      <td>http://mashable.com/2013/01/09/google-flu/</td>\n",
              "      <td>729.0</td>\n",
              "      <td>2.0</td>\n",
              "      <td>0.846154</td>\n",
              "      <td>0.153846</td>\n",
              "      <td>Wed</td>\n",
              "      <td>world</td>\n",
              "      <td>5600</td>\n",
              "    </tr>\n",
              "    <tr>\n",
              "      <th>...</th>\n",
              "      <td>...</td>\n",
              "      <td>...</td>\n",
              "      <td>...</td>\n",
              "      <td>...</td>\n",
              "      <td>...</td>\n",
              "      <td>...</td>\n",
              "      <td>...</td>\n",
              "      <td>...</td>\n",
              "    </tr>\n",
              "    <tr>\n",
              "      <th>39514</th>\n",
              "      <td>http://mashable.com/2014/12/24/low-budget-star...</td>\n",
              "      <td>11.0</td>\n",
              "      <td>1.0</td>\n",
              "      <td>0.678571</td>\n",
              "      <td>0.321429</td>\n",
              "      <td>Sun</td>\n",
              "      <td>tech</td>\n",
              "      <td>5500</td>\n",
              "    </tr>\n",
              "    <tr>\n",
              "      <th>39542</th>\n",
              "      <td>http://mashable.com/2014/12/25/16-extreme-santas/</td>\n",
              "      <td>10.0</td>\n",
              "      <td>2.0</td>\n",
              "      <td>0.807692</td>\n",
              "      <td>0.192308</td>\n",
              "      <td>Mon</td>\n",
              "      <td>tech</td>\n",
              "      <td>16800</td>\n",
              "    </tr>\n",
              "    <tr>\n",
              "      <th>39586</th>\n",
              "      <td>http://mashable.com/2014/12/26/best-fails-2014/</td>\n",
              "      <td>9.0</td>\n",
              "      <td>1.0</td>\n",
              "      <td>0.764706</td>\n",
              "      <td>0.235294</td>\n",
              "      <td>Tue</td>\n",
              "      <td>world</td>\n",
              "      <td>10200</td>\n",
              "    </tr>\n",
              "    <tr>\n",
              "      <th>39595</th>\n",
              "      <td>http://mashable.com/2014/12/26/exodus-wont-pla...</td>\n",
              "      <td>9.0</td>\n",
              "      <td>1.0</td>\n",
              "      <td>0.764706</td>\n",
              "      <td>0.235294</td>\n",
              "      <td>Tue</td>\n",
              "      <td>world</td>\n",
              "      <td>6000</td>\n",
              "    </tr>\n",
              "    <tr>\n",
              "      <th>39615</th>\n",
              "      <td>http://mashable.com/2014/12/26/toothpaste-fluo...</td>\n",
              "      <td>9.0</td>\n",
              "      <td>22.0</td>\n",
              "      <td>0.000000</td>\n",
              "      <td>0.000000</td>\n",
              "      <td>Tue</td>\n",
              "      <td>world</td>\n",
              "      <td>5700</td>\n",
              "    </tr>\n",
              "  </tbody>\n",
              "</table>\n",
              "<p>3628 rows × 8 columns</p>\n",
              "</div>"
            ],
            "text/plain": [
              "                                                     url  ...  shares\n",
              "18     http://mashable.com/2013/01/07/facebook-sick-app/  ...    5700\n",
              "19     http://mashable.com/2013/01/07/felt-audio-puls...  ...   17100\n",
              "36           http://mashable.com/2013/01/07/magisto-ces/  ...    7700\n",
              "95     http://mashable.com/2013/01/09/arrested-develo...  ...    6400\n",
              "123           http://mashable.com/2013/01/09/google-flu/  ...    5600\n",
              "...                                                  ...  ...     ...\n",
              "39514  http://mashable.com/2014/12/24/low-budget-star...  ...    5500\n",
              "39542  http://mashable.com/2014/12/25/16-extreme-santas/  ...   16800\n",
              "39586    http://mashable.com/2014/12/26/best-fails-2014/  ...   10200\n",
              "39595  http://mashable.com/2014/12/26/exodus-wont-pla...  ...    6000\n",
              "39615  http://mashable.com/2014/12/26/toothpaste-fluo...  ...    5700\n",
              "\n",
              "[3628 rows x 8 columns]"
            ]
          },
          "metadata": {
            "tags": []
          },
          "execution_count": 55
        }
      ]
    },
    {
      "cell_type": "code",
      "metadata": {
        "id": "2fLdr47WwHL-",
        "colab_type": "code",
        "colab": {
          "base_uri": "https://localhost:8080/",
          "height": 297
        },
        "outputId": "77305886-0265-4f27-da8d-89ca1245564d"
      },
      "source": [
        "top.describe()"
      ],
      "execution_count": null,
      "outputs": [
        {
          "output_type": "execute_result",
          "data": {
            "text/html": [
              "<div>\n",
              "<style scoped>\n",
              "    .dataframe tbody tr th:only-of-type {\n",
              "        vertical-align: middle;\n",
              "    }\n",
              "\n",
              "    .dataframe tbody tr th {\n",
              "        vertical-align: top;\n",
              "    }\n",
              "\n",
              "    .dataframe thead th {\n",
              "        text-align: right;\n",
              "    }\n",
              "</style>\n",
              "<table border=\"1\" class=\"dataframe\">\n",
              "  <thead>\n",
              "    <tr style=\"text-align: right;\">\n",
              "      <th></th>\n",
              "      <th>timedelta</th>\n",
              "      <th>num_visual</th>\n",
              "      <th>rate_positive_words</th>\n",
              "      <th>rate_negative_words</th>\n",
              "      <th>shares</th>\n",
              "    </tr>\n",
              "  </thead>\n",
              "  <tbody>\n",
              "    <tr>\n",
              "      <th>count</th>\n",
              "      <td>3628.000000</td>\n",
              "      <td>3628.000000</td>\n",
              "      <td>3628.000000</td>\n",
              "      <td>3628.000000</td>\n",
              "      <td>3628.000000</td>\n",
              "    </tr>\n",
              "    <tr>\n",
              "      <th>mean</th>\n",
              "      <td>368.484289</td>\n",
              "      <td>6.308159</td>\n",
              "      <td>0.695995</td>\n",
              "      <td>0.279749</td>\n",
              "      <td>13982.799614</td>\n",
              "    </tr>\n",
              "    <tr>\n",
              "      <th>std</th>\n",
              "      <td>202.044510</td>\n",
              "      <td>9.496672</td>\n",
              "      <td>0.175415</td>\n",
              "      <td>0.143776</td>\n",
              "      <td>26142.705820</td>\n",
              "    </tr>\n",
              "    <tr>\n",
              "      <th>min</th>\n",
              "      <td>9.000000</td>\n",
              "      <td>0.000000</td>\n",
              "      <td>0.000000</td>\n",
              "      <td>0.000000</td>\n",
              "      <td>5100.000000</td>\n",
              "    </tr>\n",
              "    <tr>\n",
              "      <th>25%</th>\n",
              "      <td>199.750000</td>\n",
              "      <td>1.000000</td>\n",
              "      <td>0.625000</td>\n",
              "      <td>0.185714</td>\n",
              "      <td>6300.000000</td>\n",
              "    </tr>\n",
              "    <tr>\n",
              "      <th>50%</th>\n",
              "      <td>359.000000</td>\n",
              "      <td>2.000000</td>\n",
              "      <td>0.724138</td>\n",
              "      <td>0.266921</td>\n",
              "      <td>8400.000000</td>\n",
              "    </tr>\n",
              "    <tr>\n",
              "      <th>75%</th>\n",
              "      <td>539.000000</td>\n",
              "      <td>10.000000</td>\n",
              "      <td>0.800495</td>\n",
              "      <td>0.363636</td>\n",
              "      <td>13425.000000</td>\n",
              "    </tr>\n",
              "    <tr>\n",
              "      <th>max</th>\n",
              "      <td>731.000000</td>\n",
              "      <td>113.000000</td>\n",
              "      <td>1.000000</td>\n",
              "      <td>1.000000</td>\n",
              "      <td>690400.000000</td>\n",
              "    </tr>\n",
              "  </tbody>\n",
              "</table>\n",
              "</div>"
            ],
            "text/plain": [
              "         timedelta   num_visual  ...  rate_negative_words         shares\n",
              "count  3628.000000  3628.000000  ...          3628.000000    3628.000000\n",
              "mean    368.484289     6.308159  ...             0.279749   13982.799614\n",
              "std     202.044510     9.496672  ...             0.143776   26142.705820\n",
              "min       9.000000     0.000000  ...             0.000000    5100.000000\n",
              "25%     199.750000     1.000000  ...             0.185714    6300.000000\n",
              "50%     359.000000     2.000000  ...             0.266921    8400.000000\n",
              "75%     539.000000    10.000000  ...             0.363636   13425.000000\n",
              "max     731.000000   113.000000  ...             1.000000  690400.000000\n",
              "\n",
              "[8 rows x 5 columns]"
            ]
          },
          "metadata": {
            "tags": []
          },
          "execution_count": 56
        }
      ]
    },
    {
      "cell_type": "markdown",
      "metadata": {
        "id": "-Qno-MGbC5N4",
        "colab_type": "text"
      },
      "source": [
        "인기 상위 10%의 데이터를 따로 분석해 볼 것이다."
      ]
    },
    {
      "cell_type": "code",
      "metadata": {
        "id": "KT1ow8pL6Tqm",
        "colab_type": "code",
        "colab": {
          "base_uri": "https://localhost:8080/",
          "height": 606
        },
        "outputId": "e9e4f67e-ff9b-4b1f-87ab-f7add25cc7b3"
      },
      "source": [
        "plt.figure(figsize=(10,10))\n",
        "ax = sns.boxplot(data=top, x='days',y='shares',palette='plasma')"
      ],
      "execution_count": null,
      "outputs": [
        {
          "output_type": "display_data",
          "data": {
            "image/png": "[encoded data removed]",
            "text/plain": [
              "<Figure size 720x720 with 1 Axes>"
            ]
          },
          "metadata": {
            "tags": []
          }
        }
      ]
    },
    {
      "cell_type": "markdown",
      "metadata": {
        "id": "ZlPiopo0DAJF",
        "colab_type": "text"
      },
      "source": [
        "전체적인 분포를 그래프를 통해 확인하고자 하였으나 이상치에 의해 그래프 왜곡이 심하여 통계적인 수치를 통해 확인하겠다."
      ]
    },
    {
      "cell_type": "code",
      "metadata": {
        "id": "Np3RU0dP29kx",
        "colab_type": "code",
        "colab": {
          "base_uri": "https://localhost:8080/",
          "height": 297
        },
        "outputId": "0cb22a2a-2cf1-4213-a4ac-36131be910ef"
      },
      "source": [
        "top.groupby(['days'])['shares'].agg(['size','mean', 'std', 'min', 'max'])"
      ],
      "execution_count": null,
      "outputs": [
        {
          "output_type": "execute_result",
          "data": {
            "text/html": [
              "<div>\n",
              "<style scoped>\n",
              "    .dataframe tbody tr th:only-of-type {\n",
              "        vertical-align: middle;\n",
              "    }\n",
              "\n",
              "    .dataframe tbody tr th {\n",
              "        vertical-align: top;\n",
              "    }\n",
              "\n",
              "    .dataframe thead th {\n",
              "        text-align: right;\n",
              "    }\n",
              "</style>\n",
              "<table border=\"1\" class=\"dataframe\">\n",
              "  <thead>\n",
              "    <tr style=\"text-align: right;\">\n",
              "      <th></th>\n",
              "      <th>size</th>\n",
              "      <th>mean</th>\n",
              "      <th>std</th>\n",
              "      <th>min</th>\n",
              "      <th>max</th>\n",
              "    </tr>\n",
              "    <tr>\n",
              "      <th>days</th>\n",
              "      <th></th>\n",
              "      <th></th>\n",
              "      <th></th>\n",
              "      <th></th>\n",
              "      <th></th>\n",
              "    </tr>\n",
              "  </thead>\n",
              "  <tbody>\n",
              "    <tr>\n",
              "      <th>Fri</th>\n",
              "      <td>455</td>\n",
              "      <td>13490.764835</td>\n",
              "      <td>16954.535045</td>\n",
              "      <td>5100</td>\n",
              "      <td>210300</td>\n",
              "    </tr>\n",
              "    <tr>\n",
              "      <th>Mon</th>\n",
              "      <td>651</td>\n",
              "      <td>15625.038402</td>\n",
              "      <td>39896.116678</td>\n",
              "      <td>5100</td>\n",
              "      <td>690400</td>\n",
              "    </tr>\n",
              "    <tr>\n",
              "      <th>Sat</th>\n",
              "      <td>282</td>\n",
              "      <td>12497.872340</td>\n",
              "      <td>13151.382310</td>\n",
              "      <td>5100</td>\n",
              "      <td>144400</td>\n",
              "    </tr>\n",
              "    <tr>\n",
              "      <th>Sun</th>\n",
              "      <td>354</td>\n",
              "      <td>11611.016949</td>\n",
              "      <td>10044.485617</td>\n",
              "      <td>5100</td>\n",
              "      <td>83300</td>\n",
              "    </tr>\n",
              "    <tr>\n",
              "      <th>Thur</th>\n",
              "      <td>612</td>\n",
              "      <td>14236.437908</td>\n",
              "      <td>24964.373877</td>\n",
              "      <td>5100</td>\n",
              "      <td>306100</td>\n",
              "    </tr>\n",
              "    <tr>\n",
              "      <th>Tue</th>\n",
              "      <td>654</td>\n",
              "      <td>14049.235474</td>\n",
              "      <td>19996.435924</td>\n",
              "      <td>5100</td>\n",
              "      <td>310800</td>\n",
              "    </tr>\n",
              "    <tr>\n",
              "      <th>Wed</th>\n",
              "      <td>620</td>\n",
              "      <td>14328.708065</td>\n",
              "      <td>30690.084411</td>\n",
              "      <td>5100</td>\n",
              "      <td>663600</td>\n",
              "    </tr>\n",
              "  </tbody>\n",
              "</table>\n",
              "</div>"
            ],
            "text/plain": [
              "      size          mean           std   min     max\n",
              "days                                                \n",
              "Fri    455  13490.764835  16954.535045  5100  210300\n",
              "Mon    651  15625.038402  39896.116678  5100  690400\n",
              "Sat    282  12497.872340  13151.382310  5100  144400\n",
              "Sun    354  11611.016949  10044.485617  5100   83300\n",
              "Thur   612  14236.437908  24964.373877  5100  306100\n",
              "Tue    654  14049.235474  19996.435924  5100  310800\n",
              "Wed    620  14328.708065  30690.084411  5100  663600"
            ]
          },
          "metadata": {
            "tags": []
          },
          "execution_count": 58
        }
      ]
    },
    {
      "cell_type": "markdown",
      "metadata": {
        "id": "kLWRArjl4ouA",
        "colab_type": "text"
      },
      "source": [
        "상위 10%의 기사중 가장 많은 기사가 화요일에 쓰여졌고 근소한 차이로 그다음은 월요일에 쓰여졌음을 알 수 있다."
      ]
    },
    {
      "cell_type": "code",
      "metadata": {
        "id": "zKq18Us2Dunu",
        "colab_type": "code",
        "colab": {
          "base_uri": "https://localhost:8080/",
          "height": 328
        },
        "outputId": "c2449cf4-8de5-4f1f-dc6a-f2a342503ffa"
      },
      "source": [
        "top.pivot_table(index='days', values='shares', aggfunc='mean', margins= True, margins_name= 'Total')"
      ],
      "execution_count": null,
      "outputs": [
        {
          "output_type": "execute_result",
          "data": {
            "text/html": [
              "<div>\n",
              "<style scoped>\n",
              "    .dataframe tbody tr th:only-of-type {\n",
              "        vertical-align: middle;\n",
              "    }\n",
              "\n",
              "    .dataframe tbody tr th {\n",
              "        vertical-align: top;\n",
              "    }\n",
              "\n",
              "    .dataframe thead th {\n",
              "        text-align: right;\n",
              "    }\n",
              "</style>\n",
              "<table border=\"1\" class=\"dataframe\">\n",
              "  <thead>\n",
              "    <tr style=\"text-align: right;\">\n",
              "      <th></th>\n",
              "      <th>shares</th>\n",
              "    </tr>\n",
              "    <tr>\n",
              "      <th>days</th>\n",
              "      <th></th>\n",
              "    </tr>\n",
              "  </thead>\n",
              "  <tbody>\n",
              "    <tr>\n",
              "      <th>Fri</th>\n",
              "      <td>13490.764835</td>\n",
              "    </tr>\n",
              "    <tr>\n",
              "      <th>Mon</th>\n",
              "      <td>15625.038402</td>\n",
              "    </tr>\n",
              "    <tr>\n",
              "      <th>Sat</th>\n",
              "      <td>12497.872340</td>\n",
              "    </tr>\n",
              "    <tr>\n",
              "      <th>Sun</th>\n",
              "      <td>11611.016949</td>\n",
              "    </tr>\n",
              "    <tr>\n",
              "      <th>Thur</th>\n",
              "      <td>14236.437908</td>\n",
              "    </tr>\n",
              "    <tr>\n",
              "      <th>Tue</th>\n",
              "      <td>14049.235474</td>\n",
              "    </tr>\n",
              "    <tr>\n",
              "      <th>Wed</th>\n",
              "      <td>14328.708065</td>\n",
              "    </tr>\n",
              "    <tr>\n",
              "      <th>Total</th>\n",
              "      <td>13982.799614</td>\n",
              "    </tr>\n",
              "  </tbody>\n",
              "</table>\n",
              "</div>"
            ],
            "text/plain": [
              "             shares\n",
              "days               \n",
              "Fri    13490.764835\n",
              "Mon    15625.038402\n",
              "Sat    12497.872340\n",
              "Sun    11611.016949\n",
              "Thur   14236.437908\n",
              "Tue    14049.235474\n",
              "Wed    14328.708065\n",
              "Total  13982.799614"
            ]
          },
          "metadata": {
            "tags": []
          },
          "execution_count": 59
        }
      ]
    },
    {
      "cell_type": "markdown",
      "metadata": {
        "id": "blSirWuQEEAg",
        "colab_type": "text"
      },
      "source": [
        "요일별 공유 횟수 평균만 보았을 때,\n",
        "\n",
        "월요일부터 목요일까지는 전체 평균보다 높은 수치를 보이고 있으며\n",
        "\n",
        "금요일부터 일요일까지는 전체 평균보다 낮은 수치를 보이고 있다."
      ]
    },
    {
      "cell_type": "markdown",
      "metadata": {
        "id": "v4Ae0L6oHxZd",
        "colab_type": "text"
      },
      "source": [
        "\n",
        "\n",
        "> Q2-1. 그렇다면 각 요일별 기사 공유 횟수 평균의 차이는 의미가 있는 것일까? (ANOVA 분산분석)\n",
        "\n",
        "H0: 차이가 없다. H1: 차이가 있다.\n",
        "\n"
      ]
    },
    {
      "cell_type": "code",
      "metadata": {
        "id": "dOOeKBmohlQC",
        "colab_type": "code",
        "colab": {
          "base_uri": "https://localhost:8080/",
          "height": 282
        },
        "outputId": "1c073e8f-69ab-4007-e787-50e95580d515"
      },
      "source": [
        "monday = top[top['days']== 'Mon']\n",
        "tuesday = top[top['days'] =='Tue']\n",
        "wednesday= top[top['days'] =='Wed']\n",
        "thursday= top[top['days'] =='Thur']\n",
        "friday= top[top['days'] =='Fri']\n",
        "saturday= top[top['days'] =='Sat']\n",
        "sunday= top[top['days'] =='Sun']\n",
        "\n",
        "group1 = monday['shares']\n",
        "group2 = tuesday['shares']\n",
        "group3= wednesday['shares']\n",
        "group4= thursday['shares']\n",
        "group5= friday['shares']\n",
        "group6= saturday['shares']\n",
        "group7= sunday['shares']\n",
        "\n",
        "print(len(group1),len(group2),len(group3),len(group4),len(group5),len(group6),len(group7))\n",
        "\n",
        "plot_data = [group1, group2, group3,group4,group5,group6,group7]\n",
        "ax = plt.boxplot(plot_data)\n",
        "plt.show()"
      ],
      "execution_count": null,
      "outputs": [
        {
          "output_type": "stream",
          "text": [
            "651 654 620 612 455 282 354\n"
          ],
          "name": "stdout"
        },
        {
          "output_type": "display_data",
          "data": {
            "image/png": "[encoded data removed]",
            "text/plain": [
              "<Figure size 432x288 with 1 Axes>"
            ]
          },
          "metadata": {
            "tags": []
          }
        }
      ]
    },
    {
      "cell_type": "code",
      "metadata": {
        "id": "l3LwBgzsIjMa",
        "colab_type": "code",
        "colab": {
          "base_uri": "https://localhost:8080/",
          "height": 136
        },
        "outputId": "e73ec866-802b-4668-eb97-d36dea637044"
      },
      "source": [
        "#정규성 검정\n",
        "print(stats.shapiro(group1))\n",
        "print(stats.shapiro(group2))\n",
        "print(stats.shapiro(group3))\n",
        "print(stats.shapiro(group4))\n",
        "print(stats.shapiro(group5))\n",
        "print(stats.shapiro(group6))\n",
        "print(stats.shapiro(group7))"
      ],
      "execution_count": null,
      "outputs": [
        {
          "output_type": "stream",
          "text": [
            "(0.18239843845367432, 0.0)\n",
            "(0.3957456946372986, 6.1264768860281e-42)\n",
            "(0.21223825216293335, 7.006492321624085e-45)\n",
            "(0.30008918046951294, 5.857427580877735e-43)\n",
            "(0.4479871392250061, 4.459713642508816e-35)\n",
            "(0.4954732060432434, 1.4073716698205199e-27)\n",
            "(0.6199934482574463, 3.1661506358168736e-27)\n"
          ],
          "name": "stdout"
        }
      ]
    },
    {
      "cell_type": "code",
      "metadata": {
        "id": "HvWAN5Y5jz1D",
        "colab_type": "code",
        "colab": {
          "base_uri": "https://localhost:8080/",
          "height": 279
        },
        "outputId": "e332d35a-c9df-4a69-cb30-12046ad7a724"
      },
      "source": [
        "ax = sns.distplot(group1, kde=False, fit=stats.norm, label=\"group1\")\n",
        "ax = sns.distplot(group2, kde=False, fit=stats.norm, label=\"group2\")\n",
        "ax = sns.distplot(group3, kde=False, fit=stats.norm, label=\"group3\")\n",
        "ax = sns.distplot(group4, kde=False, fit=stats.norm, label=\"group4\")\n",
        "ax = sns.distplot(group5, kde=False, fit=stats.norm, label=\"group5\")\n",
        "ax = sns.distplot(group6, kde=False, fit=stats.norm, label=\"group6\")\n",
        "ax = sns.distplot(group7, kde=False, fit=stats.norm, label=\"group7\")\n",
        "\n",
        "ax.lines[0].set_linestyle(\":\")\n",
        "plt.legend()\n",
        "plt.show()"
      ],
      "execution_count": null,
      "outputs": [
        {
          "output_type": "display_data",
          "data": {
            "image/png": "[encoded data removed]",
            "text/plain": [
              "<Figure size 432x288 with 1 Axes>"
            ]
          },
          "metadata": {
            "tags": []
          }
        }
      ]
    },
    {
      "cell_type": "markdown",
      "metadata": {
        "id": "UNVqnuxmjIzI",
        "colab_type": "text"
      },
      "source": [
        "유의수준 5%에서 유의확률 0.05 일 때, p-value<0.05 이므로 정규성을 만족하지 않는다.\n",
        "\n",
        "Kruskal-Wallis Rank Sum Test를 진행한다."
      ]
    },
    {
      "cell_type": "code",
      "metadata": {
        "id": "6N2J5yb3IjIO",
        "colab_type": "code",
        "colab": {
          "base_uri": "https://localhost:8080/",
          "height": 34
        },
        "outputId": "dafd1814-8d0a-48ea-986c-206546db7e05"
      },
      "source": [
        "#Kruskal-Wallis Rank Sum Test\n",
        "print(stats.kruskal(group1,group2,group3,group4,group5,group6,group7))"
      ],
      "execution_count": null,
      "outputs": [
        {
          "output_type": "stream",
          "text": [
            "KruskalResult(statistic=5.3817594023667965, pvalue=0.4958612717090868)\n"
          ],
          "name": "stdout"
        }
      ]
    },
    {
      "cell_type": "code",
      "metadata": {
        "id": "Vp00vQw1USpK",
        "colab_type": "code",
        "colab": {
          "base_uri": "https://localhost:8080/",
          "height": 34
        },
        "outputId": "d697f053-3b30-428b-d8a0-eb0b32fbec7b"
      },
      "source": [
        "F_statistic, pVal =  stats.kruskal(group1, group2, group3, group4,group5,group6,group7)\n",
        "\n",
        "print('데이터의 비모수적 일원분산분석 결과 : F={0:.1f}, p={1:.5f}'.format(F_statistic, pVal))\n",
        "if pVal < 0.05:\n",
        "    print('P-value 값이 충분히 작음으로 인해 그룹의 평균값이 통계적으로 유의미하게 차이납니다.')"
      ],
      "execution_count": null,
      "outputs": [
        {
          "output_type": "stream",
          "text": [
            "데이터의 비모수적 일원분산분석 결과 : F=5.4, p=0.49586\n"
          ],
          "name": "stdout"
        }
      ]
    },
    {
      "cell_type": "markdown",
      "metadata": {
        "id": "HQksQKs3j97H",
        "colab_type": "text"
      },
      "source": [
        "p-value=0.4959 > 0.05이므로 귀무가설을 기각할 수 없으므로 요일별 기사 공유 횟수 평균에 차이가 있다고 볼 수 없다.\n",
        "\n"
      ]
    },
    {
      "cell_type": "markdown",
      "metadata": {
        "id": "0qj24REhlPNy",
        "colab_type": "text"
      },
      "source": [
        "***따라서 예상과는 달리 인기도 상위 10%의 기사의 공유 횟수에는 요일별로 통계적으로 의미있는 차이가 없다고 볼 수 있다.***"
      ]
    },
    {
      "cell_type": "markdown",
      "metadata": {
        "id": "M4LLI-ZQoZJh",
        "colab_type": "text"
      },
      "source": [
        "\n",
        "\n",
        "> Q3. 본문에 쓰인 단어 성질이 기사의 공유 횟수에 영향을 미쳤을까? (T-test)\n",
        "\n"
      ]
    },
    {
      "cell_type": "markdown",
      "metadata": {
        "id": "aVmViJFkRhKh",
        "colab_type": "text"
      },
      "source": [
        "긍정적인 단어사용 비율이 부정적인 단어사용 비율보다 높은그룹 기사 공유횟수\n",
        "\n",
        "vs\n",
        "\n",
        "부정적인 단어사용 비율이 긍정적인 단어사용 비율보다 높은그룹 기사 공유횟수\n",
        "\n",
        "\n",
        "H0: 두 그룹간에 차이가 없다. H1: 두 그룹간에 차이가 있다."
      ]
    },
    {
      "cell_type": "code",
      "metadata": {
        "id": "FRYjdw2gpM-o",
        "colab_type": "code",
        "colab": {
          "base_uri": "https://localhost:8080/",
          "height": 419
        },
        "outputId": "8003b2e8-c572-40bc-e7be-b290c4acf00a"
      },
      "source": [
        "#본문에 단어가 쓰이지 않은 기사 데이터 삭제\n",
        "q3=pd.read_csv('/content/drive/My Drive/Colab Notebooks/data/OnlineNewsPopularity.csv')\n",
        "q3.columns\n",
        "q3.drop([ ' timedelta',' n_tokens_title',\n",
        "       ' n_unique_tokens', ' n_non_stop_words', ' n_non_stop_unique_tokens',\n",
        "       ' num_hrefs', ' num_self_hrefs', ' num_imgs', ' num_videos',\n",
        "       ' average_token_length', ' num_keywords', ' data_channel_is_lifestyle',\n",
        "       ' data_channel_is_entertainment', ' data_channel_is_bus',\n",
        "       ' data_channel_is_socmed', ' data_channel_is_tech',\n",
        "       ' data_channel_is_world', ' kw_min_min', ' kw_max_min', ' kw_avg_min',\n",
        "       ' kw_min_max', ' kw_max_max', ' kw_avg_max', ' kw_min_avg',\n",
        "       ' kw_max_avg', ' kw_avg_avg', ' self_reference_min_shares',\n",
        "       ' self_reference_max_shares', ' self_reference_avg_sharess',\n",
        "       ' weekday_is_monday', ' weekday_is_tuesday', ' weekday_is_wednesday',\n",
        "       ' weekday_is_thursday', ' weekday_is_friday', ' weekday_is_saturday',\n",
        "       ' weekday_is_sunday', ' is_weekend', ' LDA_00', ' LDA_01', ' LDA_02',\n",
        "       ' LDA_03', ' LDA_04', ' global_subjectivity',\n",
        "       ' global_sentiment_polarity', ' global_rate_positive_words',\n",
        "       ' global_rate_negative_words', ' avg_positive_polarity',\n",
        "       ' min_positive_polarity', ' max_positive_polarity',\n",
        "       ' avg_negative_polarity', ' min_negative_polarity',\n",
        "       ' max_negative_polarity', ' title_subjectivity',\n",
        "       ' title_sentiment_polarity', ' abs_title_subjectivity',\n",
        "       ' abs_title_sentiment_polarity'],axis=1,inplace=True)\n",
        "q3.drop(n.index,axis=0,inplace=True) #Topic 등록안된 기사 삭제\n",
        "nocont=q3[q3[' n_tokens_content']==0] #본문에 단어 없는 기사 확인\n",
        "nocont.index\n",
        "q3.drop(nocont.index,axis=0,inplace=True) #본문에 단어 없는 기사 삭제\n",
        "q3"
      ],
      "execution_count": null,
      "outputs": [
        {
          "output_type": "execute_result",
          "data": {
            "text/html": [
              "<div>\n",
              "<style scoped>\n",
              "    .dataframe tbody tr th:only-of-type {\n",
              "        vertical-align: middle;\n",
              "    }\n",
              "\n",
              "    .dataframe tbody tr th {\n",
              "        vertical-align: top;\n",
              "    }\n",
              "\n",
              "    .dataframe thead th {\n",
              "        text-align: right;\n",
              "    }\n",
              "</style>\n",
              "<table border=\"1\" class=\"dataframe\">\n",
              "  <thead>\n",
              "    <tr style=\"text-align: right;\">\n",
              "      <th></th>\n",
              "      <th>url</th>\n",
              "      <th>n_tokens_content</th>\n",
              "      <th>rate_positive_words</th>\n",
              "      <th>rate_negative_words</th>\n",
              "      <th>shares</th>\n",
              "    </tr>\n",
              "  </thead>\n",
              "  <tbody>\n",
              "    <tr>\n",
              "      <th>0</th>\n",
              "      <td>http://mashable.com/2013/01/07/amazon-instant-...</td>\n",
              "      <td>219.0</td>\n",
              "      <td>0.769231</td>\n",
              "      <td>0.230769</td>\n",
              "      <td>593</td>\n",
              "    </tr>\n",
              "    <tr>\n",
              "      <th>1</th>\n",
              "      <td>http://mashable.com/2013/01/07/ap-samsung-spon...</td>\n",
              "      <td>255.0</td>\n",
              "      <td>0.733333</td>\n",
              "      <td>0.266667</td>\n",
              "      <td>711</td>\n",
              "    </tr>\n",
              "    <tr>\n",
              "      <th>2</th>\n",
              "      <td>http://mashable.com/2013/01/07/apple-40-billio...</td>\n",
              "      <td>211.0</td>\n",
              "      <td>0.857143</td>\n",
              "      <td>0.142857</td>\n",
              "      <td>1500</td>\n",
              "    </tr>\n",
              "    <tr>\n",
              "      <th>3</th>\n",
              "      <td>http://mashable.com/2013/01/07/astronaut-notre...</td>\n",
              "      <td>531.0</td>\n",
              "      <td>0.666667</td>\n",
              "      <td>0.333333</td>\n",
              "      <td>1200</td>\n",
              "    </tr>\n",
              "    <tr>\n",
              "      <th>4</th>\n",
              "      <td>http://mashable.com/2013/01/07/att-u-verse-apps/</td>\n",
              "      <td>1072.0</td>\n",
              "      <td>0.860215</td>\n",
              "      <td>0.139785</td>\n",
              "      <td>505</td>\n",
              "    </tr>\n",
              "    <tr>\n",
              "      <th>...</th>\n",
              "      <td>...</td>\n",
              "      <td>...</td>\n",
              "      <td>...</td>\n",
              "      <td>...</td>\n",
              "      <td>...</td>\n",
              "    </tr>\n",
              "    <tr>\n",
              "      <th>39638</th>\n",
              "      <td>http://mashable.com/2014/12/27/protests-contin...</td>\n",
              "      <td>223.0</td>\n",
              "      <td>0.875000</td>\n",
              "      <td>0.125000</td>\n",
              "      <td>1200</td>\n",
              "    </tr>\n",
              "    <tr>\n",
              "      <th>39639</th>\n",
              "      <td>http://mashable.com/2014/12/27/samsung-app-aut...</td>\n",
              "      <td>346.0</td>\n",
              "      <td>0.722222</td>\n",
              "      <td>0.277778</td>\n",
              "      <td>1800</td>\n",
              "    </tr>\n",
              "    <tr>\n",
              "      <th>39640</th>\n",
              "      <td>http://mashable.com/2014/12/27/seth-rogen-jame...</td>\n",
              "      <td>328.0</td>\n",
              "      <td>0.812500</td>\n",
              "      <td>0.187500</td>\n",
              "      <td>1900</td>\n",
              "    </tr>\n",
              "    <tr>\n",
              "      <th>39642</th>\n",
              "      <td>http://mashable.com/2014/12/27/ukraine-blasts/</td>\n",
              "      <td>682.0</td>\n",
              "      <td>0.466667</td>\n",
              "      <td>0.533333</td>\n",
              "      <td>1100</td>\n",
              "    </tr>\n",
              "    <tr>\n",
              "      <th>39643</th>\n",
              "      <td>http://mashable.com/2014/12/27/youtube-channel...</td>\n",
              "      <td>157.0</td>\n",
              "      <td>0.833333</td>\n",
              "      <td>0.166667</td>\n",
              "      <td>1300</td>\n",
              "    </tr>\n",
              "  </tbody>\n",
              "</table>\n",
              "<p>32972 rows × 5 columns</p>\n",
              "</div>"
            ],
            "text/plain": [
              "                                                     url  ...   shares\n",
              "0      http://mashable.com/2013/01/07/amazon-instant-...  ...      593\n",
              "1      http://mashable.com/2013/01/07/ap-samsung-spon...  ...      711\n",
              "2      http://mashable.com/2013/01/07/apple-40-billio...  ...     1500\n",
              "3      http://mashable.com/2013/01/07/astronaut-notre...  ...     1200\n",
              "4       http://mashable.com/2013/01/07/att-u-verse-apps/  ...      505\n",
              "...                                                  ...  ...      ...\n",
              "39638  http://mashable.com/2014/12/27/protests-contin...  ...     1200\n",
              "39639  http://mashable.com/2014/12/27/samsung-app-aut...  ...     1800\n",
              "39640  http://mashable.com/2014/12/27/seth-rogen-jame...  ...     1900\n",
              "39642     http://mashable.com/2014/12/27/ukraine-blasts/  ...     1100\n",
              "39643  http://mashable.com/2014/12/27/youtube-channel...  ...     1300\n",
              "\n",
              "[32972 rows x 5 columns]"
            ]
          },
          "metadata": {
            "tags": []
          },
          "execution_count": 65
        }
      ]
    },
    {
      "cell_type": "code",
      "metadata": {
        "id": "otJpnKL9r9EN",
        "colab_type": "code",
        "colab": {
          "base_uri": "https://localhost:8080/",
          "height": 68
        },
        "outputId": "ab459d50-9243-423f-a46d-35a56e287401"
      },
      "source": [
        "q3.columns"
      ],
      "execution_count": null,
      "outputs": [
        {
          "output_type": "execute_result",
          "data": {
            "text/plain": [
              "Index(['url', ' n_tokens_content', ' rate_positive_words',\n",
              "       ' rate_negative_words', ' shares'],\n",
              "      dtype='object')"
            ]
          },
          "metadata": {
            "tags": []
          },
          "execution_count": 66
        }
      ]
    },
    {
      "cell_type": "code",
      "metadata": {
        "id": "6foS0mp_sK-E",
        "colab_type": "code",
        "colab": {
          "base_uri": "https://localhost:8080/",
          "height": 419
        },
        "outputId": "e6943b21-281c-40a7-9e96-62747931d260"
      },
      "source": [
        "headq=['url','n_tokens_content','rate_positive_words','rate_negative_words','shares']\n",
        "q3.columns=headq\n",
        "q3"
      ],
      "execution_count": null,
      "outputs": [
        {
          "output_type": "execute_result",
          "data": {
            "text/html": [
              "<div>\n",
              "<style scoped>\n",
              "    .dataframe tbody tr th:only-of-type {\n",
              "        vertical-align: middle;\n",
              "    }\n",
              "\n",
              "    .dataframe tbody tr th {\n",
              "        vertical-align: top;\n",
              "    }\n",
              "\n",
              "    .dataframe thead th {\n",
              "        text-align: right;\n",
              "    }\n",
              "</style>\n",
              "<table border=\"1\" class=\"dataframe\">\n",
              "  <thead>\n",
              "    <tr style=\"text-align: right;\">\n",
              "      <th></th>\n",
              "      <th>url</th>\n",
              "      <th>n_tokens_content</th>\n",
              "      <th>rate_positive_words</th>\n",
              "      <th>rate_negative_words</th>\n",
              "      <th>shares</th>\n",
              "    </tr>\n",
              "  </thead>\n",
              "  <tbody>\n",
              "    <tr>\n",
              "      <th>0</th>\n",
              "      <td>http://mashable.com/2013/01/07/amazon-instant-...</td>\n",
              "      <td>219.0</td>\n",
              "      <td>0.769231</td>\n",
              "      <td>0.230769</td>\n",
              "      <td>593</td>\n",
              "    </tr>\n",
              "    <tr>\n",
              "      <th>1</th>\n",
              "      <td>http://mashable.com/2013/01/07/ap-samsung-spon...</td>\n",
              "      <td>255.0</td>\n",
              "      <td>0.733333</td>\n",
              "      <td>0.266667</td>\n",
              "      <td>711</td>\n",
              "    </tr>\n",
              "    <tr>\n",
              "      <th>2</th>\n",
              "      <td>http://mashable.com/2013/01/07/apple-40-billio...</td>\n",
              "      <td>211.0</td>\n",
              "      <td>0.857143</td>\n",
              "      <td>0.142857</td>\n",
              "      <td>1500</td>\n",
              "    </tr>\n",
              "    <tr>\n",
              "      <th>3</th>\n",
              "      <td>http://mashable.com/2013/01/07/astronaut-notre...</td>\n",
              "      <td>531.0</td>\n",
              "      <td>0.666667</td>\n",
              "      <td>0.333333</td>\n",
              "      <td>1200</td>\n",
              "    </tr>\n",
              "    <tr>\n",
              "      <th>4</th>\n",
              "      <td>http://mashable.com/2013/01/07/att-u-verse-apps/</td>\n",
              "      <td>1072.0</td>\n",
              "      <td>0.860215</td>\n",
              "      <td>0.139785</td>\n",
              "      <td>505</td>\n",
              "    </tr>\n",
              "    <tr>\n",
              "      <th>...</th>\n",
              "      <td>...</td>\n",
              "      <td>...</td>\n",
              "      <td>...</td>\n",
              "      <td>...</td>\n",
              "      <td>...</td>\n",
              "    </tr>\n",
              "    <tr>\n",
              "      <th>39638</th>\n",
              "      <td>http://mashable.com/2014/12/27/protests-contin...</td>\n",
              "      <td>223.0</td>\n",
              "      <td>0.875000</td>\n",
              "      <td>0.125000</td>\n",
              "      <td>1200</td>\n",
              "    </tr>\n",
              "    <tr>\n",
              "      <th>39639</th>\n",
              "      <td>http://mashable.com/2014/12/27/samsung-app-aut...</td>\n",
              "      <td>346.0</td>\n",
              "      <td>0.722222</td>\n",
              "      <td>0.277778</td>\n",
              "      <td>1800</td>\n",
              "    </tr>\n",
              "    <tr>\n",
              "      <th>39640</th>\n",
              "      <td>http://mashable.com/2014/12/27/seth-rogen-jame...</td>\n",
              "      <td>328.0</td>\n",
              "      <td>0.812500</td>\n",
              "      <td>0.187500</td>\n",
              "      <td>1900</td>\n",
              "    </tr>\n",
              "    <tr>\n",
              "      <th>39642</th>\n",
              "      <td>http://mashable.com/2014/12/27/ukraine-blasts/</td>\n",
              "      <td>682.0</td>\n",
              "      <td>0.466667</td>\n",
              "      <td>0.533333</td>\n",
              "      <td>1100</td>\n",
              "    </tr>\n",
              "    <tr>\n",
              "      <th>39643</th>\n",
              "      <td>http://mashable.com/2014/12/27/youtube-channel...</td>\n",
              "      <td>157.0</td>\n",
              "      <td>0.833333</td>\n",
              "      <td>0.166667</td>\n",
              "      <td>1300</td>\n",
              "    </tr>\n",
              "  </tbody>\n",
              "</table>\n",
              "<p>32972 rows × 5 columns</p>\n",
              "</div>"
            ],
            "text/plain": [
              "                                                     url  ...  shares\n",
              "0      http://mashable.com/2013/01/07/amazon-instant-...  ...     593\n",
              "1      http://mashable.com/2013/01/07/ap-samsung-spon...  ...     711\n",
              "2      http://mashable.com/2013/01/07/apple-40-billio...  ...    1500\n",
              "3      http://mashable.com/2013/01/07/astronaut-notre...  ...    1200\n",
              "4       http://mashable.com/2013/01/07/att-u-verse-apps/  ...     505\n",
              "...                                                  ...  ...     ...\n",
              "39638  http://mashable.com/2014/12/27/protests-contin...  ...    1200\n",
              "39639  http://mashable.com/2014/12/27/samsung-app-aut...  ...    1800\n",
              "39640  http://mashable.com/2014/12/27/seth-rogen-jame...  ...    1900\n",
              "39642     http://mashable.com/2014/12/27/ukraine-blasts/  ...    1100\n",
              "39643  http://mashable.com/2014/12/27/youtube-channel...  ...    1300\n",
              "\n",
              "[32972 rows x 5 columns]"
            ]
          },
          "metadata": {
            "tags": []
          },
          "execution_count": 67
        }
      ]
    },
    {
      "cell_type": "code",
      "metadata": {
        "id": "9g48lnubuAIr",
        "colab_type": "code",
        "colab": {
          "base_uri": "https://localhost:8080/",
          "height": 297
        },
        "outputId": "caab6727-25d8-4399-b3b2-8047d031f98f"
      },
      "source": [
        "#단어의 성질 분석을 위한 q3데이터의 기술통계량\n",
        "q3.describe()"
      ],
      "execution_count": null,
      "outputs": [
        {
          "output_type": "execute_result",
          "data": {
            "text/html": [
              "<div>\n",
              "<style scoped>\n",
              "    .dataframe tbody tr th:only-of-type {\n",
              "        vertical-align: middle;\n",
              "    }\n",
              "\n",
              "    .dataframe tbody tr th {\n",
              "        vertical-align: top;\n",
              "    }\n",
              "\n",
              "    .dataframe thead th {\n",
              "        text-align: right;\n",
              "    }\n",
              "</style>\n",
              "<table border=\"1\" class=\"dataframe\">\n",
              "  <thead>\n",
              "    <tr style=\"text-align: right;\">\n",
              "      <th></th>\n",
              "      <th>n_tokens_content</th>\n",
              "      <th>rate_positive_words</th>\n",
              "      <th>rate_negative_words</th>\n",
              "      <th>shares</th>\n",
              "    </tr>\n",
              "  </thead>\n",
              "  <tbody>\n",
              "    <tr>\n",
              "      <th>count</th>\n",
              "      <td>32972.000000</td>\n",
              "      <td>32972.000000</td>\n",
              "      <td>32972.000000</td>\n",
              "      <td>32972.000000</td>\n",
              "    </tr>\n",
              "    <tr>\n",
              "      <th>mean</th>\n",
              "      <td>594.990841</td>\n",
              "      <td>0.706710</td>\n",
              "      <td>0.293169</td>\n",
              "      <td>2919.907558</td>\n",
              "    </tr>\n",
              "    <tr>\n",
              "      <th>std</th>\n",
              "      <td>481.908475</td>\n",
              "      <td>0.147383</td>\n",
              "      <td>0.147213</td>\n",
              "      <td>9513.824098</td>\n",
              "    </tr>\n",
              "    <tr>\n",
              "      <th>min</th>\n",
              "      <td>29.000000</td>\n",
              "      <td>0.000000</td>\n",
              "      <td>0.000000</td>\n",
              "      <td>1.000000</td>\n",
              "    </tr>\n",
              "    <tr>\n",
              "      <th>25%</th>\n",
              "      <td>279.000000</td>\n",
              "      <td>0.618770</td>\n",
              "      <td>0.194444</td>\n",
              "      <td>929.000000</td>\n",
              "    </tr>\n",
              "    <tr>\n",
              "      <th>50%</th>\n",
              "      <td>455.000000</td>\n",
              "      <td>0.717949</td>\n",
              "      <td>0.282051</td>\n",
              "      <td>1400.000000</td>\n",
              "    </tr>\n",
              "    <tr>\n",
              "      <th>75%</th>\n",
              "      <td>768.000000</td>\n",
              "      <td>0.805556</td>\n",
              "      <td>0.380952</td>\n",
              "      <td>2500.000000</td>\n",
              "    </tr>\n",
              "    <tr>\n",
              "      <th>max</th>\n",
              "      <td>8474.000000</td>\n",
              "      <td>1.000000</td>\n",
              "      <td>1.000000</td>\n",
              "      <td>690400.000000</td>\n",
              "    </tr>\n",
              "  </tbody>\n",
              "</table>\n",
              "</div>"
            ],
            "text/plain": [
              "       n_tokens_content  ...         shares\n",
              "count      32972.000000  ...   32972.000000\n",
              "mean         594.990841  ...    2919.907558\n",
              "std          481.908475  ...    9513.824098\n",
              "min           29.000000  ...       1.000000\n",
              "25%          279.000000  ...     929.000000\n",
              "50%          455.000000  ...    1400.000000\n",
              "75%          768.000000  ...    2500.000000\n",
              "max         8474.000000  ...  690400.000000\n",
              "\n",
              "[8 rows x 4 columns]"
            ]
          },
          "metadata": {
            "tags": []
          },
          "execution_count": 68
        }
      ]
    },
    {
      "cell_type": "code",
      "metadata": {
        "id": "9QZ3IT-BySRJ",
        "colab_type": "code",
        "colab": {}
      },
      "source": [
        "#긍정적인 단어 비율이 높은 그룹과 부정적인 단어 비율이 높은 그룹 분리\n",
        "pos=q3[q3['rate_positive_words']>q3['rate_negative_words']]\n",
        "neg=q3[q3['rate_negative_words']>q3['rate_positive_words']]\n",
        "\n",
        "g1=pos['shares']\n",
        "g2=neg['shares']"
      ],
      "execution_count": null,
      "outputs": []
    },
    {
      "cell_type": "code",
      "metadata": {
        "id": "iY3Efmnuy6-Q",
        "colab_type": "code",
        "colab": {
          "base_uri": "https://localhost:8080/",
          "height": 85
        },
        "outputId": "c017ff14-bce1-4fdf-b82d-e26d956b017b"
      },
      "source": [
        "#정규성 테스트\n",
        "print(stats.shapiro(g1))\n",
        "print(stats.shapiro(g2))"
      ],
      "execution_count": null,
      "outputs": [
        {
          "output_type": "stream",
          "text": [
            "(0.1470048427581787, 0.0)\n",
            "(0.3039783239364624, 0.0)\n"
          ],
          "name": "stdout"
        },
        {
          "output_type": "stream",
          "text": [
            "/usr/local/lib/python3.6/dist-packages/scipy/stats/morestats.py:1660: UserWarning: p-value may not be accurate for N > 5000.\n",
            "  warnings.warn(\"p-value may not be accurate for N > 5000.\")\n"
          ],
          "name": "stderr"
        }
      ]
    },
    {
      "cell_type": "code",
      "metadata": {
        "id": "Vas1xXqXzBQc",
        "colab_type": "code",
        "colab": {
          "base_uri": "https://localhost:8080/",
          "height": 279
        },
        "outputId": "46b51633-b743-4ec5-f335-31e89456d3f3"
      },
      "source": [
        "x = sns.distplot(g1, kde=False, fit=stats.norm, label=\"group1\")\n",
        "ax = sns.distplot(g2, kde=False, fit=stats.norm, label=\"group2\")\n",
        "ax.lines[0].set_linestyle(\":\")\n",
        "plt.legend()\n",
        "plt.show()"
      ],
      "execution_count": null,
      "outputs": [
        {
          "output_type": "display_data",
          "data": {
            "image/png": "[encoded data removed]",
            "text/plain": [
              "<Figure size 432x288 with 1 Axes>"
            ]
          },
          "metadata": {
            "tags": []
          }
        }
      ]
    },
    {
      "cell_type": "markdown",
      "metadata": {
        "id": "A6iX1X3jzmNA",
        "colab_type": "text"
      },
      "source": [
        "p-value<0.05 이므로 정규성을 가정할 수 없다.\n",
        "\n",
        "Wilcoxon's Rank sum test를 진행하겠다."
      ]
    },
    {
      "cell_type": "code",
      "metadata": {
        "id": "7Ji4n4VWzKyg",
        "colab_type": "code",
        "colab": {
          "base_uri": "https://localhost:8080/",
          "height": 34
        },
        "outputId": "ba6d08b3-f196-4266-ca07-7d829e651723"
      },
      "source": [
        "#Wilcoxon's Rank sum test\n",
        "print(stats.ranksums(g1,g2))"
      ],
      "execution_count": null,
      "outputs": [
        {
          "output_type": "stream",
          "text": [
            "RanksumsResult(statistic=12.608006548762624, pvalue=1.9075707112875307e-36)\n"
          ],
          "name": "stdout"
        }
      ]
    },
    {
      "cell_type": "markdown",
      "metadata": {
        "id": "zbepOORwzwPU",
        "colab_type": "text"
      },
      "source": [
        "Wilcoxon's Rank sum Test 결과 p-value<0.05이므로 귀무가설을 기각한다.\n",
        "\n",
        "**따라서 긍정적인 단어의 비율이 더 높은 그룹과 부정적인 단어의 비율이 더 높은 그룹의 기사 공유 횟수간에는 통계적으로 유의미한 차이가 있다고 볼 수 있다.**"
      ]
    },
    {
      "cell_type": "code",
      "metadata": {
        "id": "53g-5trEzVCh",
        "colab_type": "code",
        "colab": {
          "base_uri": "https://localhost:8080/",
          "height": 666
        },
        "outputId": "ac51569d-9d9f-4b97-d466-82f01909d3e3"
      },
      "source": [
        "#긍정적인 단어의 비율이 더 높은 그룹\n",
        "print(g1.describe())\n",
        "plt.hist(q3['rate_positive_words'])\n",
        "plt.show()\n",
        "plt.scatter(x=q3['rate_positive_words'],y=q3['shares'])\n",
        "plt.show()"
      ],
      "execution_count": null,
      "outputs": [
        {
          "output_type": "stream",
          "text": [
            "count     29741.000000\n",
            "mean       2974.794593\n",
            "std        9860.788926\n",
            "min           1.000000\n",
            "25%         940.000000\n",
            "50%        1400.000000\n",
            "75%        2600.000000\n",
            "max      690400.000000\n",
            "Name: shares, dtype: float64\n"
          ],
          "name": "stdout"
        },
        {
          "output_type": "display_data",
          "data": {
            "image/png": "[encoded data removed]",
            "text/plain": [
              "<Figure size 432x288 with 1 Axes>"
            ]
          },
          "metadata": {
            "tags": []
          }
        },
        {
          "output_type": "display_data",
          "data": {
            "image/png": "[encoded data removed]",
            "text/plain": [
              "<Figure size 432x288 with 1 Axes>"
            ]
          },
          "metadata": {
            "tags": []
          }
        }
      ]
    },
    {
      "cell_type": "code",
      "metadata": {
        "id": "lH_unJ4sMd5c",
        "colab_type": "code",
        "colab": {
          "base_uri": "https://localhost:8080/",
          "height": 666
        },
        "outputId": "8c51c2b5-414c-4df4-9556-0f0f47e09439"
      },
      "source": [
        "#부정적인 단어의 비율이 더 높은 그룹\n",
        "print(g2.describe())\n",
        "plt.hist(q3['rate_negative_words'])\n",
        "plt.show()\n",
        "plt.scatter(x=q3['rate_negative_words'],y=q3['shares'])\n",
        "plt.show()"
      ],
      "execution_count": null,
      "outputs": [
        {
          "output_type": "stream",
          "text": [
            "count     2366.000000\n",
            "mean      2392.261623\n",
            "std       5239.822467\n",
            "min         22.000000\n",
            "25%        843.250000\n",
            "50%       1100.000000\n",
            "75%       1900.000000\n",
            "max      96000.000000\n",
            "Name: shares, dtype: float64\n"
          ],
          "name": "stdout"
        },
        {
          "output_type": "display_data",
          "data": {
            "image/png": "[encoded data removed]",
            "text/plain": [
              "<Figure size 432x288 with 1 Axes>"
            ]
          },
          "metadata": {
            "tags": []
          }
        },
        {
          "output_type": "display_data",
          "data": {
            "image/png": "[encoded data removed]",
            "text/plain": [
              "<Figure size 432x288 with 1 Axes>"
            ]
          },
          "metadata": {
            "tags": []
          }
        }
      ]
    },
    {
      "cell_type": "markdown",
      "metadata": {
        "id": "n2tmdPfnRNPE",
        "colab_type": "text"
      },
      "source": [
        "통계량과 그래프를 통해\n",
        "\n",
        "긍정적인 단어의 비율이 높았던 그룹은 중앙값(1400)보다 평균값(2974.794593)이 더 커서 왼쪽으로 긴 꼬리의 분포를 갖으며\n",
        "\n",
        "부정적인 단어의 비율이 높았던 그룹은 중앙값(1100)보다 평균값(2392.261623)이 더 작아서 오른쪽으로 긴 꼬리의 분포를 갖는다는 것을 알 수 있다.\n",
        "\n",
        "이때, 긍정적인 단어의 비율이 높았던 그룹의 수치들이 전반적으로 부정적인 단어의 비율이 높았던 그룹보다 높기 때문에 긍정적인 단어의 비율이 높을 수록 기사 공유 횟수가 높아질 것이라고 예측해 볼 수 있다."
      ]
    },
    {
      "cell_type": "markdown",
      "metadata": {
        "id": "bE8SeCl6Sqf0",
        "colab_type": "text"
      },
      "source": [
        "\n",
        "\n",
        "> Q3-1. 긍정적인 단어의 사용 비율과 부정적인 단어의 사용 비율이 기사 공유 횟수에 영향을 미칠까?\n",
        "\n",
        "만약 영향을 준다면 얼마나 줄까? (회귀분석)\n",
        "\n"
      ]
    },
    {
      "cell_type": "code",
      "metadata": {
        "id": "l70NHJGcxKTn",
        "colab_type": "code",
        "colab": {
          "base_uri": "https://localhost:8080/",
          "height": 545
        },
        "outputId": "136d66e5-0d0f-45ce-f202-4e1380cc2ee9"
      },
      "source": [
        "sns.pairplot(q3.iloc[:,2:5], height =2.5, kind='reg')\n",
        "plt.show()"
      ],
      "execution_count": null,
      "outputs": [
        {
          "output_type": "display_data",
          "data": {
            "image/png": "[encoded data removed]",
            "text/plain": [
              "<Figure size 540x540 with 12 Axes>"
            ]
          },
          "metadata": {
            "tags": []
          }
        }
      ]
    },
    {
      "cell_type": "markdown",
      "metadata": {
        "id": "zeqGsBuxxupy",
        "colab_type": "text"
      },
      "source": [
        "scatter plot 확인결과 'rate_positive_words','rate_negative_words' 는 'shares'와 선형적인 관계가 존재한다고 보기 어려워 보인다. 따라서 비선형적 관계를 갖고있을 것이라고 예상해볼 수 있다."
      ]
    },
    {
      "cell_type": "code",
      "metadata": {
        "id": "1H964iWjhpnr",
        "colab_type": "code",
        "colab": {
          "base_uri": "https://localhost:8080/",
          "height": 465
        },
        "outputId": "c36583b2-9712-4a76-d1c8-ab6f03e4d34a"
      },
      "source": [
        "#회귀분석\n",
        "reg = sm.OLS.from_formula(\"shares ~ rate_positive_words + rate_negative_words\", q3).fit()\n",
        "reg.summary()"
      ],
      "execution_count": null,
      "outputs": [
        {
          "output_type": "execute_result",
          "data": {
            "text/html": [
              "<table class=\"simpletable\">\n",
              "<caption>OLS Regression Results</caption>\n",
              "<tr>\n",
              "  <th>Dep. Variable:</th>         <td>shares</td>      <th>  R-squared:         </th>  <td>   0.000</td>  \n",
              "</tr>\n",
              "<tr>\n",
              "  <th>Model:</th>                   <td>OLS</td>       <th>  Adj. R-squared:    </th>  <td>  -0.000</td>  \n",
              "</tr>\n",
              "<tr>\n",
              "  <th>Method:</th>             <td>Least Squares</td>  <th>  F-statistic:       </th>  <td>  0.7070</td>  \n",
              "</tr>\n",
              "<tr>\n",
              "  <th>Date:</th>             <td>Sun, 01 Dec 2019</td> <th>  Prob (F-statistic):</th>   <td> 0.493</td>   \n",
              "</tr>\n",
              "<tr>\n",
              "  <th>Time:</th>                 <td>14:05:42</td>     <th>  Log-Likelihood:    </th> <td>-3.4882e+05</td>\n",
              "</tr>\n",
              "<tr>\n",
              "  <th>No. Observations:</th>      <td> 32972</td>      <th>  AIC:               </th>  <td>6.977e+05</td> \n",
              "</tr>\n",
              "<tr>\n",
              "  <th>Df Residuals:</th>          <td> 32969</td>      <th>  BIC:               </th>  <td>6.977e+05</td> \n",
              "</tr>\n",
              "<tr>\n",
              "  <th>Df Model:</th>              <td>     2</td>      <th>                     </th>      <td> </td>     \n",
              "</tr>\n",
              "<tr>\n",
              "  <th>Covariance Type:</th>      <td>nonrobust</td>    <th>                     </th>      <td> </td>     \n",
              "</tr>\n",
              "</table>\n",
              "<table class=\"simpletable\">\n",
              "<tr>\n",
              "           <td></td>              <th>coef</th>     <th>std err</th>      <th>t</th>      <th>P>|t|</th>  <th>[0.025</th>    <th>0.975]</th>  \n",
              "</tr>\n",
              "<tr>\n",
              "  <th>Intercept</th>           <td> 2260.5000</td> <td> 4756.954</td> <td>    0.475</td> <td> 0.635</td> <td>-7063.301</td> <td> 1.16e+04</td>\n",
              "</tr>\n",
              "<tr>\n",
              "  <th>rate_positive_words</th> <td>  782.7654</td> <td> 4758.388</td> <td>    0.165</td> <td> 0.869</td> <td>-8543.846</td> <td> 1.01e+04</td>\n",
              "</tr>\n",
              "<tr>\n",
              "  <th>rate_negative_words</th> <td>  362.3154</td> <td> 4763.893</td> <td>    0.076</td> <td> 0.939</td> <td>-8975.085</td> <td> 9699.716</td>\n",
              "</tr>\n",
              "</table>\n",
              "<table class=\"simpletable\">\n",
              "<tr>\n",
              "  <th>Omnibus:</th>       <td>94514.382</td> <th>  Durbin-Watson:     </th>    <td>   1.996</td>   \n",
              "</tr>\n",
              "<tr>\n",
              "  <th>Prob(Omnibus):</th>  <td> 0.000</td>   <th>  Jarque-Bera (JB):  </th> <td>7649731261.813</td>\n",
              "</tr>\n",
              "<tr>\n",
              "  <th>Skew:</th>           <td>38.691</td>   <th>  Prob(JB):          </th>    <td>    0.00</td>   \n",
              "</tr>\n",
              "<tr>\n",
              "  <th>Kurtosis:</th>      <td>2361.427</td>  <th>  Cond. No.          </th>    <td>    198.</td>   \n",
              "</tr>\n",
              "</table><br/><br/>Warnings:<br/>[1] Standard Errors assume that the covariance matrix of the errors is correctly specified."
            ],
            "text/plain": [
              "<class 'statsmodels.iolib.summary.Summary'>\n",
              "\"\"\"\n",
              "                            OLS Regression Results                            \n",
              "==============================================================================\n",
              "Dep. Variable:                 shares   R-squared:                       0.000\n",
              "Model:                            OLS   Adj. R-squared:                 -0.000\n",
              "Method:                 Least Squares   F-statistic:                    0.7070\n",
              "Date:                Sun, 01 Dec 2019   Prob (F-statistic):              0.493\n",
              "Time:                        14:05:42   Log-Likelihood:            -3.4882e+05\n",
              "No. Observations:               32972   AIC:                         6.977e+05\n",
              "Df Residuals:                   32969   BIC:                         6.977e+05\n",
              "Df Model:                           2                                         \n",
              "Covariance Type:            nonrobust                                         \n",
              "=======================================================================================\n",
              "                          coef    std err          t      P>|t|      [0.025      0.975]\n",
              "---------------------------------------------------------------------------------------\n",
              "Intercept            2260.5000   4756.954      0.475      0.635   -7063.301    1.16e+04\n",
              "rate_positive_words   782.7654   4758.388      0.165      0.869   -8543.846    1.01e+04\n",
              "rate_negative_words   362.3154   4763.893      0.076      0.939   -8975.085    9699.716\n",
              "==============================================================================\n",
              "Omnibus:                    94514.382   Durbin-Watson:                   1.996\n",
              "Prob(Omnibus):                  0.000   Jarque-Bera (JB):       7649731261.813\n",
              "Skew:                          38.691   Prob(JB):                         0.00\n",
              "Kurtosis:                    2361.427   Cond. No.                         198.\n",
              "==============================================================================\n",
              "\n",
              "Warnings:\n",
              "[1] Standard Errors assume that the covariance matrix of the errors is correctly specified.\n",
              "\"\"\""
            ]
          },
          "metadata": {
            "tags": []
          },
          "execution_count": 76
        }
      ]
    },
    {
      "cell_type": "markdown",
      "metadata": {
        "id": "tDnYkVFFQ6b_",
        "colab_type": "text"
      },
      "source": [
        "선형 회귀분석을 적용해보려고 하였으나 p-value>0.05 이므로 귀무가설을 기각하지 못해서 의미있는 통계량이 아니며 r-squared 값이 매우 작아 기사 공유 횟수에 대한 설명력이 거의 없다고 볼 수있다.\n",
        "\n",
        "따라서 예상대로 선형적인 관계가 없어서 선형회귀분석이 불가하다."
      ]
    },
    {
      "cell_type": "markdown",
      "metadata": {
        "id": "dT-18W8fuc5s",
        "colab_type": "text"
      },
      "source": [
        "\n",
        "\n",
        "> Q4. 시각적 자료가 기사 인기도에 미치는 영향\n",
        "\n"
      ]
    },
    {
      "cell_type": "code",
      "metadata": {
        "id": "4gil3JDpU3dP",
        "colab_type": "code",
        "colab": {
          "base_uri": "https://localhost:8080/",
          "height": 265
        },
        "outputId": "124f661f-f348-43cf-87e8-ae53b34c92a6"
      },
      "source": [
        "plt.hist(news['num_visual'])\n",
        "plt.show()"
      ],
      "execution_count": null,
      "outputs": [
        {
          "output_type": "display_data",
          "data": {
            "image/png": "[encoded data removed]",
            "text/plain": [
              "<Figure size 432x288 with 1 Axes>"
            ]
          },
          "metadata": {
            "tags": []
          }
        }
      ]
    },
    {
      "cell_type": "markdown",
      "metadata": {
        "id": "iCS602hkU97a",
        "colab_type": "text"
      },
      "source": [
        "시각적 자료 개수의 히스토그램은 위의 그림과 같았다. 이상치 때문에 히스토그램에 왜곡이 생긴 것이라고 추측하며 기술통계량을 확인해보았다."
      ]
    },
    {
      "cell_type": "code",
      "metadata": {
        "id": "qFvJquGDVOzI",
        "colab_type": "code",
        "colab": {
          "base_uri": "https://localhost:8080/",
          "height": 170
        },
        "outputId": "3ce40eb0-f8e5-4840-a1f8-93de587e4b7f"
      },
      "source": [
        "ni=news['num_visual']\n",
        "ni.describe()"
      ],
      "execution_count": null,
      "outputs": [
        {
          "output_type": "execute_result",
          "data": {
            "text/plain": [
              "count    33510.000000\n",
              "mean         4.957893\n",
              "std          8.430106\n",
              "min          0.000000\n",
              "25%          1.000000\n",
              "50%          1.000000\n",
              "75%          5.000000\n",
              "max        140.000000\n",
              "Name: num_visual, dtype: float64"
            ]
          },
          "metadata": {
            "tags": []
          },
          "execution_count": 78
        }
      ]
    },
    {
      "cell_type": "markdown",
      "metadata": {
        "id": "zK7XXhyyV0zf",
        "colab_type": "text"
      },
      "source": [
        "통계량 확인결과 중앙값(1) 보다 평균값(4.957893)이 커서 오른쪽으로 긴 꼬리의 분포를 갖고 있으며 데이터의 75%가 5안에 분포하지만 최댓값은 140으로 이상치에 의해 히스토그램에 왜곡이 생긴것을 확인할 수 있다."
      ]
    },
    {
      "cell_type": "code",
      "metadata": {
        "id": "TwE2kf00u4NI",
        "colab_type": "code",
        "colab": {
          "base_uri": "https://localhost:8080/",
          "height": 265
        },
        "outputId": "596ce0ac-8cee-43dc-9e6f-7059c7cb1c3d"
      },
      "source": [
        "plt.scatter(x=news['num_visual'],y=news['shares'])\n",
        "plt.show()"
      ],
      "execution_count": null,
      "outputs": [
        {
          "output_type": "display_data",
          "data": {
            "image/png": "[encoded data removed]",
            "text/plain": [
              "<Figure size 432x288 with 1 Axes>"
            ]
          },
          "metadata": {
            "tags": []
          }
        }
      ]
    },
    {
      "cell_type": "markdown",
      "metadata": {
        "id": "o8UAY6duYxBc",
        "colab_type": "text"
      },
      "source": [
        "산점도를 확인하면 위의 그림과 같았다."
      ]
    },
    {
      "cell_type": "code",
      "metadata": {
        "id": "2xw3VscAUQOY",
        "colab_type": "code",
        "colab": {
          "base_uri": "https://localhost:8080/",
          "height": 34
        },
        "outputId": "bc7dd3a2-64a9-4140-a747-b3d657953fd9"
      },
      "source": [
        "print(news['num_visual'].corr(news['shares']))"
      ],
      "execution_count": null,
      "outputs": [
        {
          "output_type": "stream",
          "text": [
            "0.03662584039988736\n"
          ],
          "name": "stdout"
        }
      ]
    },
    {
      "cell_type": "markdown",
      "metadata": {
        "id": "eXJ37Sg_ZJs6",
        "colab_type": "text"
      },
      "source": [
        "상관분석 결과 거의 무시될 수 있는 선형관계를 갖고 있음을 알 수 있었다.\n",
        "\n",
        "선형관계를 어느정도 갖고있으므로 선형회귀분석까지 시도해 보았다."
      ]
    },
    {
      "cell_type": "code",
      "metadata": {
        "id": "LToZ46KvUQWX",
        "colab_type": "code",
        "colab": {
          "base_uri": "https://localhost:8080/",
          "height": 444
        },
        "outputId": "7576a168-b9db-4ad8-a52d-232c8b56960b"
      },
      "source": [
        "reg = sm.OLS.from_formula(\"shares ~ num_visual \", news).fit()\n",
        "reg.summary()"
      ],
      "execution_count": null,
      "outputs": [
        {
          "output_type": "execute_result",
          "data": {
            "text/html": [
              "<table class=\"simpletable\">\n",
              "<caption>OLS Regression Results</caption>\n",
              "<tr>\n",
              "  <th>Dep. Variable:</th>         <td>shares</td>      <th>  R-squared:         </th>  <td>   0.001</td>  \n",
              "</tr>\n",
              "<tr>\n",
              "  <th>Model:</th>                   <td>OLS</td>       <th>  Adj. R-squared:    </th>  <td>   0.001</td>  \n",
              "</tr>\n",
              "<tr>\n",
              "  <th>Method:</th>             <td>Least Squares</td>  <th>  F-statistic:       </th>  <td>   45.01</td>  \n",
              "</tr>\n",
              "<tr>\n",
              "  <th>Date:</th>             <td>Sun, 01 Dec 2019</td> <th>  Prob (F-statistic):</th>  <td>1.99e-11</td>  \n",
              "</tr>\n",
              "<tr>\n",
              "  <th>Time:</th>                 <td>14:05:43</td>     <th>  Log-Likelihood:    </th> <td>-3.5434e+05</td>\n",
              "</tr>\n",
              "<tr>\n",
              "  <th>No. Observations:</th>      <td> 33510</td>      <th>  AIC:               </th>  <td>7.087e+05</td> \n",
              "</tr>\n",
              "<tr>\n",
              "  <th>Df Residuals:</th>          <td> 33508</td>      <th>  BIC:               </th>  <td>7.087e+05</td> \n",
              "</tr>\n",
              "<tr>\n",
              "  <th>Df Model:</th>              <td>     1</td>      <th>                     </th>      <td> </td>     \n",
              "</tr>\n",
              "<tr>\n",
              "  <th>Covariance Type:</th>      <td>nonrobust</td>    <th>                     </th>      <td> </td>     \n",
              "</tr>\n",
              "</table>\n",
              "<table class=\"simpletable\">\n",
              "<tr>\n",
              "       <td></td>         <th>coef</th>     <th>std err</th>      <th>t</th>      <th>P>|t|</th>  <th>[0.025</th>    <th>0.975]</th>  \n",
              "</tr>\n",
              "<tr>\n",
              "  <th>Intercept</th>  <td> 2724.6401</td> <td>   59.980</td> <td>   45.426</td> <td> 0.000</td> <td> 2607.077</td> <td> 2842.203</td>\n",
              "</tr>\n",
              "<tr>\n",
              "  <th>num_visual</th> <td>   41.1461</td> <td>    6.133</td> <td>    6.709</td> <td> 0.000</td> <td>   29.125</td> <td>   53.167</td>\n",
              "</tr>\n",
              "</table>\n",
              "<table class=\"simpletable\">\n",
              "<tr>\n",
              "  <th>Omnibus:</th>       <td>96038.871</td> <th>  Durbin-Watson:     </th>    <td>   1.997</td>   \n",
              "</tr>\n",
              "<tr>\n",
              "  <th>Prob(Omnibus):</th>  <td> 0.000</td>   <th>  Jarque-Bera (JB):  </th> <td>7840868512.092</td>\n",
              "</tr>\n",
              "<tr>\n",
              "  <th>Skew:</th>           <td>38.667</td>   <th>  Prob(JB):          </th>    <td>    0.00</td>   \n",
              "</tr>\n",
              "<tr>\n",
              "  <th>Kurtosis:</th>      <td>2371.477</td>  <th>  Cond. No.          </th>    <td>    11.4</td>   \n",
              "</tr>\n",
              "</table><br/><br/>Warnings:<br/>[1] Standard Errors assume that the covariance matrix of the errors is correctly specified."
            ],
            "text/plain": [
              "<class 'statsmodels.iolib.summary.Summary'>\n",
              "\"\"\"\n",
              "                            OLS Regression Results                            \n",
              "==============================================================================\n",
              "Dep. Variable:                 shares   R-squared:                       0.001\n",
              "Model:                            OLS   Adj. R-squared:                  0.001\n",
              "Method:                 Least Squares   F-statistic:                     45.01\n",
              "Date:                Sun, 01 Dec 2019   Prob (F-statistic):           1.99e-11\n",
              "Time:                        14:05:43   Log-Likelihood:            -3.5434e+05\n",
              "No. Observations:               33510   AIC:                         7.087e+05\n",
              "Df Residuals:                   33508   BIC:                         7.087e+05\n",
              "Df Model:                           1                                         \n",
              "Covariance Type:            nonrobust                                         \n",
              "==============================================================================\n",
              "                 coef    std err          t      P>|t|      [0.025      0.975]\n",
              "------------------------------------------------------------------------------\n",
              "Intercept   2724.6401     59.980     45.426      0.000    2607.077    2842.203\n",
              "num_visual    41.1461      6.133      6.709      0.000      29.125      53.167\n",
              "==============================================================================\n",
              "Omnibus:                    96038.871   Durbin-Watson:                   1.997\n",
              "Prob(Omnibus):                  0.000   Jarque-Bera (JB):       7840868512.092\n",
              "Skew:                          38.667   Prob(JB):                         0.00\n",
              "Kurtosis:                    2371.477   Cond. No.                         11.4\n",
              "==============================================================================\n",
              "\n",
              "Warnings:\n",
              "[1] Standard Errors assume that the covariance matrix of the errors is correctly specified.\n",
              "\"\"\""
            ]
          },
          "metadata": {
            "tags": []
          },
          "execution_count": 81
        }
      ]
    },
    {
      "cell_type": "markdown",
      "metadata": {
        "id": "a5Iq3BhuZXH2",
        "colab_type": "text"
      },
      "source": [
        "선형 회귀분석 결과, p-value<0.05 이므로 단순선형회귀 모형에 적합시킬 수 있으리라 생각했다.\n",
        "\n",
        "하지만 r-squared 값이 0.001로 'num_visual' 변수는 'shares' 변수에 대해 0.1%정도의 설명력을 갖는다는 의미로 딱히 의미있는 모델링은 아니라고 판단하였다."
      ]
    },
    {
      "cell_type": "markdown",
      "metadata": {
        "id": "UDYMjjoFZ3IK",
        "colab_type": "text"
      },
      "source": [
        "**따라서 시각적 자료의 활용은 기사 공유 횟수에 영향을 미치긴 하지만 그 영향력의 크기가 매우 작아 의미있는 관계를 갖고있지는 않음을 확인하였다.**"
      ]
    },
    {
      "cell_type": "markdown",
      "metadata": {
        "id": "_krve3Q0unQA",
        "colab_type": "text"
      },
      "source": [
        "\n",
        "\n",
        "> Q5. 가장 인기있는 Topic 과 데이터 수집일 기준 최근 1년간 동안 인기있는 Topic은 같을까?\n",
        "\n"
      ]
    },
    {
      "cell_type": "markdown",
      "metadata": {
        "id": "-56N9ynEad0S",
        "colab_type": "text"
      },
      "source": [
        "먼저 데이터 전반적으로 가장 인기있는 Topic을 분석해보겠다."
      ]
    },
    {
      "cell_type": "code",
      "metadata": {
        "id": "FEC0ROuiaMDb",
        "colab_type": "code",
        "colab": {
          "base_uri": "https://localhost:8080/",
          "height": 606
        },
        "outputId": "f094ca72-e3fc-4e0a-fc3b-3facef03d5ee"
      },
      "source": [
        "plt.figure(figsize=(10,10))\n",
        "ax = sns.boxplot(data=news, x='topics',y='shares',palette='plasma')"
      ],
      "execution_count": null,
      "outputs": [
        {
          "output_type": "display_data",
          "data": {
            "image/png": "[encoded data removed]",
            "text/plain": [
              "<Figure size 720x720 with 1 Axes>"
            ]
          },
          "metadata": {
            "tags": []
          }
        }
      ]
    },
    {
      "cell_type": "markdown",
      "metadata": {
        "id": "B_bP9hgYbJ3s",
        "colab_type": "text"
      },
      "source": [
        "상자그림으로는 데이터의 분포를 확인하기 어려워서 통계량을 확인해보았다."
      ]
    },
    {
      "cell_type": "code",
      "metadata": {
        "id": "d4u3pEgiaxIm",
        "colab_type": "code",
        "colab": {
          "base_uri": "https://localhost:8080/",
          "height": 266
        },
        "outputId": "699bbe45-ad6a-4280-d39c-800a92948fa8"
      },
      "source": [
        "news.groupby(['topics'])['shares'].agg(['size','mean', 'std', 'min', 'max'])"
      ],
      "execution_count": null,
      "outputs": [
        {
          "output_type": "execute_result",
          "data": {
            "text/html": [
              "<div>\n",
              "<style scoped>\n",
              "    .dataframe tbody tr th:only-of-type {\n",
              "        vertical-align: middle;\n",
              "    }\n",
              "\n",
              "    .dataframe tbody tr th {\n",
              "        vertical-align: top;\n",
              "    }\n",
              "\n",
              "    .dataframe thead th {\n",
              "        text-align: right;\n",
              "    }\n",
              "</style>\n",
              "<table border=\"1\" class=\"dataframe\">\n",
              "  <thead>\n",
              "    <tr style=\"text-align: right;\">\n",
              "      <th></th>\n",
              "      <th>size</th>\n",
              "      <th>mean</th>\n",
              "      <th>std</th>\n",
              "      <th>min</th>\n",
              "      <th>max</th>\n",
              "    </tr>\n",
              "    <tr>\n",
              "      <th>topics</th>\n",
              "      <th></th>\n",
              "      <th></th>\n",
              "      <th></th>\n",
              "      <th></th>\n",
              "      <th></th>\n",
              "    </tr>\n",
              "  </thead>\n",
              "  <tbody>\n",
              "    <tr>\n",
              "      <th>buss</th>\n",
              "      <td>6258</td>\n",
              "      <td>3063.018536</td>\n",
              "      <td>15046.387626</td>\n",
              "      <td>1</td>\n",
              "      <td>690400</td>\n",
              "    </tr>\n",
              "    <tr>\n",
              "      <th>ent</th>\n",
              "      <td>7057</td>\n",
              "      <td>2970.487034</td>\n",
              "      <td>7858.133920</td>\n",
              "      <td>47</td>\n",
              "      <td>210300</td>\n",
              "    </tr>\n",
              "    <tr>\n",
              "      <th>life</th>\n",
              "      <td>2099</td>\n",
              "      <td>3682.123392</td>\n",
              "      <td>8885.017375</td>\n",
              "      <td>28</td>\n",
              "      <td>208300</td>\n",
              "    </tr>\n",
              "    <tr>\n",
              "      <th>social</th>\n",
              "      <td>2323</td>\n",
              "      <td>3629.383125</td>\n",
              "      <td>5524.167095</td>\n",
              "      <td>5</td>\n",
              "      <td>122800</td>\n",
              "    </tr>\n",
              "    <tr>\n",
              "      <th>tech</th>\n",
              "      <td>7346</td>\n",
              "      <td>3072.283283</td>\n",
              "      <td>9024.343803</td>\n",
              "      <td>36</td>\n",
              "      <td>663600</td>\n",
              "    </tr>\n",
              "    <tr>\n",
              "      <th>world</th>\n",
              "      <td>8427</td>\n",
              "      <td>2287.734069</td>\n",
              "      <td>6089.669476</td>\n",
              "      <td>35</td>\n",
              "      <td>284700</td>\n",
              "    </tr>\n",
              "  </tbody>\n",
              "</table>\n",
              "</div>"
            ],
            "text/plain": [
              "        size         mean           std  min     max\n",
              "topics                                              \n",
              "buss    6258  3063.018536  15046.387626    1  690400\n",
              "ent     7057  2970.487034   7858.133920   47  210300\n",
              "life    2099  3682.123392   8885.017375   28  208300\n",
              "social  2323  3629.383125   5524.167095    5  122800\n",
              "tech    7346  3072.283283   9024.343803   36  663600\n",
              "world   8427  2287.734069   6089.669476   35  284700"
            ]
          },
          "metadata": {
            "tags": []
          },
          "execution_count": 83
        }
      ]
    },
    {
      "cell_type": "markdown",
      "metadata": {
        "id": "mgkYxBxhbv2m",
        "colab_type": "text"
      },
      "source": [
        "기사의 갯수가 많았던 주제는 World, Tech, Entertainment, Business, Social Media, Lifestyle 순이었다."
      ]
    },
    {
      "cell_type": "code",
      "metadata": {
        "id": "OGL6es1Wbr3l",
        "colab_type": "code",
        "colab": {
          "base_uri": "https://localhost:8080/",
          "height": 297
        },
        "outputId": "02602db2-0d01-42df-f805-f4acf5269ad0"
      },
      "source": [
        "news.pivot_table(index='topics', values='shares', aggfunc='mean', margins= True, margins_name= 'Total')"
      ],
      "execution_count": null,
      "outputs": [
        {
          "output_type": "execute_result",
          "data": {
            "text/html": [
              "<div>\n",
              "<style scoped>\n",
              "    .dataframe tbody tr th:only-of-type {\n",
              "        vertical-align: middle;\n",
              "    }\n",
              "\n",
              "    .dataframe tbody tr th {\n",
              "        vertical-align: top;\n",
              "    }\n",
              "\n",
              "    .dataframe thead th {\n",
              "        text-align: right;\n",
              "    }\n",
              "</style>\n",
              "<table border=\"1\" class=\"dataframe\">\n",
              "  <thead>\n",
              "    <tr style=\"text-align: right;\">\n",
              "      <th></th>\n",
              "      <th>shares</th>\n",
              "    </tr>\n",
              "    <tr>\n",
              "      <th>topics</th>\n",
              "      <th></th>\n",
              "    </tr>\n",
              "  </thead>\n",
              "  <tbody>\n",
              "    <tr>\n",
              "      <th>buss</th>\n",
              "      <td>3063.018536</td>\n",
              "    </tr>\n",
              "    <tr>\n",
              "      <th>ent</th>\n",
              "      <td>2970.487034</td>\n",
              "    </tr>\n",
              "    <tr>\n",
              "      <th>life</th>\n",
              "      <td>3682.123392</td>\n",
              "    </tr>\n",
              "    <tr>\n",
              "      <th>social</th>\n",
              "      <td>3629.383125</td>\n",
              "    </tr>\n",
              "    <tr>\n",
              "      <th>tech</th>\n",
              "      <td>3072.283283</td>\n",
              "    </tr>\n",
              "    <tr>\n",
              "      <th>world</th>\n",
              "      <td>2287.734069</td>\n",
              "    </tr>\n",
              "    <tr>\n",
              "      <th>Total</th>\n",
              "      <td>2928.637989</td>\n",
              "    </tr>\n",
              "  </tbody>\n",
              "</table>\n",
              "</div>"
            ],
            "text/plain": [
              "             shares\n",
              "topics             \n",
              "buss    3063.018536\n",
              "ent     2970.487034\n",
              "life    3682.123392\n",
              "social  3629.383125\n",
              "tech    3072.283283\n",
              "world   2287.734069\n",
              "Total   2928.637989"
            ]
          },
          "metadata": {
            "tags": []
          },
          "execution_count": 84
        }
      ]
    },
    {
      "cell_type": "markdown",
      "metadata": {
        "id": "0eSS8AsGdW7c",
        "colab_type": "text"
      },
      "source": [
        "하지만 기사 공유량의 평균값은 Lifestyle, Social Media, Tech, Business, Entertainment, World 순이었다.\n",
        "\n",
        "인기 기사 Top5의 데이터를 통해 Business의 데이터가 가장 인기있지 않을까 생각했었는데 기사 공유량의 평균이 가장 높았던 주제는 Lifestyle 임을 알 수 있었다.\n",
        "\n",
        "그렇다면 각 주제들의 평균의 차이가 통계적으로 의미가 있는지 분산분석을 실행했다."
      ]
    },
    {
      "cell_type": "code",
      "metadata": {
        "id": "0ST-VCSrdoRg",
        "colab_type": "code",
        "colab": {
          "base_uri": "https://localhost:8080/",
          "height": 282
        },
        "outputId": "586a9105-0821-4abb-a3bc-48a3ee2a049c"
      },
      "source": [
        "buss = news[news['topics']== 'buss']\n",
        "ent = news[news['topics']== 'ent']\n",
        "life = news[news['topics']== 'life']\n",
        "social = news[news['topics']== 'social']\n",
        "tech = news[news['topics']== 'tech']\n",
        "world = news[news['topics']== 'world']\n",
        "\n",
        "gr1 = buss['shares']\n",
        "gr2 = ent['shares']\n",
        "gr3= life['shares']\n",
        "gr4= social['shares']\n",
        "gr5= tech['shares']\n",
        "gr6= world['shares']\n",
        "\n",
        "\n",
        "print(len(gr1),len(gr2),len(gr3),len(gr4),len(gr5),len(gr6))\n",
        "\n",
        "plot_data = [gr1, gr2, gr3,gr4,gr5,gr6]\n",
        "ax = plt.boxplot(plot_data)\n",
        "plt.show()"
      ],
      "execution_count": null,
      "outputs": [
        {
          "output_type": "stream",
          "text": [
            "6258 7057 2099 2323 7346 8427\n"
          ],
          "name": "stdout"
        },
        {
          "output_type": "display_data",
          "data": {
            "image/png": "[encoded data removed]",
            "text/plain": [
              "<Figure size 432x288 with 1 Axes>"
            ]
          },
          "metadata": {
            "tags": []
          }
        }
      ]
    },
    {
      "cell_type": "markdown",
      "metadata": {
        "id": "Rxa4Z5X5fKEx",
        "colab_type": "text"
      },
      "source": [
        "그래프로는 통계적으로 차이가 있는지 확인이 어렵다."
      ]
    },
    {
      "cell_type": "code",
      "metadata": {
        "id": "Vm_T_OzweWHA",
        "colab_type": "code",
        "colab": {
          "base_uri": "https://localhost:8080/",
          "height": 153
        },
        "outputId": "4c330edb-da66-4f9d-a5b9-83a129c727ba"
      },
      "source": [
        "#정규성 검정\n",
        "print(stats.shapiro(gr1))\n",
        "print(stats.shapiro(gr2))\n",
        "print(stats.shapiro(gr3))\n",
        "print(stats.shapiro(gr4))\n",
        "print(stats.shapiro(gr5))\n",
        "print(stats.shapiro(gr6))"
      ],
      "execution_count": null,
      "outputs": [
        {
          "output_type": "stream",
          "text": [
            "(0.08331376314163208, 0.0)\n",
            "(0.2645415663719177, 0.0)\n",
            "(0.2689771056175232, 0.0)\n",
            "(0.4311673641204834, 0.0)\n",
            "(0.139096200466156, 0.0)\n",
            "(0.21152836084365845, 0.0)\n"
          ],
          "name": "stdout"
        },
        {
          "output_type": "stream",
          "text": [
            "/usr/local/lib/python3.6/dist-packages/scipy/stats/morestats.py:1660: UserWarning: p-value may not be accurate for N > 5000.\n",
            "  warnings.warn(\"p-value may not be accurate for N > 5000.\")\n"
          ],
          "name": "stderr"
        }
      ]
    },
    {
      "cell_type": "code",
      "metadata": {
        "id": "FQMHJREtefuP",
        "colab_type": "code",
        "colab": {
          "base_uri": "https://localhost:8080/",
          "height": 279
        },
        "outputId": "454df093-3205-4466-c0d4-b57edb37d65c"
      },
      "source": [
        "ax = sns.distplot(gr1, kde=False, fit=stats.norm, label=\"gr1\")\n",
        "ax = sns.distplot(gr2, kde=False, fit=stats.norm, label=\"gr2\")\n",
        "ax = sns.distplot(gr3, kde=False, fit=stats.norm, label=\"gr3\")\n",
        "ax = sns.distplot(gr4, kde=False, fit=stats.norm, label=\"gr4\")\n",
        "ax = sns.distplot(gr5, kde=False, fit=stats.norm, label=\"gr5\")\n",
        "ax = sns.distplot(gr6, kde=False, fit=stats.norm, label=\"gr6\")\n",
        "\n",
        "ax.lines[0].set_linestyle(\":\")\n",
        "plt.legend()\n",
        "plt.show()"
      ],
      "execution_count": null,
      "outputs": [
        {
          "output_type": "display_data",
          "data": {
            "image/png": "[encoded data removed]",
            "text/plain": [
              "<Figure size 432x288 with 1 Axes>"
            ]
          },
          "metadata": {
            "tags": []
          }
        }
      ]
    },
    {
      "cell_type": "markdown",
      "metadata": {
        "id": "FVpn5GJufO-z",
        "colab_type": "text"
      },
      "source": [
        "정규성 검정결과 p-value<0.05 이므로 정규성이 깨진다.\n",
        "\n",
        "Kruskal-Wallis Rank Sum Test를 진행한다,"
      ]
    },
    {
      "cell_type": "code",
      "metadata": {
        "id": "WQa9cTBreowS",
        "colab_type": "code",
        "colab": {
          "base_uri": "https://localhost:8080/",
          "height": 34
        },
        "outputId": "5b742b89-c6dd-4fe9-85a3-12c77e473d9a"
      },
      "source": [
        "#Kruskal-Wallis Rank Sum Test\n",
        "print(stats.kruskal(gr1,gr2,gr3,gr4,gr5,gr6))"
      ],
      "execution_count": null,
      "outputs": [
        {
          "output_type": "stream",
          "text": [
            "KruskalResult(statistic=2163.569369213316, pvalue=0.0)\n"
          ],
          "name": "stdout"
        }
      ]
    },
    {
      "cell_type": "code",
      "metadata": {
        "id": "dBMdPU80evqT",
        "colab_type": "code",
        "colab": {
          "base_uri": "https://localhost:8080/",
          "height": 51
        },
        "outputId": "63998a0d-5c66-4e0d-dc7a-5f80cb061e0c"
      },
      "source": [
        "F_statistic, pVal =  stats.kruskal(gr1, gr2, gr3, gr4,gr5,gr6)\n",
        "\n",
        "print('데이터의 비모수적 일원분산분석 결과 : F={0:.1f}, p={1:.5f}'.format(F_statistic, pVal))\n",
        "if pVal < 0.05:\n",
        "    print('P-value 값이 충분히 작음으로 인해 그룹의 평균값이 통계적으로 유의미하게 차이납니다.')"
      ],
      "execution_count": null,
      "outputs": [
        {
          "output_type": "stream",
          "text": [
            "데이터의 비모수적 일원분산분석 결과 : F=2163.6, p=0.00000\n",
            "P-value 값이 충분히 작음으로 인해 그룹의 평균값이 통계적으로 유의미하게 차이납니다.\n"
          ],
          "name": "stdout"
        }
      ]
    },
    {
      "cell_type": "markdown",
      "metadata": {
        "id": "IRD9G_eMfZxt",
        "colab_type": "text"
      },
      "source": [
        "**따라서 각 주제들의 평균적인 차이는 의미가 있는 것으로 결론이 났고 전체적인 데이터를 보았을 때 가장 인기있는 주제는 Lifestyle 이라고 볼 수 있다.**"
      ]
    },
    {
      "cell_type": "markdown",
      "metadata": {
        "id": "ZiJZQtz9f-9L",
        "colab_type": "text"
      },
      "source": [
        "다음으로 최근 1년간 가장 인기있는 주제는 무엇일지 분석해보겠다."
      ]
    },
    {
      "cell_type": "code",
      "metadata": {
        "id": "mvAerjvHf-HN",
        "colab_type": "code",
        "colab": {
          "base_uri": "https://localhost:8080/",
          "height": 419
        },
        "outputId": "722ae337-d17d-4864-d6c9-984b514671a7"
      },
      "source": [
        "#최근 1년간의 데이터 분류\n",
        "recent=news[news['timedelta']<366]\n",
        "recent"
      ],
      "execution_count": null,
      "outputs": [
        {
          "output_type": "execute_result",
          "data": {
            "text/html": [
              "<div>\n",
              "<style scoped>\n",
              "    .dataframe tbody tr th:only-of-type {\n",
              "        vertical-align: middle;\n",
              "    }\n",
              "\n",
              "    .dataframe tbody tr th {\n",
              "        vertical-align: top;\n",
              "    }\n",
              "\n",
              "    .dataframe thead th {\n",
              "        text-align: right;\n",
              "    }\n",
              "</style>\n",
              "<table border=\"1\" class=\"dataframe\">\n",
              "  <thead>\n",
              "    <tr style=\"text-align: right;\">\n",
              "      <th></th>\n",
              "      <th>url</th>\n",
              "      <th>timedelta</th>\n",
              "      <th>num_visual</th>\n",
              "      <th>rate_positive_words</th>\n",
              "      <th>rate_negative_words</th>\n",
              "      <th>days</th>\n",
              "      <th>topics</th>\n",
              "      <th>shares</th>\n",
              "    </tr>\n",
              "  </thead>\n",
              "  <tbody>\n",
              "    <tr>\n",
              "      <th>18511</th>\n",
              "      <td>http://mashable.com/2014/01/07/yahoo-acquires-...</td>\n",
              "      <td>365.0</td>\n",
              "      <td>1.0</td>\n",
              "      <td>0.769231</td>\n",
              "      <td>0.230769</td>\n",
              "      <td>Wed</td>\n",
              "      <td>buss</td>\n",
              "      <td>3600</td>\n",
              "    </tr>\n",
              "    <tr>\n",
              "      <th>18513</th>\n",
              "      <td>http://mashable.com/2014/01/08/5-leadership-sk...</td>\n",
              "      <td>365.0</td>\n",
              "      <td>2.0</td>\n",
              "      <td>0.714286</td>\n",
              "      <td>0.285714</td>\n",
              "      <td>Wed</td>\n",
              "      <td>world</td>\n",
              "      <td>679</td>\n",
              "    </tr>\n",
              "    <tr>\n",
              "      <th>18515</th>\n",
              "      <td>http://mashable.com/2014/01/08/antares-rocket-...</td>\n",
              "      <td>365.0</td>\n",
              "      <td>1.0</td>\n",
              "      <td>0.521739</td>\n",
              "      <td>0.478261</td>\n",
              "      <td>Wed</td>\n",
              "      <td>ent</td>\n",
              "      <td>712</td>\n",
              "    </tr>\n",
              "    <tr>\n",
              "      <th>18516</th>\n",
              "      <td>http://mashable.com/2014/01/08/benjamin-bunny-...</td>\n",
              "      <td>365.0</td>\n",
              "      <td>1.0</td>\n",
              "      <td>0.600000</td>\n",
              "      <td>0.400000</td>\n",
              "      <td>Wed</td>\n",
              "      <td>buss</td>\n",
              "      <td>2000</td>\n",
              "    </tr>\n",
              "    <tr>\n",
              "      <th>18518</th>\n",
              "      <td>http://mashable.com/2014/01/08/burning-man-201...</td>\n",
              "      <td>365.0</td>\n",
              "      <td>9.0</td>\n",
              "      <td>0.750000</td>\n",
              "      <td>0.250000</td>\n",
              "      <td>Wed</td>\n",
              "      <td>tech</td>\n",
              "      <td>1200</td>\n",
              "    </tr>\n",
              "    <tr>\n",
              "      <th>...</th>\n",
              "      <td>...</td>\n",
              "      <td>...</td>\n",
              "      <td>...</td>\n",
              "      <td>...</td>\n",
              "      <td>...</td>\n",
              "      <td>...</td>\n",
              "      <td>...</td>\n",
              "      <td>...</td>\n",
              "    </tr>\n",
              "    <tr>\n",
              "      <th>39638</th>\n",
              "      <td>http://mashable.com/2014/12/27/protests-contin...</td>\n",
              "      <td>8.0</td>\n",
              "      <td>1.0</td>\n",
              "      <td>0.875000</td>\n",
              "      <td>0.125000</td>\n",
              "      <td>Wed</td>\n",
              "      <td>buss</td>\n",
              "      <td>1200</td>\n",
              "    </tr>\n",
              "    <tr>\n",
              "      <th>39639</th>\n",
              "      <td>http://mashable.com/2014/12/27/samsung-app-aut...</td>\n",
              "      <td>8.0</td>\n",
              "      <td>2.0</td>\n",
              "      <td>0.722222</td>\n",
              "      <td>0.277778</td>\n",
              "      <td>Wed</td>\n",
              "      <td>tech</td>\n",
              "      <td>1800</td>\n",
              "    </tr>\n",
              "    <tr>\n",
              "      <th>39640</th>\n",
              "      <td>http://mashable.com/2014/12/27/seth-rogen-jame...</td>\n",
              "      <td>8.0</td>\n",
              "      <td>51.0</td>\n",
              "      <td>0.812500</td>\n",
              "      <td>0.187500</td>\n",
              "      <td>Wed</td>\n",
              "      <td>social</td>\n",
              "      <td>1900</td>\n",
              "    </tr>\n",
              "    <tr>\n",
              "      <th>39642</th>\n",
              "      <td>http://mashable.com/2014/12/27/ukraine-blasts/</td>\n",
              "      <td>8.0</td>\n",
              "      <td>1.0</td>\n",
              "      <td>0.466667</td>\n",
              "      <td>0.533333</td>\n",
              "      <td>Wed</td>\n",
              "      <td>world</td>\n",
              "      <td>1100</td>\n",
              "    </tr>\n",
              "    <tr>\n",
              "      <th>39643</th>\n",
              "      <td>http://mashable.com/2014/12/27/youtube-channel...</td>\n",
              "      <td>8.0</td>\n",
              "      <td>2.0</td>\n",
              "      <td>0.833333</td>\n",
              "      <td>0.166667</td>\n",
              "      <td>Wed</td>\n",
              "      <td>ent</td>\n",
              "      <td>1300</td>\n",
              "    </tr>\n",
              "  </tbody>\n",
              "</table>\n",
              "<p>18030 rows × 8 columns</p>\n",
              "</div>"
            ],
            "text/plain": [
              "                                                     url  ...  shares\n",
              "18511  http://mashable.com/2014/01/07/yahoo-acquires-...  ...    3600\n",
              "18513  http://mashable.com/2014/01/08/5-leadership-sk...  ...     679\n",
              "18515  http://mashable.com/2014/01/08/antares-rocket-...  ...     712\n",
              "18516  http://mashable.com/2014/01/08/benjamin-bunny-...  ...    2000\n",
              "18518  http://mashable.com/2014/01/08/burning-man-201...  ...    1200\n",
              "...                                                  ...  ...     ...\n",
              "39638  http://mashable.com/2014/12/27/protests-contin...  ...    1200\n",
              "39639  http://mashable.com/2014/12/27/samsung-app-aut...  ...    1800\n",
              "39640  http://mashable.com/2014/12/27/seth-rogen-jame...  ...    1900\n",
              "39642     http://mashable.com/2014/12/27/ukraine-blasts/  ...    1100\n",
              "39643  http://mashable.com/2014/12/27/youtube-channel...  ...    1300\n",
              "\n",
              "[18030 rows x 8 columns]"
            ]
          },
          "metadata": {
            "tags": []
          },
          "execution_count": 90
        }
      ]
    },
    {
      "cell_type": "code",
      "metadata": {
        "id": "vH-yw2UggSZX",
        "colab_type": "code",
        "colab": {
          "base_uri": "https://localhost:8080/",
          "height": 297
        },
        "outputId": "d3be43ee-0041-478d-d550-2bb475e91d3b"
      },
      "source": [
        "#기술통계량 확인\n",
        "recent.describe()"
      ],
      "execution_count": null,
      "outputs": [
        {
          "output_type": "execute_result",
          "data": {
            "text/html": [
              "<div>\n",
              "<style scoped>\n",
              "    .dataframe tbody tr th:only-of-type {\n",
              "        vertical-align: middle;\n",
              "    }\n",
              "\n",
              "    .dataframe tbody tr th {\n",
              "        vertical-align: top;\n",
              "    }\n",
              "\n",
              "    .dataframe thead th {\n",
              "        text-align: right;\n",
              "    }\n",
              "</style>\n",
              "<table border=\"1\" class=\"dataframe\">\n",
              "  <thead>\n",
              "    <tr style=\"text-align: right;\">\n",
              "      <th></th>\n",
              "      <th>timedelta</th>\n",
              "      <th>num_visual</th>\n",
              "      <th>rate_positive_words</th>\n",
              "      <th>rate_negative_words</th>\n",
              "      <th>shares</th>\n",
              "    </tr>\n",
              "  </thead>\n",
              "  <tbody>\n",
              "    <tr>\n",
              "      <th>count</th>\n",
              "      <td>18030.000000</td>\n",
              "      <td>18030.000000</td>\n",
              "      <td>18030.000000</td>\n",
              "      <td>18030.000000</td>\n",
              "      <td>18030.000000</td>\n",
              "    </tr>\n",
              "    <tr>\n",
              "      <th>mean</th>\n",
              "      <td>179.708098</td>\n",
              "      <td>5.362951</td>\n",
              "      <td>0.667261</td>\n",
              "      <td>0.306172</td>\n",
              "      <td>2814.535330</td>\n",
              "    </tr>\n",
              "    <tr>\n",
              "      <th>std</th>\n",
              "      <td>100.373538</td>\n",
              "      <td>8.525703</td>\n",
              "      <td>0.183158</td>\n",
              "      <td>0.154768</td>\n",
              "      <td>8104.536973</td>\n",
              "    </tr>\n",
              "    <tr>\n",
              "      <th>min</th>\n",
              "      <td>8.000000</td>\n",
              "      <td>0.000000</td>\n",
              "      <td>0.000000</td>\n",
              "      <td>0.000000</td>\n",
              "      <td>5.000000</td>\n",
              "    </tr>\n",
              "    <tr>\n",
              "      <th>25%</th>\n",
              "      <td>92.000000</td>\n",
              "      <td>1.000000</td>\n",
              "      <td>0.583333</td>\n",
              "      <td>0.200000</td>\n",
              "      <td>941.250000</td>\n",
              "    </tr>\n",
              "    <tr>\n",
              "      <th>50%</th>\n",
              "      <td>176.000000</td>\n",
              "      <td>2.000000</td>\n",
              "      <td>0.692308</td>\n",
              "      <td>0.298246</td>\n",
              "      <td>1400.000000</td>\n",
              "    </tr>\n",
              "    <tr>\n",
              "      <th>75%</th>\n",
              "      <td>264.000000</td>\n",
              "      <td>5.000000</td>\n",
              "      <td>0.785714</td>\n",
              "      <td>0.400000</td>\n",
              "      <td>2400.000000</td>\n",
              "    </tr>\n",
              "    <tr>\n",
              "      <th>max</th>\n",
              "      <td>365.000000</td>\n",
              "      <td>140.000000</td>\n",
              "      <td>1.000000</td>\n",
              "      <td>1.000000</td>\n",
              "      <td>663600.000000</td>\n",
              "    </tr>\n",
              "  </tbody>\n",
              "</table>\n",
              "</div>"
            ],
            "text/plain": [
              "          timedelta    num_visual  ...  rate_negative_words         shares\n",
              "count  18030.000000  18030.000000  ...         18030.000000   18030.000000\n",
              "mean     179.708098      5.362951  ...             0.306172    2814.535330\n",
              "std      100.373538      8.525703  ...             0.154768    8104.536973\n",
              "min        8.000000      0.000000  ...             0.000000       5.000000\n",
              "25%       92.000000      1.000000  ...             0.200000     941.250000\n",
              "50%      176.000000      2.000000  ...             0.298246    1400.000000\n",
              "75%      264.000000      5.000000  ...             0.400000    2400.000000\n",
              "max      365.000000    140.000000  ...             1.000000  663600.000000\n",
              "\n",
              "[8 rows x 5 columns]"
            ]
          },
          "metadata": {
            "tags": []
          },
          "execution_count": 91
        }
      ]
    },
    {
      "cell_type": "code",
      "metadata": {
        "id": "m9WxUYZDgj5A",
        "colab_type": "code",
        "colab": {
          "base_uri": "https://localhost:8080/",
          "height": 204
        },
        "outputId": "e644ae51-fc76-487e-a6ac-2b9de05c17e0"
      },
      "source": [
        "recent.nlargest(5,'shares')"
      ],
      "execution_count": null,
      "outputs": [
        {
          "output_type": "execute_result",
          "data": {
            "text/html": [
              "<div>\n",
              "<style scoped>\n",
              "    .dataframe tbody tr th:only-of-type {\n",
              "        vertical-align: middle;\n",
              "    }\n",
              "\n",
              "    .dataframe tbody tr th {\n",
              "        vertical-align: top;\n",
              "    }\n",
              "\n",
              "    .dataframe thead th {\n",
              "        text-align: right;\n",
              "    }\n",
              "</style>\n",
              "<table border=\"1\" class=\"dataframe\">\n",
              "  <thead>\n",
              "    <tr style=\"text-align: right;\">\n",
              "      <th></th>\n",
              "      <th>url</th>\n",
              "      <th>timedelta</th>\n",
              "      <th>num_visual</th>\n",
              "      <th>rate_positive_words</th>\n",
              "      <th>rate_negative_words</th>\n",
              "      <th>days</th>\n",
              "      <th>topics</th>\n",
              "      <th>shares</th>\n",
              "    </tr>\n",
              "  </thead>\n",
              "  <tbody>\n",
              "    <tr>\n",
              "      <th>23237</th>\n",
              "      <td>http://mashable.com/2014/04/09/first-100-gilt-...</td>\n",
              "      <td>274.0</td>\n",
              "      <td>2.0</td>\n",
              "      <td>0.613445</td>\n",
              "      <td>0.386555</td>\n",
              "      <td>Wed</td>\n",
              "      <td>tech</td>\n",
              "      <td>663600</td>\n",
              "    </tr>\n",
              "    <tr>\n",
              "      <th>18788</th>\n",
              "      <td>http://mashable.com/2014/01/14/australia-heatw...</td>\n",
              "      <td>359.0</td>\n",
              "      <td>2.0</td>\n",
              "      <td>0.600000</td>\n",
              "      <td>0.400000</td>\n",
              "      <td>Tue</td>\n",
              "      <td>buss</td>\n",
              "      <td>310800</td>\n",
              "    </tr>\n",
              "    <tr>\n",
              "      <th>35256</th>\n",
              "      <td>http://mashable.com/2014/10/22/ebola-cdc-activ...</td>\n",
              "      <td>77.0</td>\n",
              "      <td>1.0</td>\n",
              "      <td>0.857143</td>\n",
              "      <td>0.142857</td>\n",
              "      <td>Thur</td>\n",
              "      <td>world</td>\n",
              "      <td>284700</td>\n",
              "    </tr>\n",
              "    <tr>\n",
              "      <th>23514</th>\n",
              "      <td>http://mashable.com/2014/04/14/travel-tax-refund/</td>\n",
              "      <td>269.0</td>\n",
              "      <td>7.0</td>\n",
              "      <td>0.647059</td>\n",
              "      <td>0.352941</td>\n",
              "      <td>Mon</td>\n",
              "      <td>world</td>\n",
              "      <td>141400</td>\n",
              "    </tr>\n",
              "    <tr>\n",
              "      <th>18850</th>\n",
              "      <td>http://mashable.com/2014/01/15/apple-settles-f...</td>\n",
              "      <td>358.0</td>\n",
              "      <td>1.0</td>\n",
              "      <td>0.714286</td>\n",
              "      <td>0.285714</td>\n",
              "      <td>Wed</td>\n",
              "      <td>buss</td>\n",
              "      <td>139500</td>\n",
              "    </tr>\n",
              "  </tbody>\n",
              "</table>\n",
              "</div>"
            ],
            "text/plain": [
              "                                                     url  ...  shares\n",
              "23237  http://mashable.com/2014/04/09/first-100-gilt-...  ...  663600\n",
              "18788  http://mashable.com/2014/01/14/australia-heatw...  ...  310800\n",
              "35256  http://mashable.com/2014/10/22/ebola-cdc-activ...  ...  284700\n",
              "23514  http://mashable.com/2014/04/14/travel-tax-refund/  ...  141400\n",
              "18850  http://mashable.com/2014/01/15/apple-settles-f...  ...  139500\n",
              "\n",
              "[5 rows x 8 columns]"
            ]
          },
          "metadata": {
            "tags": []
          },
          "execution_count": 92
        }
      ]
    },
    {
      "cell_type": "markdown",
      "metadata": {
        "id": "TtWqw12DgzbH",
        "colab_type": "text"
      },
      "source": [
        "최근 1년간 기사들 중 인기 Top5를 뽑았다.\n",
        "\n",
        "놀랍게도 전체기사 Top5에 있던 기사중 Top2, Top4 두개나 있음을 확인할 수 있었다."
      ]
    },
    {
      "cell_type": "code",
      "metadata": {
        "id": "_Jz8ymL4gXha",
        "colab_type": "code",
        "colab": {
          "base_uri": "https://localhost:8080/",
          "height": 606
        },
        "outputId": "70272ea9-d9ce-4f4a-ef22-2fa659f1ab3c"
      },
      "source": [
        "plt.figure(figsize=(10,10))\n",
        "ax = sns.boxplot(data=recent, x='topics',y='shares',palette='plasma')"
      ],
      "execution_count": null,
      "outputs": [
        {
          "output_type": "display_data",
          "data": {
            "image/png": "[encoded data removed]",
            "text/plain": [
              "<Figure size 720x720 with 1 Axes>"
            ]
          },
          "metadata": {
            "tags": []
          }
        }
      ]
    },
    {
      "cell_type": "markdown",
      "metadata": {
        "id": "GtsfEROxhSfA",
        "colab_type": "text"
      },
      "source": [
        "전체데이터와 마찬가지로 상자그림으로는 확인이 어려워서 통계량을 확인해보았다."
      ]
    },
    {
      "cell_type": "code",
      "metadata": {
        "id": "FCNp-Glsgd2w",
        "colab_type": "code",
        "colab": {
          "base_uri": "https://localhost:8080/",
          "height": 266
        },
        "outputId": "bf6411e2-ce4f-442a-b690-03241617b528"
      },
      "source": [
        "recent.groupby(['topics'])['shares'].agg(['size','mean', 'std', 'min', 'max'])"
      ],
      "execution_count": null,
      "outputs": [
        {
          "output_type": "execute_result",
          "data": {
            "text/html": [
              "<div>\n",
              "<style scoped>\n",
              "    .dataframe tbody tr th:only-of-type {\n",
              "        vertical-align: middle;\n",
              "    }\n",
              "\n",
              "    .dataframe tbody tr th {\n",
              "        vertical-align: top;\n",
              "    }\n",
              "\n",
              "    .dataframe thead th {\n",
              "        text-align: right;\n",
              "    }\n",
              "</style>\n",
              "<table border=\"1\" class=\"dataframe\">\n",
              "  <thead>\n",
              "    <tr style=\"text-align: right;\">\n",
              "      <th></th>\n",
              "      <th>size</th>\n",
              "      <th>mean</th>\n",
              "      <th>std</th>\n",
              "      <th>min</th>\n",
              "      <th>max</th>\n",
              "    </tr>\n",
              "    <tr>\n",
              "      <th>topics</th>\n",
              "      <th></th>\n",
              "      <th></th>\n",
              "      <th></th>\n",
              "      <th></th>\n",
              "      <th></th>\n",
              "    </tr>\n",
              "  </thead>\n",
              "  <tbody>\n",
              "    <tr>\n",
              "      <th>buss</th>\n",
              "      <td>3000</td>\n",
              "      <td>2971.665667</td>\n",
              "      <td>8209.614337</td>\n",
              "      <td>22</td>\n",
              "      <td>310800</td>\n",
              "    </tr>\n",
              "    <tr>\n",
              "      <th>ent</th>\n",
              "      <td>4152</td>\n",
              "      <td>2929.399085</td>\n",
              "      <td>7132.867481</td>\n",
              "      <td>49</td>\n",
              "      <td>112600</td>\n",
              "    </tr>\n",
              "    <tr>\n",
              "      <th>life</th>\n",
              "      <td>895</td>\n",
              "      <td>3468.389944</td>\n",
              "      <td>4893.285878</td>\n",
              "      <td>28</td>\n",
              "      <td>45100</td>\n",
              "    </tr>\n",
              "    <tr>\n",
              "      <th>social</th>\n",
              "      <td>937</td>\n",
              "      <td>3344.878335</td>\n",
              "      <td>4218.516631</td>\n",
              "      <td>5</td>\n",
              "      <td>47700</td>\n",
              "    </tr>\n",
              "    <tr>\n",
              "      <th>tech</th>\n",
              "      <td>3300</td>\n",
              "      <td>3184.303939</td>\n",
              "      <td>12321.715758</td>\n",
              "      <td>36</td>\n",
              "      <td>663600</td>\n",
              "    </tr>\n",
              "    <tr>\n",
              "      <th>world</th>\n",
              "      <td>5746</td>\n",
              "      <td>2248.807344</td>\n",
              "      <td>6312.028339</td>\n",
              "      <td>35</td>\n",
              "      <td>284700</td>\n",
              "    </tr>\n",
              "  </tbody>\n",
              "</table>\n",
              "</div>"
            ],
            "text/plain": [
              "        size         mean           std  min     max\n",
              "topics                                              \n",
              "buss    3000  2971.665667   8209.614337   22  310800\n",
              "ent     4152  2929.399085   7132.867481   49  112600\n",
              "life     895  3468.389944   4893.285878   28   45100\n",
              "social   937  3344.878335   4218.516631    5   47700\n",
              "tech    3300  3184.303939  12321.715758   36  663600\n",
              "world   5746  2248.807344   6312.028339   35  284700"
            ]
          },
          "metadata": {
            "tags": []
          },
          "execution_count": 94
        }
      ]
    },
    {
      "cell_type": "markdown",
      "metadata": {
        "id": "qUmboA4RifWM",
        "colab_type": "text"
      },
      "source": [
        "최근 1년간 기사 주제의 가장 큰 비중을 차지한 것은 World, Entertainment, Tech, Business, Social media, Lifestyle 순이었다."
      ]
    },
    {
      "cell_type": "code",
      "metadata": {
        "id": "zKb8CVIxhaEc",
        "colab_type": "code",
        "colab": {
          "base_uri": "https://localhost:8080/",
          "height": 297
        },
        "outputId": "97b7e9cf-b004-46c1-e354-16c353b0add5"
      },
      "source": [
        "recent.pivot_table(index='topics', values='shares', aggfunc='mean', margins= True, margins_name= 'Total')"
      ],
      "execution_count": null,
      "outputs": [
        {
          "output_type": "execute_result",
          "data": {
            "text/html": [
              "<div>\n",
              "<style scoped>\n",
              "    .dataframe tbody tr th:only-of-type {\n",
              "        vertical-align: middle;\n",
              "    }\n",
              "\n",
              "    .dataframe tbody tr th {\n",
              "        vertical-align: top;\n",
              "    }\n",
              "\n",
              "    .dataframe thead th {\n",
              "        text-align: right;\n",
              "    }\n",
              "</style>\n",
              "<table border=\"1\" class=\"dataframe\">\n",
              "  <thead>\n",
              "    <tr style=\"text-align: right;\">\n",
              "      <th></th>\n",
              "      <th>shares</th>\n",
              "    </tr>\n",
              "    <tr>\n",
              "      <th>topics</th>\n",
              "      <th></th>\n",
              "    </tr>\n",
              "  </thead>\n",
              "  <tbody>\n",
              "    <tr>\n",
              "      <th>buss</th>\n",
              "      <td>2971.665667</td>\n",
              "    </tr>\n",
              "    <tr>\n",
              "      <th>ent</th>\n",
              "      <td>2929.399085</td>\n",
              "    </tr>\n",
              "    <tr>\n",
              "      <th>life</th>\n",
              "      <td>3468.389944</td>\n",
              "    </tr>\n",
              "    <tr>\n",
              "      <th>social</th>\n",
              "      <td>3344.878335</td>\n",
              "    </tr>\n",
              "    <tr>\n",
              "      <th>tech</th>\n",
              "      <td>3184.303939</td>\n",
              "    </tr>\n",
              "    <tr>\n",
              "      <th>world</th>\n",
              "      <td>2248.807344</td>\n",
              "    </tr>\n",
              "    <tr>\n",
              "      <th>Total</th>\n",
              "      <td>2814.535330</td>\n",
              "    </tr>\n",
              "  </tbody>\n",
              "</table>\n",
              "</div>"
            ],
            "text/plain": [
              "             shares\n",
              "topics             \n",
              "buss    2971.665667\n",
              "ent     2929.399085\n",
              "life    3468.389944\n",
              "social  3344.878335\n",
              "tech    3184.303939\n",
              "world   2248.807344\n",
              "Total   2814.535330"
            ]
          },
          "metadata": {
            "tags": []
          },
          "execution_count": 95
        }
      ]
    },
    {
      "cell_type": "markdown",
      "metadata": {
        "id": "8-NT7FhEiy_g",
        "colab_type": "text"
      },
      "source": [
        "기사 공유 횟수의 평균만을 보았을 때 평균적으로 가장 많이 공유된 기사 주제는 Lifestyle, Social media, Tech, Business, Entertainment, World 였다.\n",
        "\n",
        "전체 데이터 분석과 동일하게 평균의 차이가 통계적으로 의미가 있는지 분산분석을 진행하였다."
      ]
    },
    {
      "cell_type": "code",
      "metadata": {
        "id": "fdWFZlJrheea",
        "colab_type": "code",
        "colab": {
          "base_uri": "https://localhost:8080/",
          "height": 282
        },
        "outputId": "d0776576-feb1-4284-aba4-35e975c1fe82"
      },
      "source": [
        "buss = recent[recent['topics']== 'buss']\n",
        "ent = recent[recent['topics']== 'ent']\n",
        "life = recent[recent['topics']== 'life']\n",
        "social = recent[recent['topics']== 'social']\n",
        "tech = recent[recent['topics']== 'tech']\n",
        "world = recent[recent['topics']== 'world']\n",
        "\n",
        "gp1 = buss['shares']\n",
        "gp2 = ent['shares']\n",
        "gp3= life['shares']\n",
        "gp4= social['shares']\n",
        "gp5= tech['shares']\n",
        "gp6= world['shares']\n",
        "\n",
        "\n",
        "print(len(gp1),len(gp2),len(gp3),len(gp4),len(gp5),len(gp6))\n",
        "\n",
        "plot_data = [gp1, gp2, gp3,gp4,gp5,gp6]\n",
        "ax = plt.boxplot(plot_data)\n",
        "plt.show()"
      ],
      "execution_count": null,
      "outputs": [
        {
          "output_type": "stream",
          "text": [
            "3000 4152 895 937 3300 5746\n"
          ],
          "name": "stdout"
        },
        {
          "output_type": "display_data",
          "data": {
            "image/png": "[encoded data removed]",
            "text/plain": [
              "<Figure size 432x288 with 1 Axes>"
            ]
          },
          "metadata": {
            "tags": []
          }
        }
      ]
    },
    {
      "cell_type": "markdown",
      "metadata": {
        "id": "nxHzm_hljeu-",
        "colab_type": "text"
      },
      "source": [
        "그래프상으로는 평균의 차이를 가늠하기 어려웠다."
      ]
    },
    {
      "cell_type": "code",
      "metadata": {
        "id": "yU9GW5zdhrfd",
        "colab_type": "code",
        "colab": {
          "base_uri": "https://localhost:8080/",
          "height": 153
        },
        "outputId": "a506bf6d-489a-464f-8162-3422f5473410"
      },
      "source": [
        "#정규성 검정\n",
        "print(stats.shapiro(gp1))\n",
        "print(stats.shapiro(gp2))\n",
        "print(stats.shapiro(gp3))\n",
        "print(stats.shapiro(gp4))\n",
        "print(stats.shapiro(gp5))\n",
        "print(stats.shapiro(gp6))"
      ],
      "execution_count": null,
      "outputs": [
        {
          "output_type": "stream",
          "text": [
            "(0.19330668449401855, 0.0)\n",
            "(0.3001044988632202, 0.0)\n",
            "(0.5564579367637634, 1.1700842177112223e-42)\n",
            "(0.5248554944992065, 1.8216880036222622e-44)\n",
            "(0.08494752645492554, 0.0)\n",
            "(0.18743222951889038, 0.0)\n"
          ],
          "name": "stdout"
        },
        {
          "output_type": "stream",
          "text": [
            "/usr/local/lib/python3.6/dist-packages/scipy/stats/morestats.py:1660: UserWarning: p-value may not be accurate for N > 5000.\n",
            "  warnings.warn(\"p-value may not be accurate for N > 5000.\")\n"
          ],
          "name": "stderr"
        }
      ]
    },
    {
      "cell_type": "code",
      "metadata": {
        "id": "JrU7goATiF0j",
        "colab_type": "code",
        "colab": {
          "base_uri": "https://localhost:8080/",
          "height": 279
        },
        "outputId": "5f7b7921-7915-4779-80f8-b684c2816583"
      },
      "source": [
        "ax = sns.distplot(gp1, kde=False, fit=stats.norm, label=\"gr1\")\n",
        "ax = sns.distplot(gp2, kde=False, fit=stats.norm, label=\"gr2\")\n",
        "ax = sns.distplot(gp3, kde=False, fit=stats.norm, label=\"gr3\")\n",
        "ax = sns.distplot(gp4, kde=False, fit=stats.norm, label=\"gr4\")\n",
        "ax = sns.distplot(gp5, kde=False, fit=stats.norm, label=\"gr5\")\n",
        "ax = sns.distplot(gp6, kde=False, fit=stats.norm, label=\"gr6\")\n",
        "\n",
        "ax.lines[0].set_linestyle(\":\")\n",
        "plt.legend()\n",
        "plt.show()"
      ],
      "execution_count": null,
      "outputs": [
        {
          "output_type": "display_data",
          "data": {
            "image/png": "[encoded data removed]",
            "text/plain": [
              "<Figure size 432x288 with 1 Axes>"
            ]
          },
          "metadata": {
            "tags": []
          }
        }
      ]
    },
    {
      "cell_type": "markdown",
      "metadata": {
        "id": "CBwFMoiBjjvQ",
        "colab_type": "text"
      },
      "source": [
        "정규성 검정 결과 p-value<0.05 이므로 정규성이 깨졌다.\n",
        "\n",
        "Kruskal-Wallis Rank Sum Test를 진행했다."
      ]
    },
    {
      "cell_type": "code",
      "metadata": {
        "id": "bCbY0uloiMJM",
        "colab_type": "code",
        "colab": {
          "base_uri": "https://localhost:8080/",
          "height": 34
        },
        "outputId": "26badc07-a147-4909-c09c-abab76bef12d"
      },
      "source": [
        "#Kruskal-Wallis Rank Sum Test\n",
        "print(stats.kruskal(gp1,gp2,gp3,gp4,gp5,gp6))"
      ],
      "execution_count": null,
      "outputs": [
        {
          "output_type": "stream",
          "text": [
            "KruskalResult(statistic=1451.7406958325819, pvalue=8.45401199948e-312)\n"
          ],
          "name": "stdout"
        }
      ]
    },
    {
      "cell_type": "code",
      "metadata": {
        "id": "53FySFb3iSvs",
        "colab_type": "code",
        "colab": {
          "base_uri": "https://localhost:8080/",
          "height": 51
        },
        "outputId": "cbddbdba-f082-4ba8-e1b8-a3dde7f02eec"
      },
      "source": [
        "F_statistic, pVal =  stats.kruskal(gp1, gp2, gp3, gp4,gp5,gp6)\n",
        "\n",
        "print('데이터의 비모수적 일원분산분석 결과 : F={0:.1f}, p={1:.5f}'.format(F_statistic, pVal))\n",
        "if pVal < 0.05:\n",
        "    print('P-value 값이 충분히 작음으로 인해 그룹의 평균값이 통계적으로 유의미하게 차이납니다.')"
      ],
      "execution_count": null,
      "outputs": [
        {
          "output_type": "stream",
          "text": [
            "데이터의 비모수적 일원분산분석 결과 : F=1451.7, p=0.00000\n",
            "P-value 값이 충분히 작음으로 인해 그룹의 평균값이 통계적으로 유의미하게 차이납니다.\n"
          ],
          "name": "stdout"
        }
      ]
    },
    {
      "cell_type": "markdown",
      "metadata": {
        "id": "1Q70kQ2jjtWU",
        "colab_type": "text"
      },
      "source": [
        "분석결과 통계적으로 의미가 있기 때문에 전체데이터 분석때와 동일하게 최근 1년간의 기사 주제중 가장 인기 있는 주제는 Lifestyle 이라고 볼 수있다."
      ]
    },
    {
      "cell_type": "markdown",
      "metadata": {
        "id": "ixuoO_dWkBBA",
        "colab_type": "text"
      },
      "source": [
        "**따라서 전반적인 인기있는 기사 주제는 Lifestyle, Social Media, Tech, Business, Entertainment, World 순이었고**\n",
        "\n",
        "**최근 1년간 인기있는 기사 주제는 Lifestyle, Social media, Tech, Business, Entertainment, World 순으로 정확하게 일치했다.**"
      ]
    },
    {
      "cell_type": "markdown",
      "metadata": {
        "id": "_AW0HUHikeLF",
        "colab_type": "text"
      },
      "source": [
        "\n",
        "\n",
        "\n",
        "\n",
        "> +α. 과연 'Mashable'은 초기 1년의 성과보다 최근 1년의 성과가 좋을 것인가?\n",
        "\n",
        "\n",
        "\n"
      ]
    },
    {
      "cell_type": "markdown",
      "metadata": {
        "id": "g-OEas4DmKyX",
        "colab_type": "text"
      },
      "source": [
        "최근 1년 기사 공유 횟수의 평균과 초기 1년 기사 공유 횟수의 평균을 비교하겠다.\n",
        "\n",
        "H0: 두 집단의 평균은 차이가 없다. H1: 두 집단의 평균은 차이가 있다."
      ]
    },
    {
      "cell_type": "code",
      "metadata": {
        "id": "jFhqiWh7lZJ4",
        "colab_type": "code",
        "colab": {
          "base_uri": "https://localhost:8080/",
          "height": 204
        },
        "outputId": "af95e8a7-0547-4df9-9cf6-5201b3fe01f6"
      },
      "source": [
        "news.nlargest(5,'timedelta')"
      ],
      "execution_count": null,
      "outputs": [
        {
          "output_type": "execute_result",
          "data": {
            "text/html": [
              "<div>\n",
              "<style scoped>\n",
              "    .dataframe tbody tr th:only-of-type {\n",
              "        vertical-align: middle;\n",
              "    }\n",
              "\n",
              "    .dataframe tbody tr th {\n",
              "        vertical-align: top;\n",
              "    }\n",
              "\n",
              "    .dataframe thead th {\n",
              "        text-align: right;\n",
              "    }\n",
              "</style>\n",
              "<table border=\"1\" class=\"dataframe\">\n",
              "  <thead>\n",
              "    <tr style=\"text-align: right;\">\n",
              "      <th></th>\n",
              "      <th>url</th>\n",
              "      <th>timedelta</th>\n",
              "      <th>num_visual</th>\n",
              "      <th>rate_positive_words</th>\n",
              "      <th>rate_negative_words</th>\n",
              "      <th>days</th>\n",
              "      <th>topics</th>\n",
              "      <th>shares</th>\n",
              "    </tr>\n",
              "  </thead>\n",
              "  <tbody>\n",
              "    <tr>\n",
              "      <th>0</th>\n",
              "      <td>http://mashable.com/2013/01/07/amazon-instant-...</td>\n",
              "      <td>731.0</td>\n",
              "      <td>1.0</td>\n",
              "      <td>0.769231</td>\n",
              "      <td>0.230769</td>\n",
              "      <td>Mon</td>\n",
              "      <td>ent</td>\n",
              "      <td>593</td>\n",
              "    </tr>\n",
              "    <tr>\n",
              "      <th>1</th>\n",
              "      <td>http://mashable.com/2013/01/07/ap-samsung-spon...</td>\n",
              "      <td>731.0</td>\n",
              "      <td>1.0</td>\n",
              "      <td>0.733333</td>\n",
              "      <td>0.266667</td>\n",
              "      <td>Mon</td>\n",
              "      <td>buss</td>\n",
              "      <td>711</td>\n",
              "    </tr>\n",
              "    <tr>\n",
              "      <th>2</th>\n",
              "      <td>http://mashable.com/2013/01/07/apple-40-billio...</td>\n",
              "      <td>731.0</td>\n",
              "      <td>1.0</td>\n",
              "      <td>0.857143</td>\n",
              "      <td>0.142857</td>\n",
              "      <td>Mon</td>\n",
              "      <td>buss</td>\n",
              "      <td>1500</td>\n",
              "    </tr>\n",
              "    <tr>\n",
              "      <th>3</th>\n",
              "      <td>http://mashable.com/2013/01/07/astronaut-notre...</td>\n",
              "      <td>731.0</td>\n",
              "      <td>1.0</td>\n",
              "      <td>0.666667</td>\n",
              "      <td>0.333333</td>\n",
              "      <td>Mon</td>\n",
              "      <td>ent</td>\n",
              "      <td>1200</td>\n",
              "    </tr>\n",
              "    <tr>\n",
              "      <th>4</th>\n",
              "      <td>http://mashable.com/2013/01/07/att-u-verse-apps/</td>\n",
              "      <td>731.0</td>\n",
              "      <td>20.0</td>\n",
              "      <td>0.860215</td>\n",
              "      <td>0.139785</td>\n",
              "      <td>Mon</td>\n",
              "      <td>tech</td>\n",
              "      <td>505</td>\n",
              "    </tr>\n",
              "  </tbody>\n",
              "</table>\n",
              "</div>"
            ],
            "text/plain": [
              "                                                 url  timedelta  ...  topics  shares\n",
              "0  http://mashable.com/2013/01/07/amazon-instant-...      731.0  ...     ent     593\n",
              "1  http://mashable.com/2013/01/07/ap-samsung-spon...      731.0  ...    buss     711\n",
              "2  http://mashable.com/2013/01/07/apple-40-billio...      731.0  ...    buss    1500\n",
              "3  http://mashable.com/2013/01/07/astronaut-notre...      731.0  ...     ent    1200\n",
              "4   http://mashable.com/2013/01/07/att-u-verse-apps/      731.0  ...    tech     505\n",
              "\n",
              "[5 rows x 8 columns]"
            ]
          },
          "metadata": {
            "tags": []
          },
          "execution_count": 101
        }
      ]
    },
    {
      "cell_type": "code",
      "metadata": {
        "id": "l9OBbcGXiZmZ",
        "colab_type": "code",
        "colab": {
          "base_uri": "https://localhost:8080/",
          "height": 419
        },
        "outputId": "79e783eb-7aa7-4266-da89-3d16f1ce5428"
      },
      "source": [
        "old=news[news['timedelta']>365]\n",
        "old"
      ],
      "execution_count": null,
      "outputs": [
        {
          "output_type": "execute_result",
          "data": {
            "text/html": [
              "<div>\n",
              "<style scoped>\n",
              "    .dataframe tbody tr th:only-of-type {\n",
              "        vertical-align: middle;\n",
              "    }\n",
              "\n",
              "    .dataframe tbody tr th {\n",
              "        vertical-align: top;\n",
              "    }\n",
              "\n",
              "    .dataframe thead th {\n",
              "        text-align: right;\n",
              "    }\n",
              "</style>\n",
              "<table border=\"1\" class=\"dataframe\">\n",
              "  <thead>\n",
              "    <tr style=\"text-align: right;\">\n",
              "      <th></th>\n",
              "      <th>url</th>\n",
              "      <th>timedelta</th>\n",
              "      <th>num_visual</th>\n",
              "      <th>rate_positive_words</th>\n",
              "      <th>rate_negative_words</th>\n",
              "      <th>days</th>\n",
              "      <th>topics</th>\n",
              "      <th>shares</th>\n",
              "    </tr>\n",
              "  </thead>\n",
              "  <tbody>\n",
              "    <tr>\n",
              "      <th>0</th>\n",
              "      <td>http://mashable.com/2013/01/07/amazon-instant-...</td>\n",
              "      <td>731.0</td>\n",
              "      <td>1.0</td>\n",
              "      <td>0.769231</td>\n",
              "      <td>0.230769</td>\n",
              "      <td>Mon</td>\n",
              "      <td>ent</td>\n",
              "      <td>593</td>\n",
              "    </tr>\n",
              "    <tr>\n",
              "      <th>1</th>\n",
              "      <td>http://mashable.com/2013/01/07/ap-samsung-spon...</td>\n",
              "      <td>731.0</td>\n",
              "      <td>1.0</td>\n",
              "      <td>0.733333</td>\n",
              "      <td>0.266667</td>\n",
              "      <td>Mon</td>\n",
              "      <td>buss</td>\n",
              "      <td>711</td>\n",
              "    </tr>\n",
              "    <tr>\n",
              "      <th>2</th>\n",
              "      <td>http://mashable.com/2013/01/07/apple-40-billio...</td>\n",
              "      <td>731.0</td>\n",
              "      <td>1.0</td>\n",
              "      <td>0.857143</td>\n",
              "      <td>0.142857</td>\n",
              "      <td>Mon</td>\n",
              "      <td>buss</td>\n",
              "      <td>1500</td>\n",
              "    </tr>\n",
              "    <tr>\n",
              "      <th>3</th>\n",
              "      <td>http://mashable.com/2013/01/07/astronaut-notre...</td>\n",
              "      <td>731.0</td>\n",
              "      <td>1.0</td>\n",
              "      <td>0.666667</td>\n",
              "      <td>0.333333</td>\n",
              "      <td>Mon</td>\n",
              "      <td>ent</td>\n",
              "      <td>1200</td>\n",
              "    </tr>\n",
              "    <tr>\n",
              "      <th>4</th>\n",
              "      <td>http://mashable.com/2013/01/07/att-u-verse-apps/</td>\n",
              "      <td>731.0</td>\n",
              "      <td>20.0</td>\n",
              "      <td>0.860215</td>\n",
              "      <td>0.139785</td>\n",
              "      <td>Mon</td>\n",
              "      <td>tech</td>\n",
              "      <td>505</td>\n",
              "    </tr>\n",
              "    <tr>\n",
              "      <th>...</th>\n",
              "      <td>...</td>\n",
              "      <td>...</td>\n",
              "      <td>...</td>\n",
              "      <td>...</td>\n",
              "      <td>...</td>\n",
              "      <td>...</td>\n",
              "      <td>...</td>\n",
              "      <td>...</td>\n",
              "    </tr>\n",
              "    <tr>\n",
              "      <th>18506</th>\n",
              "      <td>http://mashable.com/2014/01/07/t-mobile-ceo-jo...</td>\n",
              "      <td>366.0</td>\n",
              "      <td>1.0</td>\n",
              "      <td>0.666667</td>\n",
              "      <td>0.333333</td>\n",
              "      <td>Tue</td>\n",
              "      <td>ent</td>\n",
              "      <td>12900</td>\n",
              "    </tr>\n",
              "    <tr>\n",
              "      <th>18507</th>\n",
              "      <td>http://mashable.com/2014/01/07/the-gap-mannequ...</td>\n",
              "      <td>366.0</td>\n",
              "      <td>0.0</td>\n",
              "      <td>0.666667</td>\n",
              "      <td>0.333333</td>\n",
              "      <td>Tue</td>\n",
              "      <td>world</td>\n",
              "      <td>9800</td>\n",
              "    </tr>\n",
              "    <tr>\n",
              "      <th>18508</th>\n",
              "      <td>http://mashable.com/2014/01/07/vinyl-comeback/</td>\n",
              "      <td>366.0</td>\n",
              "      <td>18.0</td>\n",
              "      <td>0.705882</td>\n",
              "      <td>0.294118</td>\n",
              "      <td>Tue</td>\n",
              "      <td>tech</td>\n",
              "      <td>7800</td>\n",
              "    </tr>\n",
              "    <tr>\n",
              "      <th>18509</th>\n",
              "      <td>http://mashable.com/2014/01/07/viral-photo-fro...</td>\n",
              "      <td>366.0</td>\n",
              "      <td>12.0</td>\n",
              "      <td>0.807229</td>\n",
              "      <td>0.192771</td>\n",
              "      <td>Tue</td>\n",
              "      <td>buss</td>\n",
              "      <td>1300</td>\n",
              "    </tr>\n",
              "    <tr>\n",
              "      <th>18510</th>\n",
              "      <td>http://mashable.com/2014/01/07/whirlpool-cooki...</td>\n",
              "      <td>366.0</td>\n",
              "      <td>13.0</td>\n",
              "      <td>0.852941</td>\n",
              "      <td>0.147059</td>\n",
              "      <td>Tue</td>\n",
              "      <td>buss</td>\n",
              "      <td>900</td>\n",
              "    </tr>\n",
              "  </tbody>\n",
              "</table>\n",
              "<p>15480 rows × 8 columns</p>\n",
              "</div>"
            ],
            "text/plain": [
              "                                                     url  ...  shares\n",
              "0      http://mashable.com/2013/01/07/amazon-instant-...  ...     593\n",
              "1      http://mashable.com/2013/01/07/ap-samsung-spon...  ...     711\n",
              "2      http://mashable.com/2013/01/07/apple-40-billio...  ...    1500\n",
              "3      http://mashable.com/2013/01/07/astronaut-notre...  ...    1200\n",
              "4       http://mashable.com/2013/01/07/att-u-verse-apps/  ...     505\n",
              "...                                                  ...  ...     ...\n",
              "18506  http://mashable.com/2014/01/07/t-mobile-ceo-jo...  ...   12900\n",
              "18507  http://mashable.com/2014/01/07/the-gap-mannequ...  ...    9800\n",
              "18508     http://mashable.com/2014/01/07/vinyl-comeback/  ...    7800\n",
              "18509  http://mashable.com/2014/01/07/viral-photo-fro...  ...    1300\n",
              "18510  http://mashable.com/2014/01/07/whirlpool-cooki...  ...     900\n",
              "\n",
              "[15480 rows x 8 columns]"
            ]
          },
          "metadata": {
            "tags": []
          },
          "execution_count": 102
        }
      ]
    },
    {
      "cell_type": "code",
      "metadata": {
        "id": "38RRrZDTlrZr",
        "colab_type": "code",
        "colab": {
          "base_uri": "https://localhost:8080/",
          "height": 297
        },
        "outputId": "5af4391d-109a-4528-8287-907f4500739d"
      },
      "source": [
        "old.describe()"
      ],
      "execution_count": null,
      "outputs": [
        {
          "output_type": "execute_result",
          "data": {
            "text/html": [
              "<div>\n",
              "<style scoped>\n",
              "    .dataframe tbody tr th:only-of-type {\n",
              "        vertical-align: middle;\n",
              "    }\n",
              "\n",
              "    .dataframe tbody tr th {\n",
              "        vertical-align: top;\n",
              "    }\n",
              "\n",
              "    .dataframe thead th {\n",
              "        text-align: right;\n",
              "    }\n",
              "</style>\n",
              "<table border=\"1\" class=\"dataframe\">\n",
              "  <thead>\n",
              "    <tr style=\"text-align: right;\">\n",
              "      <th></th>\n",
              "      <th>timedelta</th>\n",
              "      <th>num_visual</th>\n",
              "      <th>rate_positive_words</th>\n",
              "      <th>rate_negative_words</th>\n",
              "      <th>shares</th>\n",
              "    </tr>\n",
              "  </thead>\n",
              "  <tbody>\n",
              "    <tr>\n",
              "      <th>count</th>\n",
              "      <td>15480.000000</td>\n",
              "      <td>15480.000000</td>\n",
              "      <td>15480.000000</td>\n",
              "      <td>15480.000000</td>\n",
              "      <td>15480.000000</td>\n",
              "    </tr>\n",
              "    <tr>\n",
              "      <th>mean</th>\n",
              "      <td>555.067636</td>\n",
              "      <td>4.486111</td>\n",
              "      <td>0.728095</td>\n",
              "      <td>0.267835</td>\n",
              "      <td>3061.536628</td>\n",
              "    </tr>\n",
              "    <tr>\n",
              "      <th>std</th>\n",
              "      <td>105.684750</td>\n",
              "      <td>8.292745</td>\n",
              "      <td>0.149279</td>\n",
              "      <td>0.142867</td>\n",
              "      <td>10845.547049</td>\n",
              "    </tr>\n",
              "    <tr>\n",
              "      <th>min</th>\n",
              "      <td>366.000000</td>\n",
              "      <td>0.000000</td>\n",
              "      <td>0.000000</td>\n",
              "      <td>0.000000</td>\n",
              "      <td>1.000000</td>\n",
              "    </tr>\n",
              "    <tr>\n",
              "      <th>25%</th>\n",
              "      <td>464.000000</td>\n",
              "      <td>1.000000</td>\n",
              "      <td>0.647059</td>\n",
              "      <td>0.173802</td>\n",
              "      <td>913.000000</td>\n",
              "    </tr>\n",
              "    <tr>\n",
              "      <th>50%</th>\n",
              "      <td>557.000000</td>\n",
              "      <td>1.000000</td>\n",
              "      <td>0.740741</td>\n",
              "      <td>0.257143</td>\n",
              "      <td>1400.000000</td>\n",
              "    </tr>\n",
              "    <tr>\n",
              "      <th>75%</th>\n",
              "      <td>647.000000</td>\n",
              "      <td>2.000000</td>\n",
              "      <td>0.825000</td>\n",
              "      <td>0.351351</td>\n",
              "      <td>2700.000000</td>\n",
              "    </tr>\n",
              "    <tr>\n",
              "      <th>max</th>\n",
              "      <td>731.000000</td>\n",
              "      <td>103.000000</td>\n",
              "      <td>1.000000</td>\n",
              "      <td>1.000000</td>\n",
              "      <td>690400.000000</td>\n",
              "    </tr>\n",
              "  </tbody>\n",
              "</table>\n",
              "</div>"
            ],
            "text/plain": [
              "          timedelta    num_visual  ...  rate_negative_words         shares\n",
              "count  15480.000000  15480.000000  ...         15480.000000   15480.000000\n",
              "mean     555.067636      4.486111  ...             0.267835    3061.536628\n",
              "std      105.684750      8.292745  ...             0.142867   10845.547049\n",
              "min      366.000000      0.000000  ...             0.000000       1.000000\n",
              "25%      464.000000      1.000000  ...             0.173802     913.000000\n",
              "50%      557.000000      1.000000  ...             0.257143    1400.000000\n",
              "75%      647.000000      2.000000  ...             0.351351    2700.000000\n",
              "max      731.000000    103.000000  ...             1.000000  690400.000000\n",
              "\n",
              "[8 rows x 5 columns]"
            ]
          },
          "metadata": {
            "tags": []
          },
          "execution_count": 103
        }
      ]
    },
    {
      "cell_type": "code",
      "metadata": {
        "id": "nwz3I_9ilvJO",
        "colab_type": "code",
        "colab": {
          "base_uri": "https://localhost:8080/",
          "height": 85
        },
        "outputId": "a831867d-56fd-47eb-a778-5f4baa0bf50d"
      },
      "source": [
        "#정규성검정\n",
        "print(stats.shapiro(recent['shares']))\n",
        "print(stats.shapiro(old['shares']))"
      ],
      "execution_count": null,
      "outputs": [
        {
          "output_type": "stream",
          "text": [
            "(0.18025952577590942, 0.0)\n",
            "(0.13735169172286987, 0.0)\n"
          ],
          "name": "stdout"
        },
        {
          "output_type": "stream",
          "text": [
            "/usr/local/lib/python3.6/dist-packages/scipy/stats/morestats.py:1660: UserWarning: p-value may not be accurate for N > 5000.\n",
            "  warnings.warn(\"p-value may not be accurate for N > 5000.\")\n"
          ],
          "name": "stderr"
        }
      ]
    },
    {
      "cell_type": "code",
      "metadata": {
        "id": "GqBwboX_mCJ_",
        "colab_type": "code",
        "colab": {
          "base_uri": "https://localhost:8080/",
          "height": 279
        },
        "outputId": "b675ae72-39fb-4c07-a792-a4b4d41888b4"
      },
      "source": [
        "x = sns.distplot(old['shares'], kde=False, fit=stats.norm, label=\"old\")\n",
        "ax = sns.distplot(recent['shares'], kde=False, fit=stats.norm, label=\"recent\")\n",
        "ax.lines[0].set_linestyle(\":\")\n",
        "plt.legend()\n",
        "plt.show()"
      ],
      "execution_count": null,
      "outputs": [
        {
          "output_type": "display_data",
          "data": {
            "image/png": "[encoded data removed]",
            "text/plain": [
              "<Figure size 432x288 with 1 Axes>"
            ]
          },
          "metadata": {
            "tags": []
          }
        }
      ]
    },
    {
      "cell_type": "markdown",
      "metadata": {
        "id": "dJGWlmxaoR-M",
        "colab_type": "text"
      },
      "source": [
        "p-value<0.05 이므로 정규성을 가정할 수 없다.\n",
        "\n",
        "Wilcoxon's Rank sum test를 진행하겠다."
      ]
    },
    {
      "cell_type": "code",
      "metadata": {
        "id": "7HHGMFZZnRyD",
        "colab_type": "code",
        "colab": {
          "base_uri": "https://localhost:8080/",
          "height": 34
        },
        "outputId": "3d80054d-61ff-4a3b-d5e6-1bc18776437f"
      },
      "source": [
        "#Wilcoxon's Rank sum test\n",
        "print(stats.ranksums(old['shares'],recent['shares']))"
      ],
      "execution_count": null,
      "outputs": [
        {
          "output_type": "stream",
          "text": [
            "RanksumsResult(statistic=1.718488166682333, pvalue=0.08570761101776177)\n"
          ],
          "name": "stdout"
        }
      ]
    },
    {
      "cell_type": "markdown",
      "metadata": {
        "id": "ax-B21YJobsW",
        "colab_type": "text"
      },
      "source": [
        "Wilcoxon's Rank sum Test 결과 p-value>0.05이므로 귀무가설을 기각할 수 없다.\n",
        "\n",
        "**따라서 초기 1년 기사 공유 횟수의 평균과 최근 1년 기사 공유 횟수의 평균은 차이가 있다고 볼 수 없다.**"
      ]
    },
    {
      "cell_type": "markdown",
      "metadata": {
        "id": "dRwBlD20qjYv",
        "colab_type": "text"
      },
      "source": [
        "# **데이터 분석 결과 및 해석, 분석 결과 활용 방안**"
      ]
    },
    {
      "cell_type": "markdown",
      "metadata": {
        "colab_type": "text",
        "id": "UizhbR5Vwzat"
      },
      "source": [
        "Q1 분석결과, 오래된 기사 일수록 기사 공유 횟수가 높게 나타날 가능성이 있다.\n",
        "\n",
        "Q2 분석결과, 기사가 발행된 요일별로 기사 공유 횟수의 차이는 큰 의미가 없다.\n",
        "\n",
        "Q3 분석결과, 기사 내 긍정적인 단어의 사용량이 부정적인 단어의 사용량보다 높으면 기사 공유 횟수의 평균에 차이가 존재하고, 그 평균은 긍정적인 단어 사용량이 높은 그룹이 더 높게 나타났다.\n",
        "\n",
        "Q4 분석결과, 시각적 자료의 개수는 기사 공유 횟수에 영향을 미치긴 하지만 그 영향력의 크기가 매우 작아 크게 의미가 있다고 보긴 어려웠다.\n",
        "\n",
        "Q5 분석결과, 전반적인 데이터와 최근 1년 데이터 모두 가장 인기 있는 기사 주제는 Lifesytle 이었지만 발행된 기사 중 가장 많은 비중을 차지한 기사 주제는 World 였다.\n",
        "\n",
        "+α 분석결과, 초기 1년 기사 공유 횟수와 최근 1년 기사 공유 횟수 평균을 비교한 결과 큰 차이가 없었다."
      ]
    },
    {
      "cell_type": "markdown",
      "metadata": {
        "id": "HT3YOHgwuilW",
        "colab_type": "text"
      },
      "source": [
        "최종 결론은 'Mashable'은 지난 1년과 최근 1년을 비교하였을 때 의미있는 성장을 하지 못했다고 볼 수 있다. \n",
        "\n",
        "한마디로 하락세였다.\n",
        "\n",
        "따라서 기사 공유 횟수의 증가를 위해 독자들이 관심있어하는 주제인 'Lifestyle'에 대한 기사를 좀더 신경써서 발행할 필요가 있어보인다.\n",
        "\n",
        "또한 긍정적인 단어의 비중이 부정적인 단어 보다 높았던 기사가 기사 공유 횟수가 높게 나타난 것을 보아 기사 작성시 긍정적인 단어를 사용하는 것을 고려해볼 필요가 있다.\n",
        "\n",
        "마지막으로 데이터 분석결과 큰 영향력은 없다고 나타났지만 미세한 영향력을 가지고 있기 때문에 전체적인 기사들이 평균적으로 4.9개의 시각적 자료를 사용한 반면 상위 10%의 기사들이 평균적으로 6.3개의 시각적 자료를 사용했다고 하니 시각적 자료의 적절한 사용도 고려해야한다. \n"
      ]
    }
  ]
}